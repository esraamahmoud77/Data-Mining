{
  "cells": [
    {
      "cell_type": "markdown",
      "metadata": {
        "id": "k8UzJdmzwwtN"
      },
      "source": [
        "# Problem Formulation"
      ]
    },
    {
      "cell_type": "markdown",
      "metadata": {
        "id": "6e3wY2jNxza-"
      },
      "source": [
        ">**The problem:** \n",
        "\n",
        "This is a bioassay task for anticancer activity prediction, where we need to know if  the chemical compound is positive against non-small cell lung cancer, or negative otherwise.\n",
        "\n",
        ">**input:**\n",
        "\n",
        "A dataset where each chemical compound is represented as a graph, with atoms representing nodes and bonds as edges.The input file is structure data file (SDF).\n",
        "\n",
        ">**output:**\n",
        "\n",
        "Predictions of anticancer activity prediction task (labels) where:\n",
        "* 1 means possitive\n",
        "* 0 means negative\n",
        "\n",
        "\n",
        ">**Data Minning Function**\n",
        "\n",
        "This is a classification & prediction task.\n",
        "\n",
        "\n",
        ">**The challanges could be**\n",
        "\n",
        "dealing with SDF format, dealing with graphs, feature selection, feature engineering, not enough training data, data imbalance, overfitting or underfitting.\n",
        "\n",
        "\n",
        "> **The impact:**\n",
        "\n",
        "This can be very useful application of finding the best treatment for lung cancer patients, and in general this could save e lot of effort and time for patients with cancer instead of trying many treatment protocols on them which is very exhausting process.\n",
        "\n",
        "\n",
        "\n",
        "> **The ideal solution**\n",
        "\n",
        "is to select and design a machine learning model that predict the best chemical compund that is most effective in lung cancer treatment."
      ]
    },
    {
      "cell_type": "markdown",
      "metadata": {
        "id": "QC73uW7J1m8V"
      },
      "source": [
        "# Questions ❓"
      ]
    },
    {
      "cell_type": "markdown",
      "metadata": {
        "id": "icJjZoFY1upo"
      },
      "source": [
        "> 🌈 Based on the provided template, describe the format of the input file (sdf file).\n",
        "\n",
        "* It's a chemical-data file formats that contains multiple records delimited by lines consisting of four dollar signs `$$$$`. It stores multiple molecules in a single file .It also store information about position of chemical compound atoms and the connections betwwen them.\n",
        "\n",
        "* Each molecule starts with the name of the compound. Other sections includes information about Atom count, version number, edge connections.\n",
        "- 1st block is atom block contains elements of the compound (nodes).\n",
        "- 2nd block is bond block contains the bonds between atoms of the compound (edges). \n",
        "\n",
        "> 🌈 What are the input tensors to the neural network model (their meaning, not just symbol)? What is each of their dims and their meaning (e.g. batch_size)?\n",
        "\n",
        "The input tensors in this network are:\n",
        "\n",
        "* data: It contains the tokenized chemical compound atoms(nodes). Each compound's nodes are retrieved, tokenized with the help of a tokenizer, and then padded using the pad_sequence technique. Each batch has the shape [batch_size*max_len_nodes], where `batch_size` denotes the number of samples in the batch and `max_len_nodes` denotes the length of tokenized nodes following padding.\n",
        "\n",
        "* edge: It's the input tensor that contains information on atom connections. Edges have the shape [sum_of_all_edges,2]. The number of edges in each sample is represented by the total of all edges, or batch size.\n",
        "\n",
        "* node2graph: This input tensor, which provides details about segmented ids, is used for segmented mean. Each batch has the shape [batch_size*max_len_nodes], where `batch_size` denotes the number of samples in the batch and `max_len_nodes` denotes the length of tokenized nodes following padding.\n",
        "\n",
        "> 🌈 For each dim of gnn_out, what does it symbolize? For each dim of avg, what does it symbolize?\n",
        "\n",
        "* gnn_out: The shape of the `gnn_out` is [batch_size_node_dimension,hidden layers], where `batch_size_node_dimension` is the dimension of the input data (node) vector (dimension of tokenized vector for the entire batch). It represents the model's aggregation output for each hidden layer.\n",
        "\n",
        "*  avg: Average computes the segmented mean of the `gnn_out` based on the segmented ids. The output of `gnn_out` for each sample in the `batch_size` is [tokenized_vector_dimension, hidden_layers]. Each sample has a unique segment id. Thus, `segment_mean` takes the mean of all the output data in the `gnn_out` output and represents one sample with one number for each hidden layer. The average tensor's final output is of the form [batch_size, hidden_layer]. It is a method of collecting information for each sample and presenting it as mean data.\n",
        "\n",
        "\n",
        "> 🌈 What is the difference between segment_mean and tf.reduce_mean? For each dim of pred, what does it symbolize?\n",
        "\n",
        "* segment_mean computes the mean of data with the same segmented ids.\n",
        "\n",
        "* reduce_mean: computes the mean of a tensor's elements across dimensions given the parameters.\n",
        "  - To calculate the mean of tensor elements along various dimensions of the tensor, we used the TensorFlow reduce_mean method.\n",
        "\n",
        "* pred: The final output (pred) indicates whether a chemical substance is active for cancer cells or not. Pred has the shape [batch_size,1]. Thus, the final output for each sample is a number that represents the probability of each chemical compound's activity.\n",
        "\n",
        "> 🌈 What is the motivation/theory/idea to use multiple gcn layers comparing to just one? How many layers were used in the template?\n",
        "\n",
        "* As Graph Convolutional Networks (GCNs) are a type of neural network that can operate on graph-structured data such as social networks or citation networks. By stacking multiple GCN layers, the information can be propagated across far reaches of a graph, which makes GCNs capable of learning from both content information as well as graph structure. In particular, GCN has a powerful ability to model higher-order neighborhood interactions by stacking multiple layers. Therefore, using multiple GCN layers can help capture more complex patterns in the data and improve the performance of the model.\n",
        "\n",
        "* 4 layers were used in thr=e template  \n"
      ]
    },
    {
      "cell_type": "markdown",
      "metadata": {
        "id": "RxDD8tJrKJf_"
      },
      "source": [
        "# Implementation ⏭"
      ]
    },
    {
      "cell_type": "markdown",
      "metadata": {
        "id": "CiIjDA2jLn8v"
      },
      "source": [
        "## Important libraries"
      ]
    },
    {
      "cell_type": "code",
      "execution_count": 1,
      "metadata": {
        "colab": {
          "base_uri": "https://localhost:8080/"
        },
        "id": "_WOIa8F7LM38",
        "outputId": "57a04e3e-48b5-4145-ff74-2101b34a7826"
      },
      "outputs": [
        {
          "name": "stdout",
          "output_type": "stream",
          "text": [
            "Mounted at /content/gdrive\n"
          ]
        }
      ],
      "source": [
        "from google.colab import drive\n",
        "drive.mount('/content/gdrive')"
      ]
    },
    {
      "cell_type": "code",
      "execution_count": 2,
      "metadata": {
        "colab": {
          "base_uri": "https://localhost:8080/"
        },
        "id": "dHSvljdCLDwQ",
        "outputId": "93cdd34c-1284-49cf-8dc7-412ccb096490"
      },
      "outputs": [
        {
          "name": "stdout",
          "output_type": "stream",
          "text": [
            "\u001b[2K     \u001b[90m━━━━━━━━━━━━━━━━━━━━━━━━━━━━━━━━━━━━━━━━\u001b[0m \u001b[32m54.9/54.9 kB\u001b[0m \u001b[31m2.6 MB/s\u001b[0m eta \u001b[36m0:00:00\u001b[0m\n",
            "\u001b[?25h  Preparing metadata (setup.py) ... \u001b[?25l\u001b[?25hdone\n",
            "\u001b[2K     \u001b[90m━━━━━━━━━━━━━━━━━━━━━━━━━━━━━━━━━━━━━━━━\u001b[0m \u001b[32m73.3/73.3 kB\u001b[0m \u001b[31m3.8 MB/s\u001b[0m eta \u001b[36m0:00:00\u001b[0m\n",
            "\u001b[2K     \u001b[90m━━━━━━━━━━━━━━━━━━━━━━━━━━━━━━━━━━━━━━\u001b[0m \u001b[32m388.0/388.0 kB\u001b[0m \u001b[31m11.7 MB/s\u001b[0m eta \u001b[36m0:00:00\u001b[0m\n",
            "\u001b[2K     \u001b[90m━━━━━━━━━━━━━━━━━━━━━━━━━━━━━━━━━━━━━━━━\u001b[0m \u001b[32m1.3/1.3 MB\u001b[0m \u001b[31m41.4 MB/s\u001b[0m eta \u001b[36m0:00:00\u001b[0m\n",
            "\u001b[?25h  Preparing metadata (setup.py) ... \u001b[?25l\u001b[?25hdone\n",
            "\u001b[2K     \u001b[90m━━━━━━━━━━━━━━━━━━━━━━━━━━━━━━━━━━━━━━━\u001b[0m \u001b[32m135.5/135.5 kB\u001b[0m \u001b[31m3.9 MB/s\u001b[0m eta \u001b[36m0:00:00\u001b[0m\n",
            "\u001b[2K     \u001b[90m━━━━━━━━━━━━━━━━━━━━━━━━━━━━━━━━━━━━━━━━\u001b[0m \u001b[32m90.0/90.0 kB\u001b[0m \u001b[31m4.5 MB/s\u001b[0m eta \u001b[36m0:00:00\u001b[0m\n",
            "\u001b[2K     \u001b[90m━━━━━━━━━━━━━━━━━━━━━━━━━━━━━━━━━━━━━━\u001b[0m \u001b[32m173.9/173.9 kB\u001b[0m \u001b[31m12.9 MB/s\u001b[0m eta \u001b[36m0:00:00\u001b[0m\n",
            "\u001b[2K     \u001b[90m━━━━━━━━━━━━━━━━━━━━━━━━━━━━━━━━━━━━━━━━\u001b[0m \u001b[32m41.7/41.7 kB\u001b[0m \u001b[31m2.6 MB/s\u001b[0m eta \u001b[36m0:00:00\u001b[0m\n",
            "\u001b[?25h  Building wheel for tf2_gnn (setup.py) ... \u001b[?25l\u001b[?25hdone\n",
            "  Building wheel for docopt (setup.py) ... \u001b[?25l\u001b[?25hdone\n"
          ]
        }
      ],
      "source": [
        "!pip install --quiet tf2_gnn"
      ]
    },
    {
      "cell_type": "code",
      "execution_count": 20,
      "metadata": {
        "id": "vYlRLBWjKcXO"
      },
      "outputs": [],
      "source": [
        "import numpy as np \n",
        "import pandas as pd \n",
        "import seaborn as sns \n",
        "import matplotlib.pyplot as plt \n",
        "%matplotlib inline\n",
        "import sklearn\n",
        "from sklearn.model_selection import train_test_split, cross_val_score, KFold\n",
        "from sklearn.metrics import classification_report, confusion_matrix, roc_curve, precision_score, recall_score, f1_score, precision_recall_curve\n",
        "from tqdm.notebook import tqdm\n",
        "import os\n",
        "import math\n",
        "sns.set()\n",
        "\n",
        "from sklearn.pipeline import make_pipeline\n",
        "from sklearn.preprocessing import StandardScaler, LabelEncoder, OneHotEncoder\n",
        "from time import time\n",
        "from sklearn.decomposition import PCA\n",
        "from sklearn.pipeline import Pipeline\n",
        "from sklearn.utils import resample \n",
        "import tensorflow as tf\n",
        "from tensorflow.math import segment_mean\n",
        "from tensorflow import keras\n",
        "from tensorflow.keras import Input, Model\n",
        "from tensorflow.keras.layers import Embedding, Dense\n",
        "from tensorflow.keras.optimizers import Adam\n",
        "\n",
        "from tensorflow.keras.layers import Conv2D, MaxPool2D\n",
        "from tensorflow.keras.layers import Flatten, Dropout\n",
        "from tensorflow.keras.layers import GRU, LSTM, Bidirectional\n",
        "from tensorflow.keras.preprocessing.text import Tokenizer\n",
        "from tf2_gnn.layers.gnn import GNN, GNNInput\n",
        "from tf2_gnn.layers.message_passing import GNN_Edge_MLP, GNN_FiLM\n",
        "\n",
        "import warnings\n",
        "warnings.filterwarnings('ignore')\n",
        "\n",
        "pd.options.display.max_columns = 100\n",
        "pd.options.display.max_rows = 300\n",
        "pd.options.display.max_colwidth = 100\n",
        "np.set_printoptions(threshold=2000)\n",
        "\n",
        "from tensorflow.keras.preprocessing.sequence import pad_sequences\n",
        "import random\n",
        "random.seed(10)\n",
        "\n",
        "!pip install --quiet tf2_gnn\n",
        "from tf2_gnn.layers.gnn import GNN, GNNInput"
      ]
    },
    {
      "cell_type": "markdown",
      "metadata": {
        "id": "ZBvaCsMDMP4O"
      },
      "source": [
        "## Loading data"
      ]
    },
    {
      "cell_type": "code",
      "execution_count": 4,
      "metadata": {
        "id": "1I63xQCzNA78"
      },
      "outputs": [],
      "source": [
        "# A function to read sdf files\n",
        "\n",
        "def read_sdf(file):\n",
        "    with open(file, 'r') as rf:\n",
        "        content = rf.read()\n",
        "    samples = content.split('$$$$') ## split values by '$$$$' and put them in a list\n",
        "\n",
        "\n",
        "## A function to analyze the file content (samples)\n",
        "    def parse_sample(s):\n",
        "        lines = s.splitlines() ## divide it to lines\n",
        "        links = []            ## a list to contain edges\n",
        "        nodes = []\n",
        "        label = 0\n",
        "        for l in lines:\n",
        "          # label conversion\n",
        "            if l.strip() == '1.0':\n",
        "                label = 1\n",
        "            if l.strip() == '-1.0':\n",
        "                label = 0\n",
        "              # lines of nodes starts with 4 spaces\n",
        "            if l.startswith('    '):\n",
        "                feature = l.split()\n",
        "                node = feature[3]  # the symbols of chemical elements\n",
        "                nodes.append(node)\n",
        "              # lines of edges starts with 2 spaces\n",
        "            elif l.startswith(' '):\n",
        "                lnk = l.split()\n",
        "                # edge: (from, to,) (1-based index)\n",
        "                if int(lnk[0]) - 1 < len(nodes):\n",
        "                    links.append((\n",
        "                        int(lnk[0])-1, \n",
        "                        int(lnk[1])-1, # zero-based index\n",
        "                        # int(lnk[2]) ignore edge weight\n",
        "                    ))\n",
        "        return nodes, np.array(links), label\n",
        "    \n",
        "    return [parse_sample(s) for s in tqdm(samples) if len(s[0]) > 0]\n",
        "                "
      ]
    },
    {
      "cell_type": "code",
      "execution_count": 5,
      "metadata": {
        "colab": {
          "base_uri": "https://localhost:8080/",
          "height": 81,
          "referenced_widgets": [
            "a918a40a5f1c4f90a0a3228756b98aa4",
            "83de2a2a31d4470abcfd8effb9dde815",
            "4703adaa0e934693ac93ef83cda18391",
            "8bab2f05b04e4daa8516dacf906a05c2",
            "90f08749c2c04066be6f54527a8c37a0",
            "54298f85799a4ba28f42b84b99300550",
            "e8e8becc624a45b691c188849b485f65",
            "a74a20e9a7d8456db86ed91de1dd6315",
            "8fb16eaa4319457f9f3551bd96166af7",
            "b3862bd8e79a4998b0dda0a2bb723581",
            "05f72766539c4ef8b618a8875d1d364c",
            "5da15f791090436b82d79229096abac8",
            "110d35abed8c4a498a7141b6481aa158",
            "9f542dd37a8e4753948a95d103dc88f4",
            "226036de4a0a4fc59aa579abc4e21939",
            "9ee980dc1cb141bcac14e72d53e62300",
            "0cf1bf1305274760a3ba0eb8247a3d91",
            "fdf0968e008e4091b47cec0593311c24",
            "246971be9b8a40359611a46c7254eef2",
            "6c99511dfc7c490b93c30341882dd729",
            "9533476c6fdd4e1fbe32cb14a7a41b5d",
            "ac8f51474ec347589bac8f71968a8eab"
          ]
        },
        "id": "DoEboSakMaYO",
        "outputId": "c802c2dc-d34f-4cba-e7f3-bf067d0aee00"
      },
      "outputs": [
        {
          "data": {
            "application/vnd.jupyter.widget-view+json": {
              "model_id": "a918a40a5f1c4f90a0a3228756b98aa4",
              "version_major": 2,
              "version_minor": 0
            },
            "text/plain": [
              "  0%|          | 0/25024 [00:00<?, ?it/s]"
            ]
          },
          "metadata": {},
          "output_type": "display_data"
        },
        {
          "data": {
            "application/vnd.jupyter.widget-view+json": {
              "model_id": "5da15f791090436b82d79229096abac8",
              "version_major": 2,
              "version_minor": 0
            },
            "text/plain": [
              "  0%|          | 0/12326 [00:00<?, ?it/s]"
            ]
          },
          "metadata": {},
          "output_type": "display_data"
        }
      ],
      "source": [
        "train = read_sdf('/content/gdrive/MyDrive/competition 5/train.sdf')\n",
        "test = read_sdf('/content/gdrive/MyDrive/competition 5/test_x.sdf')"
      ]
    },
    {
      "cell_type": "code",
      "execution_count": 6,
      "metadata": {
        "colab": {
          "base_uri": "https://localhost:8080/"
        },
        "id": "9RTt16pWMhji",
        "outputId": "a891ef5d-39aa-426d-897b-7d46b04a736f"
      },
      "outputs": [
        {
          "name": "stdout",
          "output_type": "stream",
          "text": [
            "[(['S', 'O', 'O', 'O', 'O', 'N', 'N', 'N', 'C', 'C', 'C', 'C', 'C', 'C', 'C', 'C', 'C', 'C', 'C', 'C', 'C', 'C', 'C', 'C', 'C'], array([[ 0,  8],\n",
            "       [ 0, 14],\n",
            "       [ 1, 10],\n",
            "       [ 2, 11],\n",
            "       [ 3,  7],\n",
            "       [ 4,  7],\n",
            "       [ 5,  9],\n",
            "       [ 5, 14],\n",
            "       [ 6, 14],\n",
            "       [ 6, 17],\n",
            "       [ 7, 22],\n",
            "       [ 8,  9],\n",
            "       [ 8, 10],\n",
            "       [ 9, 11],\n",
            "       [10, 12],\n",
            "       [11, 13],\n",
            "       [12, 13],\n",
            "       [12, 15],\n",
            "       [13, 16],\n",
            "       [15, 18],\n",
            "       [16, 19],\n",
            "       [17, 20],\n",
            "       [17, 21],\n",
            "       [18, 19],\n",
            "       [20, 23],\n",
            "       [21, 24],\n",
            "       [22, 23],\n",
            "       [22, 24]]), 0), (['O', 'O', 'O', 'O', 'O', 'O', 'N', 'N', 'N', 'C', 'C', 'C', 'C', 'C', 'C', 'C', 'C', 'C', 'C', 'C', 'C', 'C', 'C', 'C', 'C', 'C', 'C', 'C', 'C', 'C', 'C'], array([[ 0,  6],\n",
            "       [ 0, 15],\n",
            "       [ 1, 15],\n",
            "       [ 2,  7],\n",
            "       [ 3,  8],\n",
            "       [ 4,  7],\n",
            "       [ 5,  8],\n",
            "       [ 6,  9],\n",
            "       [ 7, 16],\n",
            "       [ 8, 17],\n",
            "       [ 9, 10],\n",
            "       [ 9, 11],\n",
            "       [10, 12],\n",
            "       [10, 22],\n",
            "       [11, 13],\n",
            "       [11, 23],\n",
            "       [12, 21],\n",
            "       [12, 25],\n",
            "       [13, 20],\n",
            "       [13, 26],\n",
            "       [14, 15],\n",
            "       [14, 18],\n",
            "       [14, 19],\n",
            "       [16, 19],\n",
            "       [16, 24],\n",
            "       [17, 18],\n",
            "       [17, 24],\n",
            "       [20, 21],\n",
            "       [22, 27],\n",
            "       [23, 28],\n",
            "       [25, 29],\n",
            "       [26, 30],\n",
            "       [27, 29],\n",
            "       [28, 30]]), 0), (['F', 'F', 'F', 'O', 'O', 'O', 'O', 'O', 'N', 'N', 'C', 'C', 'C', 'C', 'C', 'C', 'C', 'C', 'C', 'C', 'C', 'C', 'C', 'C', 'C', 'C', 'C', 'C', 'C', 'C', 'C', 'C', 'C', 'C'], array([[ 0, 19],\n",
            "       [ 1, 19],\n",
            "       [ 2, 19],\n",
            "       [ 3, 16],\n",
            "       [ 4, 28],\n",
            "       [ 4, 32],\n",
            "       [ 5, 28],\n",
            "       [ 6, 29],\n",
            "       [ 6, 33],\n",
            "       [ 7, 29],\n",
            "       [ 8, 10],\n",
            "       [ 8, 13],\n",
            "       [ 8, 16],\n",
            "       [ 9, 12],\n",
            "       [ 9, 18],\n",
            "       [10, 11],\n",
            "       [10, 12],\n",
            "       [11, 14],\n",
            "       [11, 20],\n",
            "       [12, 15],\n",
            "       [13, 14],\n",
            "       [13, 21],\n",
            "       [14, 22],\n",
            "       [15, 17],\n",
            "       [15, 23],\n",
            "       [16, 19],\n",
            "       [17, 18],\n",
            "       [17, 24],\n",
            "       [18, 25],\n",
            "       [20, 28],\n",
            "       [21, 26],\n",
            "       [22, 27],\n",
            "       [23, 29],\n",
            "       [24, 30],\n",
            "       [25, 31],\n",
            "       [26, 27],\n",
            "       [30, 31]]), 0), (['Cl', 'S', 'S', 'O', 'O', 'O', 'O', 'N', 'N', 'N', 'N', 'C', 'C', 'C', 'C', 'C', 'C', 'C', 'C', 'C', 'C', 'C', 'C', 'C', 'C', 'C', 'C', 'C', 'C', 'C'], array([[ 0, 12],\n",
            "       [ 1, 15],\n",
            "       [ 1, 18],\n",
            "       [ 2,  4],\n",
            "       [ 2,  5],\n",
            "       [ 2,  6],\n",
            "       [ 2, 23],\n",
            "       [ 3, 13],\n",
            "       [ 7, 11],\n",
            "       [ 7, 13],\n",
            "       [ 7, 15],\n",
            "       [ 8,  9],\n",
            "       [ 8, 11],\n",
            "       [ 8, 17],\n",
            "       [ 9, 16],\n",
            "       [10, 15],\n",
            "       [10, 19],\n",
            "       [11, 12],\n",
            "       [11, 14],\n",
            "       [12, 13],\n",
            "       [14, 16],\n",
            "       [16, 22],\n",
            "       [17, 20],\n",
            "       [17, 21],\n",
            "       [18, 19],\n",
            "       [18, 26],\n",
            "       [19, 27],\n",
            "       [20, 24],\n",
            "       [21, 25],\n",
            "       [23, 24],\n",
            "       [23, 25],\n",
            "       [26, 28],\n",
            "       [27, 29],\n",
            "       [28, 29]]), 0), (['S', 'O', 'O', 'N', 'N', 'N', 'N', 'N', 'N', 'C', 'C', 'C', 'C', 'C', 'C', 'C', 'C', 'C', 'C', 'C'], array([[ 0,  1],\n",
            "       [ 0,  2],\n",
            "       [ 0,  5],\n",
            "       [ 0,  9],\n",
            "       [ 3,  4],\n",
            "       [ 3, 10],\n",
            "       [ 4, 16],\n",
            "       [ 6, 13],\n",
            "       [ 6, 18],\n",
            "       [ 7, 17],\n",
            "       [ 7, 19],\n",
            "       [ 8, 16],\n",
            "       [ 9, 11],\n",
            "       [ 9, 12],\n",
            "       [10, 14],\n",
            "       [10, 15],\n",
            "       [11, 14],\n",
            "       [12, 15],\n",
            "       [13, 16],\n",
            "       [13, 17],\n",
            "       [18, 19]]), 0), (['O', 'O', 'N', 'N', 'N', 'N', 'C', 'C', 'C', 'C', 'C', 'C', 'C', 'C'], array([[ 0,  9],\n",
            "       [ 0, 13],\n",
            "       [ 1,  8],\n",
            "       [ 2,  8],\n",
            "       [ 2,  9],\n",
            "       [ 2, 12],\n",
            "       [ 3,  7],\n",
            "       [ 3,  9],\n",
            "       [ 4,  6],\n",
            "       [ 4, 10],\n",
            "       [ 5,  7],\n",
            "       [ 5, 11],\n",
            "       [ 6,  7],\n",
            "       [ 6,  8],\n",
            "       [10, 11]]), 0), (['O', 'O', 'O', 'O', 'O', 'O', 'O', 'O', 'O', 'O', 'O', 'O', 'O', 'O', 'O', 'O', 'O', 'O', 'O', 'O', 'O', 'O', 'O', 'O', 'O', 'O', 'O', 'C', 'C', 'C', 'C', 'C', 'C', 'C', 'C', 'C', 'C', 'C', 'C', 'C', 'C', 'C', 'C', 'C', 'C', 'C', 'C', 'C', 'C', 'C', 'C', 'C', 'C', 'C', 'C', 'C', 'C', 'C', 'C', 'C', 'C', 'C', 'C', 'C', 'C', 'C', 'C', 'C'], array([[ 0, 29],\n",
            "       [ 0, 43],\n",
            "       [ 1, 33],\n",
            "       [ 1, 39],\n",
            "       [ 2, 34],\n",
            "       [ 2, 44],\n",
            "       [ 3, 31],\n",
            "       [ 3, 48],\n",
            "       [ 4, 41],\n",
            "       [ 4, 42],\n",
            "       [ 5, 42],\n",
            "       [ 5, 60],\n",
            "       [ 6, 53],\n",
            "       [ 6, 57],\n",
            "       [ 7, 35],\n",
            "       [ 8, 38],\n",
            "       [ 9, 39],\n",
            "       [10, 43],\n",
            "       [11, 44],\n",
            "       [12, 46],\n",
            "       [13, 48],\n",
            "       [14, 49],\n",
            "       [15, 50],\n",
            "       [16, 51],\n",
            "       [17, 53],\n",
            "       [18, 55],\n",
            "       [19, 56],\n",
            "       [20, 59],\n",
            "       [21, 60],\n",
            "       [22, 61],\n",
            "       [23, 61],\n",
            "       [24, 65],\n",
            "       [25, 66],\n",
            "       [26, 67],\n",
            "       [27, 28],\n",
            "       [27, 29],\n",
            "       [27, 30],\n",
            "       [28, 32],\n",
            "       [28, 35],\n",
            "       [29, 38],\n",
            "       [30, 39],\n",
            "       [30, 45],\n",
            "       [31, 33],\n",
            "       [31, 34],\n",
            "       [32, 44],\n",
            "       [32, 54],\n",
            "       [33, 42],\n",
            "       [34, 41],\n",
            "       [35, 43],\n",
            "       [36, 37],\n",
            "       [36, 40],\n",
            "       [36, 49],\n",
            "       [37, 47],\n",
            "       [37, 50],\n",
            "       [38, 46],\n",
            "       [40, 48],\n",
            "       [40, 52],\n",
            "       [41, 57],\n",
            "       [45, 46],\n",
            "       [47, 53],\n",
            "       [47, 58],\n",
            "       [49, 51],\n",
            "       [50, 55],\n",
            "       [51, 56],\n",
            "       [52, 56],\n",
            "       [54, 61],\n",
            "       [55, 59],\n",
            "       [58, 59],\n",
            "       [60, 62],\n",
            "       [62, 63],\n",
            "       [62, 64],\n",
            "       [63, 66],\n",
            "       [64, 65],\n",
            "       [65, 67],\n",
            "       [66, 67]]), 0)]\n"
          ]
        }
      ],
      "source": [
        "# check data \n",
        "print(train[0:7])"
      ]
    },
    {
      "cell_type": "markdown",
      "metadata": {
        "id": "zGU_N_m6QtI-"
      },
      "source": [
        "## Data Visualization"
      ]
    },
    {
      "cell_type": "code",
      "execution_count": 7,
      "metadata": {
        "id": "HVjKung-QwcD"
      },
      "outputs": [],
      "source": [
        "!pip install --quiet networkx"
      ]
    },
    {
      "cell_type": "code",
      "execution_count": 8,
      "metadata": {
        "id": "FhZvu7_6Q1xQ"
      },
      "outputs": [],
      "source": [
        "import networkx as nx\n",
        "import matplotlib.pyplot as plt\n",
        "from matplotlib import cm\n",
        "colors = cm.Spectral(np.linspace(0, 1, 70))"
      ]
    },
    {
      "cell_type": "code",
      "execution_count": 9,
      "metadata": {
        "id": "zkTwXJ8NRr-_"
      },
      "outputs": [],
      "source": [
        "# A function to visualize samples\n",
        "def visualize(sample):\n",
        "  # Graph instance\n",
        "    graph=nx.Graph()\n",
        "    nodes = sample[0]  # fisrt feature is nodes\n",
        "    edges = sample[1]  # second feature is edges\n",
        "\n",
        "    # A dictionary to represent node symbols with numbers \n",
        "    labeldict={}\n",
        "    node_color=[]\n",
        "    for i,n in enumerate(nodes):\n",
        "        graph.add_node(i)\n",
        "        labeldict[i]=n\n",
        "        # color coding for each node\n",
        "        node_color.append(colors[hash(n)%len(colors)])\n",
        "\n",
        "    # a list of nodes:\n",
        "    for e in edges:\n",
        "        graph.add_edge(e[0], e[1])\n",
        "        \n",
        "    nx.draw_networkx(graph, labels=labeldict, with_labels = True, node_color = node_color)\n",
        "    plt.show()\n",
        "    \n",
        "    return graph"
      ]
    },
    {
      "cell_type": "code",
      "execution_count": 10,
      "metadata": {
        "colab": {
          "base_uri": "https://localhost:8080/",
          "height": 424
        },
        "id": "E0pTwALZTTrX",
        "outputId": "ddf6be27-7cbc-4f3b-ff09-f0f372b5d73d"
      },
      "outputs": [
        {
          "data": {
            "image/png": "[encoded data removed]",
            "text/plain": [
              "<Figure size 640x480 with 1 Axes>"
            ]
          },
          "metadata": {},
          "output_type": "display_data"
        },
        {
          "data": {
            "text/plain": [
              "<networkx.classes.graph.Graph at 0x7f45e6633a30>"
            ]
          },
          "execution_count": 10,
          "metadata": {},
          "output_type": "execute_result"
        }
      ],
      "source": [
        "plt.clf()\n",
        "visualize(train[7])"
      ]
    },
    {
      "cell_type": "code",
      "execution_count": 11,
      "metadata": {
        "id": "4f1ZEQDuTgeF"
      },
      "outputs": [],
      "source": [
        "# convert train into DataFrame\n",
        "train_df = pd.DataFrame(train, columns=['node','edge','label']) "
      ]
    },
    {
      "cell_type": "code",
      "execution_count": 12,
      "metadata": {
        "colab": {
          "base_uri": "https://localhost:8080/",
          "height": 537
        },
        "id": "4lINdwi1WAz5",
        "outputId": "a7dbcc60-f542-446f-c186-c738ae6ac0fc"
      },
      "outputs": [
        {
          "data": {
            "text/html": [
              "\n",
              "  <div id=\"df-0591a8a8-9bce-4751-8e79-66db1c476730\">\n",
              "    <div class=\"colab-df-container\">\n",
              "      <div>\n",
              "<style scoped>\n",
              "    .dataframe tbody tr th:only-of-type {\n",
              "        vertical-align: middle;\n",
              "    }\n",
              "\n",
              "    .dataframe tbody tr th {\n",
              "        vertical-align: top;\n",
              "    }\n",
              "\n",
              "    .dataframe thead th {\n",
              "        text-align: right;\n",
              "    }\n",
              "</style>\n",
              "<table border=\"1\" class=\"dataframe\">\n",
              "  <thead>\n",
              "    <tr style=\"text-align: right;\">\n",
              "      <th></th>\n",
              "      <th>node</th>\n",
              "      <th>edge</th>\n",
              "      <th>label</th>\n",
              "    </tr>\n",
              "  </thead>\n",
              "  <tbody>\n",
              "    <tr>\n",
              "      <th>0</th>\n",
              "      <td>[S, O, O, O, O, N, N, N, C, C, C, C, C, C, C, C, C, C, C, C, C, C, C, C, C]</td>\n",
              "      <td>[[0, 8], [0, 14], [1, 10], [2, 11], [3, 7], [4, 7], [5, 9], [5, 14], [6, 14], [6, 17], [7, 22], ...</td>\n",
              "      <td>0</td>\n",
              "    </tr>\n",
              "    <tr>\n",
              "      <th>1</th>\n",
              "      <td>[O, O, O, O, O, O, N, N, N, C, C, C, C, C, C, C, C, C, C, C, C, C, C, C, C, C, C, C, C, C, C]</td>\n",
              "      <td>[[0, 6], [0, 15], [1, 15], [2, 7], [3, 8], [4, 7], [5, 8], [6, 9], [7, 16], [8, 17], [9, 10], [9...</td>\n",
              "      <td>0</td>\n",
              "    </tr>\n",
              "    <tr>\n",
              "      <th>2</th>\n",
              "      <td>[F, F, F, O, O, O, O, O, N, N, C, C, C, C, C, C, C, C, C, C, C, C, C, C, C, C, C, C, C, C, C, C,...</td>\n",
              "      <td>[[0, 19], [1, 19], [2, 19], [3, 16], [4, 28], [4, 32], [5, 28], [6, 29], [6, 33], [7, 29], [8, 1...</td>\n",
              "      <td>0</td>\n",
              "    </tr>\n",
              "    <tr>\n",
              "      <th>3</th>\n",
              "      <td>[Cl, S, S, O, O, O, O, N, N, N, N, C, C, C, C, C, C, C, C, C, C, C, C, C, C, C, C, C, C, C]</td>\n",
              "      <td>[[0, 12], [1, 15], [1, 18], [2, 4], [2, 5], [2, 6], [2, 23], [3, 13], [7, 11], [7, 13], [7, 15],...</td>\n",
              "      <td>0</td>\n",
              "    </tr>\n",
              "    <tr>\n",
              "      <th>4</th>\n",
              "      <td>[S, O, O, N, N, N, N, N, N, C, C, C, C, C, C, C, C, C, C, C]</td>\n",
              "      <td>[[0, 1], [0, 2], [0, 5], [0, 9], [3, 4], [3, 10], [4, 16], [6, 13], [6, 18], [7, 17], [7, 19], [...</td>\n",
              "      <td>0</td>\n",
              "    </tr>\n",
              "    <tr>\n",
              "      <th>...</th>\n",
              "      <td>...</td>\n",
              "      <td>...</td>\n",
              "      <td>...</td>\n",
              "    </tr>\n",
              "    <tr>\n",
              "      <th>25019</th>\n",
              "      <td>[O, O, O, O, O, O, N, N, C, C, C, C, C, C, C, C, C, C, C, C, C, C]</td>\n",
              "      <td>[[0, 8], [0, 14], [1, 10], [2, 12], [3, 13], [4, 7], [5, 7], [6, 8], [6, 9], [6, 15], [7, 18], [...</td>\n",
              "      <td>0</td>\n",
              "    </tr>\n",
              "    <tr>\n",
              "      <th>25020</th>\n",
              "      <td>[O, O, O, O, O, N, C, C, C, C, C, C, C, C, C, C, C, C, C, C, C]</td>\n",
              "      <td>[[0, 9], [1, 11], [2, 16], [2, 19], [3, 16], [4, 15], [5, 18], [6, 7], [6, 8], [6, 13], [7, 10],...</td>\n",
              "      <td>0</td>\n",
              "    </tr>\n",
              "    <tr>\n",
              "      <th>25021</th>\n",
              "      <td>[O, O, O, O, O, O, O, O, O, N, C, C, C, C, C, C, C, C, C, C, C, C, C, C, C, C, C, C, C, C, C, C,...</td>\n",
              "      <td>[[0, 12], [0, 16], [1, 10], [2, 11], [3, 15], [4, 16], [5, 17], [6, 18], [6, 27], [7, 20], [8, 2...</td>\n",
              "      <td>0</td>\n",
              "    </tr>\n",
              "    <tr>\n",
              "      <th>25022</th>\n",
              "      <td>[S, O, O, O, O, N, N, N, C, C, C, C, C, C, C, C, C, C, C, C, C, C, C, C, C, C, C, C, C, C, C]</td>\n",
              "      <td>[[0, 11], [0, 12], [1, 21], [1, 27], [2, 22], [2, 28], [3, 21], [4, 22], [5, 8], [5, 12], [6, 13...</td>\n",
              "      <td>0</td>\n",
              "    </tr>\n",
              "    <tr>\n",
              "      <th>25023</th>\n",
              "      <td>[Cl, Cl, Cl, S, O, O, O, O, N, N, N, N, N, C, C, C, C, C, C, C, C, C, C, C, C, C, C, C, C, C, C,...</td>\n",
              "      <td>[[0, 25], [1, 26], [2, 29], [3, 13], [3, 15], [4, 14], [5, 24], [6, 12], [7, 12], [8, 13], [8, 1...</td>\n",
              "      <td>0</td>\n",
              "    </tr>\n",
              "  </tbody>\n",
              "</table>\n",
              "<p>25024 rows × 3 columns</p>\n",
              "</div>\n",
              "      <button class=\"colab-df-convert\" onclick=\"convertToInteractive('df-0591a8a8-9bce-4751-8e79-66db1c476730')\"\n",
              "              title=\"Convert this dataframe to an interactive table.\"\n",
              "              style=\"display:none;\">\n",
              "        \n",
              "  <svg xmlns=\"http://www.w3.org/2000/svg\" height=\"24px\"viewBox=\"0 0 24 24\"\n",
              "       width=\"24px\">\n",
              "    <path d=\"M0 0h24v24H0V0z\" fill=\"none\"/>\n",
              "    <path d=\"M18.56 5.44l.94 2.06.94-2.06 2.06-.94-2.06-.94-.94-2.06-.94 2.06-2.06.94zm-11 1L8.5 8.5l.94-2.06 2.06-.94-2.06-.94L8.5 2.5l-.94 2.06-2.06.94zm10 10l.94 2.06.94-2.06 2.06-.94-2.06-.94-.94-2.06-.94 2.06-2.06.94z\"/><path d=\"M17.41 7.96l-1.37-1.37c-.4-.4-.92-.59-1.43-.59-.52 0-1.04.2-1.43.59L10.3 9.45l-7.72 7.72c-.78.78-.78 2.05 0 2.83L4 21.41c.39.39.9.59 1.41.59.51 0 1.02-.2 1.41-.59l7.78-7.78 2.81-2.81c.8-.78.8-2.07 0-2.86zM5.41 20L4 18.59l7.72-7.72 1.47 1.35L5.41 20z\"/>\n",
              "  </svg>\n",
              "      </button>\n",
              "      \n",
              "  <style>\n",
              "    .colab-df-container {\n",
              "      display:flex;\n",
              "      flex-wrap:wrap;\n",
              "      gap: 12px;\n",
              "    }\n",
              "\n",
              "    .colab-df-convert {\n",
              "      background-color: #E8F0FE;\n",
              "      border: none;\n",
              "      border-radius: 50%;\n",
              "      cursor: pointer;\n",
              "      display: none;\n",
              "      fill: #1967D2;\n",
              "      height: 32px;\n",
              "      padding: 0 0 0 0;\n",
              "      width: 32px;\n",
              "    }\n",
              "\n",
              "    .colab-df-convert:hover {\n",
              "      background-color: #E2EBFA;\n",
              "      box-shadow: 0px 1px 2px rgba(60, 64, 67, 0.3), 0px 1px 3px 1px rgba(60, 64, 67, 0.15);\n",
              "      fill: #174EA6;\n",
              "    }\n",
              "\n",
              "    [theme=dark] .colab-df-convert {\n",
              "      background-color: #3B4455;\n",
              "      fill: #D2E3FC;\n",
              "    }\n",
              "\n",
              "    [theme=dark] .colab-df-convert:hover {\n",
              "      background-color: #434B5C;\n",
              "      box-shadow: 0px 1px 3px 1px rgba(0, 0, 0, 0.15);\n",
              "      filter: drop-shadow(0px 1px 2px rgba(0, 0, 0, 0.3));\n",
              "      fill: #FFFFFF;\n",
              "    }\n",
              "  </style>\n",
              "\n",
              "      <script>\n",
              "        const buttonEl =\n",
              "          document.querySelector('#df-0591a8a8-9bce-4751-8e79-66db1c476730 button.colab-df-convert');\n",
              "        buttonEl.style.display =\n",
              "          google.colab.kernel.accessAllowed ? 'block' : 'none';\n",
              "\n",
              "        async function convertToInteractive(key) {\n",
              "          const element = document.querySelector('#df-0591a8a8-9bce-4751-8e79-66db1c476730');\n",
              "          const dataTable =\n",
              "            await google.colab.kernel.invokeFunction('convertToInteractive',\n",
              "                                                     [key], {});\n",
              "          if (!dataTable) return;\n",
              "\n",
              "          const docLinkHtml = 'Like what you see? Visit the ' +\n",
              "            '<a target=\"_blank\" href=https://colab.research.google.com/notebooks/data_table.ipynb>data table notebook</a>'\n",
              "            + ' to learn more about interactive tables.';\n",
              "          element.innerHTML = '';\n",
              "          dataTable['output_type'] = 'display_data';\n",
              "          await google.colab.output.renderOutput(dataTable, element);\n",
              "          const docLink = document.createElement('div');\n",
              "          docLink.innerHTML = docLinkHtml;\n",
              "          element.appendChild(docLink);\n",
              "        }\n",
              "      </script>\n",
              "    </div>\n",
              "  </div>\n",
              "  "
            ],
            "text/plain": [
              "                                                                                                      node  \\\n",
              "0                              [S, O, O, O, O, N, N, N, C, C, C, C, C, C, C, C, C, C, C, C, C, C, C, C, C]   \n",
              "1            [O, O, O, O, O, O, N, N, N, C, C, C, C, C, C, C, C, C, C, C, C, C, C, C, C, C, C, C, C, C, C]   \n",
              "2      [F, F, F, O, O, O, O, O, N, N, C, C, C, C, C, C, C, C, C, C, C, C, C, C, C, C, C, C, C, C, C, C,...   \n",
              "3              [Cl, S, S, O, O, O, O, N, N, N, N, C, C, C, C, C, C, C, C, C, C, C, C, C, C, C, C, C, C, C]   \n",
              "4                                             [S, O, O, N, N, N, N, N, N, C, C, C, C, C, C, C, C, C, C, C]   \n",
              "...                                                                                                    ...   \n",
              "25019                                   [O, O, O, O, O, O, N, N, C, C, C, C, C, C, C, C, C, C, C, C, C, C]   \n",
              "25020                                      [O, O, O, O, O, N, C, C, C, C, C, C, C, C, C, C, C, C, C, C, C]   \n",
              "25021  [O, O, O, O, O, O, O, O, O, N, C, C, C, C, C, C, C, C, C, C, C, C, C, C, C, C, C, C, C, C, C, C,...   \n",
              "25022        [S, O, O, O, O, N, N, N, C, C, C, C, C, C, C, C, C, C, C, C, C, C, C, C, C, C, C, C, C, C, C]   \n",
              "25023  [Cl, Cl, Cl, S, O, O, O, O, N, N, N, N, N, C, C, C, C, C, C, C, C, C, C, C, C, C, C, C, C, C, C,...   \n",
              "\n",
              "                                                                                                      edge  \\\n",
              "0      [[0, 8], [0, 14], [1, 10], [2, 11], [3, 7], [4, 7], [5, 9], [5, 14], [6, 14], [6, 17], [7, 22], ...   \n",
              "1      [[0, 6], [0, 15], [1, 15], [2, 7], [3, 8], [4, 7], [5, 8], [6, 9], [7, 16], [8, 17], [9, 10], [9...   \n",
              "2      [[0, 19], [1, 19], [2, 19], [3, 16], [4, 28], [4, 32], [5, 28], [6, 29], [6, 33], [7, 29], [8, 1...   \n",
              "3      [[0, 12], [1, 15], [1, 18], [2, 4], [2, 5], [2, 6], [2, 23], [3, 13], [7, 11], [7, 13], [7, 15],...   \n",
              "4      [[0, 1], [0, 2], [0, 5], [0, 9], [3, 4], [3, 10], [4, 16], [6, 13], [6, 18], [7, 17], [7, 19], [...   \n",
              "...                                                                                                    ...   \n",
              "25019  [[0, 8], [0, 14], [1, 10], [2, 12], [3, 13], [4, 7], [5, 7], [6, 8], [6, 9], [6, 15], [7, 18], [...   \n",
              "25020  [[0, 9], [1, 11], [2, 16], [2, 19], [3, 16], [4, 15], [5, 18], [6, 7], [6, 8], [6, 13], [7, 10],...   \n",
              "25021  [[0, 12], [0, 16], [1, 10], [2, 11], [3, 15], [4, 16], [5, 17], [6, 18], [6, 27], [7, 20], [8, 2...   \n",
              "25022  [[0, 11], [0, 12], [1, 21], [1, 27], [2, 22], [2, 28], [3, 21], [4, 22], [5, 8], [5, 12], [6, 13...   \n",
              "25023  [[0, 25], [1, 26], [2, 29], [3, 13], [3, 15], [4, 14], [5, 24], [6, 12], [7, 12], [8, 13], [8, 1...   \n",
              "\n",
              "       label  \n",
              "0          0  \n",
              "1          0  \n",
              "2          0  \n",
              "3          0  \n",
              "4          0  \n",
              "...      ...  \n",
              "25019      0  \n",
              "25020      0  \n",
              "25021      0  \n",
              "25022      0  \n",
              "25023      0  \n",
              "\n",
              "[25024 rows x 3 columns]"
            ]
          },
          "execution_count": 12,
          "metadata": {},
          "output_type": "execute_result"
        }
      ],
      "source": [
        "train_df"
      ]
    },
    {
      "cell_type": "code",
      "execution_count": 13,
      "metadata": {
        "colab": {
          "base_uri": "https://localhost:8080/"
        },
        "id": "B0junmqEWELr",
        "outputId": "66dba27f-bc45-4dc5-fc2d-c81197ac9583"
      },
      "outputs": [
        {
          "data": {
            "text/plain": [
              "0    23806\n",
              "1     1218\n",
              "Name: label, dtype: int64"
            ]
          },
          "execution_count": 13,
          "metadata": {},
          "output_type": "execute_result"
        }
      ],
      "source": [
        "train_df.label.value_counts()\n",
        "# data is imbalanced I will handle it by class weights"
      ]
    },
    {
      "cell_type": "markdown",
      "metadata": {
        "id": "eutfUdw3UcbN"
      },
      "source": [
        "## Data splitting"
      ]
    },
    {
      "cell_type": "code",
      "execution_count": 14,
      "metadata": {
        "id": "OwaVXiDLUeeM"
      },
      "outputs": [],
      "source": [
        "# split data into train & validation by 85 to 15 \n",
        "training_set, validation_set = train_test_split(train, test_size=0.15)"
      ]
    },
    {
      "cell_type": "markdown",
      "metadata": {
        "id": "DaFgCiRSaFP2"
      },
      "source": [
        "## Data preprocessing"
      ]
    },
    {
      "cell_type": "code",
      "execution_count": 15,
      "metadata": {
        "id": "SHKU_ZVGlxpW"
      },
      "outputs": [],
      "source": [
        "all_nodes = [s[0] for s in training_set]\n",
        "# get max length of nodes\n",
        "longest = 0\n",
        "for value in all_nodes:\n",
        "    longest = max(longest, len(value))                                                                                                                                                                                                                             "
      ]
    },
    {
      "cell_type": "code",
      "execution_count": 16,
      "metadata": {
        "id": "7iiHlI4EaIhw"
      },
      "outputs": [],
      "source": [
        "max_vocab = 700\n",
        "max_len = longest  # max number of nodes in a molecules\n",
        "# build vocabulary from training set\n",
        "tokenizer = Tokenizer(num_words=max_vocab)\n",
        "tokenizer.fit_on_texts(all_nodes)"
      ]
    },
    {
      "cell_type": "code",
      "execution_count": 17,
      "metadata": {
        "id": "yKopo0zwmwi4"
      },
      "outputs": [],
      "source": [
        "# A function to prepare single batch\n",
        "def prepare_single_batch(samples): # samples parameter = a list of samples (molecules)\n",
        " # extract nodes symbols from each sample \n",
        "    sample_nodes = [s[0] for s in samples]  \n",
        "# tokenize nodes                   \n",
        "    sample_nodes = tokenizer.texts_to_sequences(sample_nodes)   \n",
        "# pad_sequences for post padding the nodes\n",
        "    sample_nodes = pad_sequences(sample_nodes, padding='post')  \n",
        "# max length of nodes \n",
        "    max_nodes_len = np.shape(sample_nodes)[1]                   \n",
        "#  edges\n",
        "    edges = [s[1]+i*max_nodes_len for i,s in enumerate(samples)] \n",
        "    edges = [e for e in edges if len(e) > 0]\n",
        "# segmented_ids array\n",
        "    node_to_graph = [[i]*max_nodes_len for i in range(len(samples))]  \n",
        "    all_nodes = np.reshape(sample_nodes, -1)  \n",
        "# concatenate the edges as size [total_edges ,2]\n",
        "    all_edges = np.concatenate(edges)         \n",
        "# which node belong to which graph\n",
        "    node_to_graph = np.reshape(node_to_graph, -1)\n",
        "# returns a dictionary of features(data,edges,node2grah) and label\n",
        "    return {\n",
        "        'data': all_nodes,\n",
        "        'edges': all_edges,\n",
        "        'node2grah': node_to_graph,\n",
        "    }, np.array([s[2] for s in samples]) \n",
        "\n",
        "\n",
        "# A function to generate batch with given batch_size\n",
        "def gen_batch(dataset, batch_size=16, repeat=False, shuffle=True):\n",
        "    while True:  \n",
        "      # put dataset in a list to shuffle it              \n",
        "        dataset = list(dataset) \n",
        "        if shuffle:             \n",
        "            random.shuffle(dataset) \n",
        "        l = len(dataset)  \n",
        "        for ndx in range(0, l, batch_size):  \n",
        "            batch_samples = dataset[ndx:min(ndx + batch_size, l)] \n",
        "            yield prepare_single_batch(batch_samples)  \n",
        "        if not repeat:  \n",
        "            break\n"
      ]
    },
    {
      "cell_type": "code",
      "execution_count": 22,
      "metadata": {
        "colab": {
          "base_uri": "https://localhost:8080/"
        },
        "id": "IoPKT5lcVi4P",
        "outputId": "a4966a9d-4b85-470e-9a45-28e7d599c251"
      },
      "outputs": [
        {
          "name": "stdout",
          "output_type": "stream",
          "text": [
            "data\n",
            "[2 2 2 2 2 3 3 1 1 1 1 1 1 1 1 1 1 1 1 1 1 1 1 1 0 0 2 2 2 3 3 1 1 1 1 1 1\n",
            " 1 1 1 1 1 1 1 1 1 0 0 0 0 0 0 5 2 2 3 3 3 3 3 1 1 1 1 1 1 1 1 1 1 1 1 1 1\n",
            " 1 1 1 1 5 5 3 1 1 1 1 1 1 1 1 1 1 1 1 1 1 1 1 1 0 0 0 0 0 0]\n",
            "edges\n",
            "[[ 0  7]\n",
            " [ 1 10]\n",
            " [ 2 16]\n",
            " [ 3  6]\n",
            " [ 4  6]\n",
            " [ 5 10]\n",
            " [ 5 11]\n",
            " [ 6 17]\n",
            " [ 7  8]\n",
            " [ 7  9]\n",
            " [ 7 10]\n",
            " [ 8 11]\n",
            " [ 8 15]\n",
            " [ 9 12]\n",
            " [ 9 14]\n",
            " [11 18]\n",
            " [12 13]\n",
            " [12 19]\n",
            " [13 16]\n",
            " [13 21]\n",
            " [14 16]\n",
            " [15 17]\n",
            " [17 20]\n",
            " [18 20]\n",
            " [19 22]\n",
            " [21 23]\n",
            " [22 23]\n",
            " [26 38]\n",
            " [26 44]\n",
            " [27 37]\n",
            " [28 43]\n",
            " [29 33]\n",
            " [29 34]\n",
            " [30 41]\n",
            " [30 43]\n",
            " [31 32]\n",
            " [31 33]\n",
            " [31 36]\n",
            " [32 34]\n",
            " [32 39]\n",
            " [33 35]\n",
            " [34 37]\n",
            " [35 38]\n",
            " [36 40]\n",
            " [37 42]\n",
            " [38 40]\n",
            " [39 41]\n",
            " [43 45]\n",
            " [52 75]\n",
            " [53 62]\n",
            " [54 66]\n",
            " [55 60]\n",
            " [55 61]\n",
            " [55 62]\n",
            " [56 60]\n",
            " [56 65]\n",
            " [57 58]\n",
            " [57 64]\n",
            " [58 72]\n",
            " [59 69]\n",
            " [60 63]\n",
            " [61 65]\n",
            " [61 67]\n",
            " [62 64]\n",
            " [63 66]\n",
            " [63 69]\n",
            " [64 66]\n",
            " [65 68]\n",
            " [67 70]\n",
            " [68 71]\n",
            " [70 71]\n",
            " [72 73]\n",
            " [72 74]\n",
            " [73 76]\n",
            " [74 77]\n",
            " [75 76]\n",
            " [75 77]\n",
            " [78 95]\n",
            " [79 96]\n",
            " [80 81]\n",
            " [80 91]\n",
            " [81 85]\n",
            " [81 86]\n",
            " [81 87]\n",
            " [82 85]\n",
            " [82 88]\n",
            " [82 89]\n",
            " [83 86]\n",
            " [83 88]\n",
            " [83 90]\n",
            " [84 87]\n",
            " [84 89]\n",
            " [84 90]\n",
            " [91 92]\n",
            " [92 93]\n",
            " [92 94]\n",
            " [93 96]\n",
            " [94 95]\n",
            " [95 97]\n",
            " [96 97]]\n",
            "node2grah\n",
            "[0 0 0 0 0 0 0 0 0 0 0 0 0 0 0 0 0 0 0 0 0 0 0 0 0 0 1 1 1 1 1 1 1 1 1 1 1\n",
            " 1 1 1 1 1 1 1 1 1 1 1 1 1 1 1 2 2 2 2 2 2 2 2 2 2 2 2 2 2 2 2 2 2 2 2 2 2\n",
            " 2 2 2 2 3 3 3 3 3 3 3 3 3 3 3 3 3 3 3 3 3 3 3 3 3 3 3 3 3 3]\n",
            "label [0 0 0 0]\n"
          ]
        }
      ],
      "source": [
        "# showing one batch:\n",
        "for train_batch in gen_batch(training_set, batch_size=4):\n",
        "    for k,v in train_batch[0].items():\n",
        "        print(k)\n",
        "        print(v)\n",
        "        pass\n",
        "    print('label', train_batch[1])\n",
        "    break"
      ]
    },
    {
      "cell_type": "markdown",
      "metadata": {
        "id": "6Qh-UeRcW9NE"
      },
      "source": [
        "## Trials\n"
      ]
    },
    {
      "cell_type": "code",
      "execution_count": 23,
      "metadata": {
        "id": "qbjt7LXtWyaV"
      },
      "outputs": [],
      "source": [
        "# A function to save the submission files\n",
        "def saveResult(y_pred, fileName):\n",
        "  submission = pd.DataFrame({'label': y_pred})\n",
        "  submission.index.name = 'id'\n",
        "  \n",
        "  submission.to_csv(fileName)"
      ]
    },
    {
      "cell_type": "markdown",
      "metadata": {
        "id": "xyjxRZvKbIet"
      },
      "source": [
        "### Trial 0 "
      ]
    },
    {
      "cell_type": "code",
      "execution_count": 24,
      "metadata": {
        "colab": {
          "base_uri": "https://localhost:8080/"
        },
        "id": "FXdzTdObd7dY",
        "outputId": "06d36939-1609-4367-937e-51170dc42dab"
      },
      "outputs": [
        {
          "name": "stdout",
          "output_type": "stream",
          "text": [
            "gnn_out KerasTensor(type_spec=TensorSpec(shape=(None, 32), dtype=tf.float32, name=None), name='gnn/StatefulPartitionedCall:0', description=\"created by layer 'gnn'\")\n",
            "mean: KerasTensor(type_spec=TensorSpec(shape=(None, 32), dtype=tf.float32, name=None), name='tf.math.segment_mean/SegmentMean:0', description=\"created by layer 'tf.math.segment_mean'\")\n",
            "pred: KerasTensor(type_spec=TensorSpec(shape=(None, 1), dtype=tf.float32, name=None), name='dense/Sigmoid:0', description=\"created by layer 'dense'\")\n",
            "Model: \"model\"\n",
            "__________________________________________________________________________________________________\n",
            " Layer (type)                   Output Shape         Param #     Connected to                     \n",
            "==================================================================================================\n",
            " input_3 (InputLayer)           [(None,)]            0           []                               \n",
            "                                                                                                  \n",
            " input_1 (InputLayer)           [(None,)]            0           []                               \n",
            "                                                                                                  \n",
            " tf.math.reduce_max (TFOpLambda  ()                  0           ['input_3[0][0]']                \n",
            " )                                                                                                \n",
            "                                                                                                  \n",
            " embedding (Embedding)          (None, 20)           14000       ['input_1[0][0]']                \n",
            "                                                                                                  \n",
            " input_2 (InputLayer)           [(None, 2)]          0           []                               \n",
            "                                                                                                  \n",
            " tf.__operators__.add (TFOpLamb  ()                  0           ['tf.math.reduce_max[0][0]']     \n",
            " da)                                                                                              \n",
            "                                                                                                  \n",
            " gnn (GNN)                      (None, 32)           22464       ['embedding[0][0]',              \n",
            "                                                                  'input_2[0][0]',                \n",
            "                                                                  'input_3[0][0]',                \n",
            "                                                                  'tf.__operators__.add[0][0]']   \n",
            "                                                                                                  \n",
            " tf.math.segment_mean (TFOpLamb  (None, 32)          0           ['gnn[0][0]',                    \n",
            " da)                                                              'input_3[0][0]']                \n",
            "                                                                                                  \n",
            " dense (Dense)                  (None, 1)            33          ['tf.math.segment_mean[0][0]']   \n",
            "                                                                                                  \n",
            "==================================================================================================\n",
            "Total params: 36,497\n",
            "Trainable params: 36,497\n",
            "Non-trainable params: 0\n",
            "__________________________________________________________________________________________________\n"
          ]
        }
      ],
      "source": [
        "# Model Building \n",
        "\n",
        "# Nodes Input layer \n",
        "data = keras.Input(batch_shape=(None,))  \n",
        "\n",
        "\n",
        "# the first dim is different to the previous one. it is the total number of edges in this batch\n",
        "# Edge Input layer\n",
        "edge = keras.Input(batch_shape=(None, 2), dtype=tf.int32)\n",
        "# node2graph Input layer\n",
        "node2graph = keras.Input(batch_shape=(None,), dtype=tf.int32)\n",
        "# Embedding layer \n",
        "embeded = Embedding(tokenizer.num_words, 20)(data)\n",
        "\n",
        "# number of graphs (number of samples)\n",
        "num_graph = tf.reduce_max(node2graph)+1\n",
        "\n",
        "# GNNInput takes the features of sample ( node, the edge, the created list 'node2graph', and number of graphs (number of samples))\n",
        "gnn_input = GNNInput(\n",
        "    node_features = embeded,\n",
        "    adjacency_lists = (edge,),\n",
        "    node_to_graph_map = node2graph, \n",
        "    num_graphs = num_graph,\n",
        ")\n",
        "\n",
        "\n",
        "# hyperparameters of GNN layers\n",
        "# https://github.com/microsoft/tf2-gnn/blob/master/tf2_gnn/layers/gnn.py\n",
        "\n",
        "# defualt hyperparameters\n",
        "params = GNN.get_default_hyperparameters()\n",
        "# size of the output of all message passing layers\n",
        "params[\"hidden_dim\"] = 32\n",
        "gnn_layer = GNN(params)\n",
        "gnn_out = gnn_layer(gnn_input)\n",
        "print('gnn_out', gnn_out)\n",
        "\n",
        "\n",
        "# Computes the segmented mean based on segment_ids\n",
        "# https://www.tensorflow.org/api_docs/python/tf/math/segment_mean\n",
        "avg = segment_mean(\n",
        "    data = gnn_out,\n",
        "    segment_ids = node2graph\n",
        ")\n",
        "print('mean:', avg)\n",
        "\n",
        "# output layer\n",
        "pred = Dense(1, activation='sigmoid')(avg)\n",
        "print('pred:', pred)\n",
        "\n",
        "\n",
        "# model building\n",
        "model = Model(\n",
        "    inputs = {\n",
        "        'data': data,\n",
        "        'edges': edge,\n",
        "        'node2grah': node2graph,\n",
        "    },\n",
        "    outputs = pred\n",
        ")\n",
        "# summary of the model\n",
        "model.summary()"
      ]
    },
    {
      "cell_type": "code",
      "execution_count": 25,
      "metadata": {
        "id": "BniJDF3hd7fy"
      },
      "outputs": [],
      "source": [
        "# Model Compiling \n",
        "model.compile( optimizer='adam',\n",
        "    loss='BinaryCrossentropy',\n",
        "    metrics=['AUC']\n",
        ")"
      ]
    },
    {
      "cell_type": "code",
      "execution_count": 27,
      "metadata": {
        "colab": {
          "base_uri": "https://localhost:8080/"
        },
        "id": "nEaKKmE5d7iQ",
        "outputId": "4b322676-cbee-4c2a-887b-c9d95003f1cf"
      },
      "outputs": [
        {
          "name": "stdout",
          "output_type": "stream",
          "text": [
            "Epoch 1/15\n",
            "1330/1330 [==============================] - 24s 18ms/step - loss: 0.1772 - auc: 0.7033 - val_loss: 0.1947 - val_auc: 0.7418\n",
            "Epoch 2/15\n",
            "1330/1330 [==============================] - 27s 20ms/step - loss: 0.1766 - auc: 0.7064 - val_loss: 0.1822 - val_auc: 0.7537\n",
            "Epoch 3/15\n",
            "1330/1330 [==============================] - 28s 21ms/step - loss: 0.1761 - auc: 0.7184 - val_loss: 0.2047 - val_auc: 0.7296\n",
            "Epoch 4/15\n",
            "1330/1330 [==============================] - 23s 17ms/step - loss: 0.1744 - auc: 0.7263 - val_loss: 0.1769 - val_auc: 0.7324\n",
            "Epoch 5/15\n",
            "1330/1330 [==============================] - 25s 19ms/step - loss: 0.1740 - auc: 0.7236 - val_loss: 0.1926 - val_auc: 0.7475\n",
            "Epoch 6/15\n",
            "1330/1330 [==============================] - 27s 20ms/step - loss: 0.1736 - auc: 0.7243 - val_loss: 0.1862 - val_auc: 0.7405\n",
            "Epoch 7/15\n",
            "1330/1330 [==============================] - 26s 19ms/step - loss: 0.1720 - auc: 0.7429 - val_loss: 0.1781 - val_auc: 0.7476\n",
            "Epoch 8/15\n",
            "1330/1330 [==============================] - 33s 25ms/step - loss: 0.1723 - auc: 0.7403 - val_loss: 0.1867 - val_auc: 0.7573\n",
            "Epoch 9/15\n",
            "1330/1330 [==============================] - 31s 23ms/step - loss: 0.1734 - auc: 0.7324 - val_loss: 0.1802 - val_auc: 0.7571\n",
            "Epoch 10/15\n",
            "1330/1330 [==============================] - 27s 21ms/step - loss: 0.1706 - auc: 0.7523 - val_loss: 0.1820 - val_auc: 0.7632\n",
            "Epoch 11/15\n",
            "1330/1330 [==============================] - 27s 20ms/step - loss: 0.1708 - auc: 0.7454 - val_loss: 0.1954 - val_auc: 0.7457\n",
            "Epoch 12/15\n",
            "1330/1330 [==============================] - 26s 19ms/step - loss: 0.1716 - auc: 0.7442 - val_loss: 0.1804 - val_auc: 0.7702\n",
            "Epoch 13/15\n",
            "1330/1330 [==============================] - 36s 27ms/step - loss: 0.1704 - auc: 0.7532 - val_loss: 0.1762 - val_auc: 0.7666\n",
            "Epoch 14/15\n",
            "1330/1330 [==============================] - 31s 24ms/step - loss: 0.1705 - auc: 0.7494 - val_loss: 0.1816 - val_auc: 0.7674\n",
            "Epoch 15/15\n",
            "1330/1330 [==============================] - 33s 25ms/step - loss: 0.1682 - auc: 0.7587 - val_loss: 0.1749 - val_auc: 0.7660\n"
          ]
        },
        {
          "data": {
            "text/plain": [
              "<keras.callbacks.History at 0x7f45e0f2de40>"
            ]
          },
          "execution_count": 27,
          "metadata": {},
          "output_type": "execute_result"
        }
      ],
      "source": [
        "# Model Training\n",
        "\n",
        "batch_size = 16\n",
        "# math.ceil: to get the nearest integer of batches for training data\n",
        "num_batchs = math.ceil(len(training_set) / batch_size)\n",
        "# num of batches for validation data\n",
        "num_batchs_validation = math.ceil(len(validation_set) / batch_size)\n",
        "# model training\n",
        "model.fit(\n",
        "    gen_batch(training_set, batch_size = batch_size, repeat=True),\n",
        "    steps_per_epoch = num_batchs,\n",
        "    epochs=15,\n",
        "    validation_data = gen_batch(validation_set, batch_size = batch_size, repeat=True),\n",
        "    validation_steps = num_batchs_validation,\n",
        ")"
      ]
    },
    {
      "cell_type": "code",
      "execution_count": 28,
      "metadata": {
        "colab": {
          "base_uri": "https://localhost:8080/"
        },
        "id": "tfkQ7Nt4d7ka",
        "outputId": "b9595f18-a5fa-4d87-a8ec-d88c2f959451"
      },
      "outputs": [
        {
          "name": "stdout",
          "output_type": "stream",
          "text": [
            "771/771 [==============================] - 7s 8ms/step\n"
          ]
        }
      ],
      "source": [
        "# predictions on test data\n",
        "y_pred = model.predict(gen_batch(test, batch_size=16, shuffle=False))\n",
        "y_pred = np.reshape(y_pred, -1)\n"
      ]
    },
    {
      "cell_type": "code",
      "execution_count": 29,
      "metadata": {
        "id": "l8qMh97Wd7mj"
      },
      "outputs": [],
      "source": [
        "# submission file\n",
        "saveResult(y_pred, 'trial0.csv')"
      ]
    },
    {
      "cell_type": "markdown",
      "metadata": {
        "id": "5NseicZrXA75"
      },
      "source": [
        "> Thoughts and observations for trial 0: \n",
        "\n",
        "I used **Graph Neural Network** with :\n",
        "\n",
        "* NO data balance techniques \n",
        "* A GNN layer with defualt hyperparameters.\n",
        "* `hidden_dim` = 32 (size of the output of all message passing layers)\n",
        "* another GNN layer with the defined hyperparameters and calculated segmented mean based on segment_ids\n",
        "* model compiling : \n",
        "  - BinaryCrossentropy for loss \n",
        "  - AUC to measure the model's performance.\n",
        "\n",
        "\n",
        "In the training:\n",
        "* batch size = 16 \n",
        "* epochs = 15 \n",
        "* validated the model using the `validation_set`\n",
        "\n",
        "From the result, unbalanced data had a bad effect on the model's accuracy and cause bad performance.\n",
        "\n",
        "> plan for trial 1: \n",
        "\n",
        "apply a data balance technichque (class weighting)"
      ]
    },
    {
      "cell_type": "markdown",
      "metadata": {
        "id": "XO14-7s3lyzJ"
      },
      "source": [
        "### Trial 1"
      ]
    },
    {
      "cell_type": "code",
      "execution_count": 30,
      "metadata": {
        "colab": {
          "base_uri": "https://localhost:8080/"
        },
        "id": "BCgvv3Ial0gw",
        "outputId": "db3621d4-efd7-4a6f-ebde-7c1108c4087f"
      },
      "outputs": [
        {
          "name": "stdout",
          "output_type": "stream",
          "text": [
            "Epoch 1/15\n",
            "1330/1330 [==============================] - 31s 21ms/step - loss: 1.1940 - auc: 0.7141 - val_loss: 0.6457 - val_auc: 0.7334\n",
            "Epoch 2/15\n",
            "1330/1330 [==============================] - 23s 18ms/step - loss: 1.1410 - auc: 0.7427 - val_loss: 0.5629 - val_auc: 0.7417\n",
            "Epoch 3/15\n",
            "1330/1330 [==============================] - 27s 21ms/step - loss: 1.1250 - auc: 0.7522 - val_loss: 0.5504 - val_auc: 0.7466\n",
            "Epoch 4/15\n",
            "1330/1330 [==============================] - 24s 18ms/step - loss: 1.1164 - auc: 0.7581 - val_loss: 0.6274 - val_auc: 0.7514\n",
            "Epoch 5/15\n",
            "1330/1330 [==============================] - 31s 23ms/step - loss: 1.1124 - auc: 0.7613 - val_loss: 0.5293 - val_auc: 0.7590\n",
            "Epoch 6/15\n",
            "1330/1330 [==============================] - 32s 24ms/step - loss: 1.1031 - auc: 0.7710 - val_loss: 0.6155 - val_auc: 0.7664\n",
            "Epoch 7/15\n",
            "1330/1330 [==============================] - 34s 25ms/step - loss: 1.0871 - auc: 0.7761 - val_loss: 0.6255 - val_auc: 0.7618\n",
            "Epoch 8/15\n",
            "1330/1330 [==============================] - 28s 21ms/step - loss: 1.0928 - auc: 0.7724 - val_loss: 0.5611 - val_auc: 0.7756\n",
            "Epoch 9/15\n",
            "1330/1330 [==============================] - 25s 19ms/step - loss: 1.0853 - auc: 0.7738 - val_loss: 0.5844 - val_auc: 0.7572\n",
            "Epoch 10/15\n",
            "1330/1330 [==============================] - 32s 24ms/step - loss: 1.0875 - auc: 0.7769 - val_loss: 0.6165 - val_auc: 0.7565\n",
            "Epoch 11/15\n",
            "1330/1330 [==============================] - 34s 26ms/step - loss: 1.0835 - auc: 0.7766 - val_loss: 0.5580 - val_auc: 0.7793\n",
            "Epoch 12/15\n",
            "1330/1330 [==============================] - 29s 22ms/step - loss: 1.0836 - auc: 0.7789 - val_loss: 0.5784 - val_auc: 0.7603\n",
            "Epoch 13/15\n",
            "1330/1330 [==============================] - 36s 27ms/step - loss: 1.0788 - auc: 0.7813 - val_loss: 0.4968 - val_auc: 0.7845\n",
            "Epoch 14/15\n",
            "1330/1330 [==============================] - 31s 23ms/step - loss: 1.0618 - auc: 0.7925 - val_loss: 0.5012 - val_auc: 0.7726\n",
            "Epoch 15/15\n",
            "1330/1330 [==============================] - 27s 20ms/step - loss: 1.0618 - auc: 0.7920 - val_loss: 0.4402 - val_auc: 0.7864\n"
          ]
        },
        {
          "data": {
            "text/plain": [
              "<keras.callbacks.History at 0x7f45ced57d60>"
            ]
          },
          "execution_count": 30,
          "metadata": {},
          "output_type": "execute_result"
        }
      ],
      "source": [
        "# Model Training\n",
        "\n",
        "batch_size = 16\n",
        "# math.ceil: to get the nearest integer of batches for training data\n",
        "num_batchs = math.ceil(len(training_set) / batch_size)\n",
        "# num of batches for validation data\n",
        "num_batchs_validation = math.ceil(len(validation_set) / batch_size)\n",
        "# model training\n",
        "model.fit(\n",
        "    gen_batch(training_set, batch_size = batch_size, repeat=True),\n",
        "    steps_per_epoch = num_batchs,\n",
        "    epochs=15,\n",
        "    validation_data = gen_batch(validation_set, batch_size = batch_size, repeat=True),\n",
        "    validation_steps = num_batchs_validation,\n",
        "    class_weight = {0: 1, 1: 20},\n",
        ")"
      ]
    },
    {
      "cell_type": "code",
      "execution_count": 31,
      "metadata": {
        "colab": {
          "base_uri": "https://localhost:8080/"
        },
        "id": "CGdPJEJJmhjU",
        "outputId": "201ccb4e-f511-49ab-b2fc-e41cc61317df"
      },
      "outputs": [
        {
          "name": "stdout",
          "output_type": "stream",
          "text": [
            "771/771 [==============================] - 6s 8ms/step\n"
          ]
        }
      ],
      "source": [
        "# predictions on test data\n",
        "y_pred = model.predict(gen_batch(test, batch_size=16, shuffle=False))\n",
        "y_pred = np.reshape(y_pred, -1)\n"
      ]
    },
    {
      "cell_type": "code",
      "execution_count": 32,
      "metadata": {
        "id": "6zbBTSp-p2s_"
      },
      "outputs": [],
      "source": [
        "# submission file\n",
        "saveResult(y_pred, 'trial1.csv')"
      ]
    },
    {
      "cell_type": "markdown",
      "metadata": {
        "id": "eAoL748Qo5eo"
      },
      "source": [
        "> Thoughts and observations for trial 1: \n",
        "(the same model)\n",
        "I used **Graph Neural Network** with :\n",
        "\n",
        "* A GNN layer with defualt hyperparameters.\n",
        "* `hidden_dim` = 32 (size of the output of all message passing layers)\n",
        "* another GNN layer with the defined hyperparameters and calculated segmented mean based on segment_ids\n",
        "* model compiling : \n",
        "  - BinaryCrossentropy for loss \n",
        "  - AUC to measure the model's performance.\n",
        "\n",
        "\n",
        "In the training:\n",
        "* batch size = 16 \n",
        "* epochs = 15 \n",
        "* validated the model using the `validation_set`\n",
        "* added the class weights while training to deal with data imbalance\n",
        "\n",
        "From the result, after we applied the calss weighting to balance data the performance got better results that the first model.\n",
        "\n",
        "> plan for trial 2: \n",
        "\n",
        "* add the class weight to all the upcoming trial \n",
        "* Try to apply one of the GCN aggregation mechanisms by tuning the message_passing mechanisms and configure the message passing style to be GGNN"
      ]
    },
    {
      "cell_type": "markdown",
      "metadata": {
        "id": "km-eCvaErder"
      },
      "source": [
        "### Trial 2"
      ]
    },
    {
      "cell_type": "code",
      "execution_count": 33,
      "metadata": {
        "colab": {
          "base_uri": "https://localhost:8080/"
        },
        "id": "--EZA2hQrcjo",
        "outputId": "e7e7b4fa-41bf-4d9f-86c1-88a990230568"
      },
      "outputs": [
        {
          "name": "stdout",
          "output_type": "stream",
          "text": [
            "gnn_out KerasTensor(type_spec=TensorSpec(shape=(None, 32), dtype=tf.float32, name=None), name='gnn_1/StatefulPartitionedCall:0', description=\"created by layer 'gnn_1'\")\n",
            "mean: KerasTensor(type_spec=TensorSpec(shape=(None, 32), dtype=tf.float32, name=None), name='tf.math.segment_mean_1/SegmentMean:0', description=\"created by layer 'tf.math.segment_mean_1'\")\n",
            "pred: KerasTensor(type_spec=TensorSpec(shape=(None, 1), dtype=tf.float32, name=None), name='dense_1/Sigmoid:0', description=\"created by layer 'dense_1'\")\n",
            "Model: \"model_1\"\n",
            "__________________________________________________________________________________________________\n",
            " Layer (type)                   Output Shape         Param #     Connected to                     \n",
            "==================================================================================================\n",
            " input_6 (InputLayer)           [(None,)]            0           []                               \n",
            "                                                                                                  \n",
            " input_4 (InputLayer)           [(None,)]            0           []                               \n",
            "                                                                                                  \n",
            " tf.math.reduce_max_1 (TFOpLamb  ()                  0           ['input_6[0][0]']                \n",
            " da)                                                                                              \n",
            "                                                                                                  \n",
            " embedding_1 (Embedding)        (None, 20)           14000       ['input_4[0][0]']                \n",
            "                                                                                                  \n",
            " input_5 (InputLayer)           [(None, 2)]          0           []                               \n",
            "                                                                                                  \n",
            " tf.__operators__.add_1 (TFOpLa  ()                  0           ['tf.math.reduce_max_1[0][0]']   \n",
            " mbda)                                                                                            \n",
            "                                                                                                  \n",
            " gnn_1 (GNN)                    (None, 32)           47808       ['embedding_1[0][0]',            \n",
            "                                                                  'input_5[0][0]',                \n",
            "                                                                  'input_6[0][0]',                \n",
            "                                                                  'tf.__operators__.add_1[0][0]'] \n",
            "                                                                                                  \n",
            " tf.math.segment_mean_1 (TFOpLa  (None, 32)          0           ['gnn_1[0][0]',                  \n",
            " mbda)                                                            'input_6[0][0]']                \n",
            "                                                                                                  \n",
            " dense_1 (Dense)                (None, 1)            33          ['tf.math.segment_mean_1[0][0]'] \n",
            "                                                                                                  \n",
            "==================================================================================================\n",
            "Total params: 61,841\n",
            "Trainable params: 61,841\n",
            "Non-trainable params: 0\n",
            "__________________________________________________________________________________________________\n"
          ]
        }
      ],
      "source": [
        "# Model Building \n",
        "\n",
        "# Nodes Input layer \n",
        "data = keras.Input(batch_shape=(None,))  \n",
        "\n",
        "\n",
        "# the first dim is different to the previous one. it is the total number of edges in this batch\n",
        "# Edge Input layer\n",
        "edge = keras.Input(batch_shape=(None, 2), dtype=tf.int32)\n",
        "# node2graph Input layer\n",
        "node2graph = keras.Input(batch_shape=(None,), dtype=tf.int32)\n",
        "# Embedding layer \n",
        "embeded = Embedding(tokenizer.num_words, 20)(data)\n",
        "\n",
        "# number of graphs (number of samples)\n",
        "num_graph = tf.reduce_max(node2graph)+1\n",
        "\n",
        "# GNNInput takes the features of sample ( node, the edge, the created list 'node2graph', and number of graphs (number of samples))\n",
        "gnn_input = GNNInput(\n",
        "    node_features = embeded,\n",
        "    adjacency_lists = (edge,),\n",
        "    node_to_graph_map = node2graph, \n",
        "    num_graphs = num_graph,\n",
        ")\n",
        "\n",
        "\n",
        "# hyperparameters of GNN layers\n",
        "# https://github.com/microsoft/tf2-gnn/blob/master/tf2_gnn/layers/gnn.py\n",
        "\n",
        "# defualt hyperparameters\n",
        "params = GNN.get_default_hyperparameters()\n",
        "# size of the output of all message passing layers\n",
        "params[\"hidden_dim\"] = 32\n",
        "# configures the message passing style to be GGNN (Gated Graph Neural Networks)\n",
        "params['message_calculation_class'] = 'GGNN'\n",
        "\n",
        "gnn_layer = GNN(params)\n",
        "gnn_out = gnn_layer(gnn_input)\n",
        "print('gnn_out', gnn_out)\n",
        "\n",
        "\n",
        "# Computes the segmented mean based on segment_ids\n",
        "# https://www.tensorflow.org/api_docs/python/tf/math/segment_mean\n",
        "avg = segment_mean(\n",
        "    data = gnn_out,\n",
        "    segment_ids = node2graph\n",
        ")\n",
        "print('mean:', avg)\n",
        "\n",
        "# output layer\n",
        "pred = Dense(1, activation='sigmoid')(avg)\n",
        "print('pred:', pred)\n",
        "\n",
        "\n",
        "# model building\n",
        "model = Model(\n",
        "    inputs = {\n",
        "        'data': data,\n",
        "        'edges': edge,\n",
        "        'node2grah': node2graph,\n",
        "    },\n",
        "    outputs = pred\n",
        ")\n",
        "# summary of the model\n",
        "model.summary()"
      ]
    },
    {
      "cell_type": "code",
      "execution_count": 34,
      "metadata": {
        "id": "lZutNb8zruoV"
      },
      "outputs": [],
      "source": [
        "# Model Compiling \n",
        "model.compile( optimizer='adam',\n",
        "    loss='BinaryCrossentropy',\n",
        "    metrics=['AUC']\n",
        ")"
      ]
    },
    {
      "cell_type": "code",
      "execution_count": 36,
      "metadata": {
        "colab": {
          "base_uri": "https://localhost:8080/"
        },
        "id": "0NPorJsbruq9",
        "outputId": "8426634e-9aa9-4b47-a30f-605159da9141"
      },
      "outputs": [
        {
          "name": "stdout",
          "output_type": "stream",
          "text": [
            "Epoch 1/15\n",
            "1330/1330 [==============================] - 43s 32ms/step - loss: 1.0608 - auc: 0.7861 - val_loss: 0.6621 - val_auc: 0.7689\n",
            "Epoch 2/15\n",
            "1330/1330 [==============================] - 42s 32ms/step - loss: 1.0561 - auc: 0.7879 - val_loss: 0.5049 - val_auc: 0.7885\n",
            "Epoch 3/15\n",
            "1330/1330 [==============================] - 40s 30ms/step - loss: 1.0405 - auc: 0.7976 - val_loss: 0.6012 - val_auc: 0.7963\n",
            "Epoch 4/15\n",
            "1330/1330 [==============================] - 40s 30ms/step - loss: 1.0391 - auc: 0.7983 - val_loss: 0.5965 - val_auc: 0.7573\n",
            "Epoch 5/15\n",
            "1330/1330 [==============================] - 47s 35ms/step - loss: 1.0610 - auc: 0.7859 - val_loss: 0.5175 - val_auc: 0.7948\n",
            "Epoch 6/15\n",
            "1330/1330 [==============================] - 47s 35ms/step - loss: 1.0406 - auc: 0.7973 - val_loss: 0.5993 - val_auc: 0.7709\n",
            "Epoch 7/15\n",
            "1330/1330 [==============================] - 47s 35ms/step - loss: 1.0289 - auc: 0.8003 - val_loss: 0.4822 - val_auc: 0.7936\n",
            "Epoch 8/15\n",
            "1330/1330 [==============================] - 54s 41ms/step - loss: 1.0250 - auc: 0.8037 - val_loss: 0.4640 - val_auc: 0.7832\n",
            "Epoch 9/15\n",
            "1330/1330 [==============================] - 39s 29ms/step - loss: 1.0326 - auc: 0.8000 - val_loss: 0.4705 - val_auc: 0.7916\n",
            "Epoch 10/15\n",
            "1330/1330 [==============================] - 49s 37ms/step - loss: 1.0197 - auc: 0.8069 - val_loss: 0.4306 - val_auc: 0.8223\n",
            "Epoch 11/15\n",
            "1330/1330 [==============================] - 44s 33ms/step - loss: 1.0042 - auc: 0.8125 - val_loss: 0.6027 - val_auc: 0.7907\n",
            "Epoch 12/15\n",
            "1330/1330 [==============================] - 49s 37ms/step - loss: 0.9868 - auc: 0.8214 - val_loss: 0.4317 - val_auc: 0.7980\n",
            "Epoch 13/15\n",
            "1330/1330 [==============================] - 42s 31ms/step - loss: 1.0019 - auc: 0.8155 - val_loss: 0.4521 - val_auc: 0.8313\n",
            "Epoch 14/15\n",
            "1330/1330 [==============================] - 53s 40ms/step - loss: 0.9842 - auc: 0.8230 - val_loss: 0.4768 - val_auc: 0.8141\n",
            "Epoch 15/15\n",
            "1330/1330 [==============================] - 42s 32ms/step - loss: 0.9832 - auc: 0.8222 - val_loss: 0.4993 - val_auc: 0.8179\n"
          ]
        },
        {
          "data": {
            "text/plain": [
              "<keras.callbacks.History at 0x7f45cd4ebdc0>"
            ]
          },
          "execution_count": 36,
          "metadata": {},
          "output_type": "execute_result"
        }
      ],
      "source": [
        "# Model Training\n",
        "\n",
        "batch_size = 16\n",
        "# math.ceil: to get the nearest integer of batches for training data\n",
        "num_batchs = math.ceil(len(training_set) / batch_size)\n",
        "# num of batches for validation data\n",
        "num_batchs_validation = math.ceil(len(validation_set) / batch_size)\n",
        "# model training\n",
        "model.fit(\n",
        "    gen_batch(training_set, batch_size = batch_size, repeat=True),\n",
        "    steps_per_epoch = num_batchs,\n",
        "    epochs=15,\n",
        "    validation_data = gen_batch(validation_set, batch_size = batch_size, repeat=True),\n",
        "    validation_steps = num_batchs_validation,\n",
        "    class_weight = {0: 1, 1: 20},\n",
        ")"
      ]
    },
    {
      "cell_type": "code",
      "execution_count": 37,
      "metadata": {
        "colab": {
          "base_uri": "https://localhost:8080/"
        },
        "id": "xl981I_mrutz",
        "outputId": "691dbf78-2be3-43a2-aaaa-3f0f41300dc7"
      },
      "outputs": [
        {
          "name": "stdout",
          "output_type": "stream",
          "text": [
            "771/771 [==============================] - 7s 9ms/step\n"
          ]
        }
      ],
      "source": [
        "# predictions on test data\n",
        "y_pred = model.predict(gen_batch(test, batch_size=16, shuffle=False))\n",
        "y_pred = np.reshape(y_pred, -1)\n"
      ]
    },
    {
      "cell_type": "code",
      "execution_count": 38,
      "metadata": {
        "id": "6UVXEbGiv5vX"
      },
      "outputs": [],
      "source": [
        "# submission file\n",
        "saveResult(y_pred, 'trial2.csv')"
      ]
    },
    {
      "cell_type": "markdown",
      "metadata": {
        "id": "EPNj9VsFru5d"
      },
      "source": [
        "> Thoughts and observations for trial 2: \n",
        "\n",
        "I used **Graph Neural Network** with :\n",
        "\n",
        "* A GNN layer with defualt hyperparameters.\n",
        "* `hidden_dim` = 32 (size of the output of all message passing layers)\n",
        "* another GNN layer with the defined hyperparameters and calculated segmented mean based on segment_ids\n",
        "* GCN aggregation mechanisms by tuning the message_passing mechanisms and set `message_calculation_class` parameter  = `GGNN`\n",
        "\n",
        "\n",
        "* model compiling : \n",
        "  - BinaryCrossentropy for loss \n",
        "  - AUC to measure the model's performance.\n",
        "\n",
        "\n",
        "In the training:\n",
        "* batch size = 16 \n",
        "* epochs = 15 \n",
        "* validated the model using the `validation_set`\n",
        "* added the class weights while training to deal with data imbalance\n",
        "\n",
        "From the result, findings are far superior to utilizing the model without GCN aggregation methods.\n",
        "\n",
        "> plan for trial 3: \n",
        "\n",
        "* Try to apply another one of the GCN aggregation mechanisms by tuning the message_passing mechanisms and configure the message passing style to be RGCN."
      ]
    },
    {
      "cell_type": "markdown",
      "metadata": {
        "id": "vxBqFhp31hdT"
      },
      "source": [
        "### Trial 3\n"
      ]
    },
    {
      "cell_type": "code",
      "execution_count": 53,
      "metadata": {
        "colab": {
          "base_uri": "https://localhost:8080/"
        },
        "id": "ikHueZZL1kM_",
        "outputId": "980b14f0-8561-4f83-d943-5fa6298d1ab9"
      },
      "outputs": [
        {
          "name": "stdout",
          "output_type": "stream",
          "text": [
            "gnn_out KerasTensor(type_spec=TensorSpec(shape=(None, 32), dtype=tf.float32, name=None), name='gnn_6/StatefulPartitionedCall:0', description=\"created by layer 'gnn_6'\")\n",
            "mean: KerasTensor(type_spec=TensorSpec(shape=(None, 32), dtype=tf.float32, name=None), name='tf.math.segment_mean_6/SegmentMean:0', description=\"created by layer 'tf.math.segment_mean_6'\")\n",
            "pred: KerasTensor(type_spec=TensorSpec(shape=(None, 1), dtype=tf.float32, name=None), name='dense_6/Sigmoid:0', description=\"created by layer 'dense_6'\")\n",
            "Model: \"model_6\"\n",
            "__________________________________________________________________________________________________\n",
            " Layer (type)                   Output Shape         Param #     Connected to                     \n",
            "==================================================================================================\n",
            " input_21 (InputLayer)          [(None,)]            0           []                               \n",
            "                                                                                                  \n",
            " input_19 (InputLayer)          [(None,)]            0           []                               \n",
            "                                                                                                  \n",
            " tf.math.reduce_max_6 (TFOpLamb  ()                  0           ['input_21[0][0]']               \n",
            " da)                                                                                              \n",
            "                                                                                                  \n",
            " embedding_6 (Embedding)        (None, 20)           14000       ['input_19[0][0]']               \n",
            "                                                                                                  \n",
            " input_20 (InputLayer)          [(None, 2)]          0           []                               \n",
            "                                                                                                  \n",
            " tf.__operators__.add_6 (TFOpLa  ()                  0           ['tf.math.reduce_max_6[0][0]']   \n",
            " mbda)                                                                                            \n",
            "                                                                                                  \n",
            " gnn_6 (GNN)                    (None, 32)           22464       ['embedding_6[0][0]',            \n",
            "                                                                  'input_20[0][0]',               \n",
            "                                                                  'input_21[0][0]',               \n",
            "                                                                  'tf.__operators__.add_6[0][0]'] \n",
            "                                                                                                  \n",
            " tf.math.segment_mean_6 (TFOpLa  (None, 32)          0           ['gnn_6[0][0]',                  \n",
            " mbda)                                                            'input_21[0][0]']               \n",
            "                                                                                                  \n",
            " dense_6 (Dense)                (None, 1)            33          ['tf.math.segment_mean_6[0][0]'] \n",
            "                                                                                                  \n",
            "==================================================================================================\n",
            "Total params: 36,497\n",
            "Trainable params: 36,497\n",
            "Non-trainable params: 0\n",
            "__________________________________________________________________________________________________\n"
          ]
        }
      ],
      "source": [
        "# Model Building \n",
        "\n",
        "# Nodes Input layer \n",
        "data = keras.Input(batch_shape=(None,))  \n",
        "\n",
        "\n",
        "# the first dim is different to the previous one. it is the total number of edges in this batch\n",
        "# Edge Input layer\n",
        "edge = keras.Input(batch_shape=(None, 2), dtype=tf.int32)\n",
        "# node2graph Input layer\n",
        "node2graph = keras.Input(batch_shape=(None,), dtype=tf.int32)\n",
        "# Embedding layer \n",
        "embeded = Embedding(tokenizer.num_words, 20)(data)\n",
        "\n",
        "# number of graphs (number of samples)\n",
        "num_graph = tf.reduce_max(node2graph)+1\n",
        "\n",
        "# GNNInput takes the features of sample ( node, the edge, the created list 'node2graph', and number of graphs (number of samples))\n",
        "gnn_input = GNNInput(\n",
        "    node_features = embeded,\n",
        "    adjacency_lists = (edge,),\n",
        "    node_to_graph_map = node2graph, \n",
        "    num_graphs = num_graph,\n",
        ")\n",
        "\n",
        "\n",
        "# hyperparameters of GNN layers\n",
        "# https://github.com/microsoft/tf2-gnn/blob/master/tf2_gnn/layers/gnn.py\n",
        "\n",
        "# defualt hyperparameters\n",
        "params = GNN.get_default_hyperparameters()\n",
        "# size of the output of all message passing layers\n",
        "params[\"hidden_dim\"] = 32\n",
        "# configures the message passing style to be RGCN (Relational Graph Convolutional Networks)\n",
        "params['message_calculation_class'] = 'RGCN'\n",
        "\n",
        "gnn_layer = GNN(params)\n",
        "gnn_out = gnn_layer(gnn_input)\n",
        "print('gnn_out', gnn_out)\n",
        "\n",
        "\n",
        "# Computes the segmented mean based on segment_ids\n",
        "# https://www.tensorflow.org/api_docs/python/tf/math/segment_mean\n",
        "avg = segment_mean(\n",
        "    data = gnn_out,\n",
        "    segment_ids = node2graph\n",
        ")\n",
        "print('mean:', avg)\n",
        "\n",
        "# output layer\n",
        "pred = Dense(1, activation='sigmoid')(avg)\n",
        "print('pred:', pred)\n",
        "\n",
        "\n",
        "# model building\n",
        "model = Model(\n",
        "    inputs = {\n",
        "        'data': data,\n",
        "        'edges': edge,\n",
        "        'node2grah': node2graph,\n",
        "    },\n",
        "    outputs = pred\n",
        ")\n",
        "# summary of the model\n",
        "model.summary()"
      ]
    },
    {
      "cell_type": "code",
      "execution_count": 54,
      "metadata": {
        "id": "1XceHURo1kPm"
      },
      "outputs": [],
      "source": [
        "# Model Compiling \n",
        "model.compile( optimizer='adam',\n",
        "    loss='BinaryCrossentropy',\n",
        "    metrics=['AUC']\n",
        ")"
      ]
    },
    {
      "cell_type": "code",
      "execution_count": 55,
      "metadata": {
        "colab": {
          "base_uri": "https://localhost:8080/"
        },
        "id": "mQe04xwC1kRY",
        "outputId": "f7f1ba1b-c5d3-4107-a047-4c486af8dca5"
      },
      "outputs": [
        {
          "name": "stdout",
          "output_type": "stream",
          "text": [
            "Epoch 1/15\n",
            "1330/1330 [==============================] - 31s 20ms/step - loss: 1.2774 - auc: 0.6201 - val_loss: 0.6746 - val_auc: 0.7054\n",
            "Epoch 2/15\n",
            "1330/1330 [==============================] - 25s 19ms/step - loss: 1.2144 - auc: 0.6875 - val_loss: 0.6444 - val_auc: 0.7406\n",
            "Epoch 3/15\n",
            "1330/1330 [==============================] - 25s 19ms/step - loss: 1.1868 - auc: 0.7099 - val_loss: 0.7274 - val_auc: 0.7320\n",
            "Epoch 4/15\n",
            "1330/1330 [==============================] - 28s 21ms/step - loss: 1.1769 - auc: 0.7122 - val_loss: 0.6005 - val_auc: 0.7450\n",
            "Epoch 5/15\n",
            "1330/1330 [==============================] - 23s 18ms/step - loss: 1.1690 - auc: 0.7189 - val_loss: 0.6411 - val_auc: 0.7574\n",
            "Epoch 6/15\n",
            "1330/1330 [==============================] - 28s 21ms/step - loss: 1.1507 - auc: 0.7326 - val_loss: 0.5606 - val_auc: 0.7491\n",
            "Epoch 7/15\n",
            "1330/1330 [==============================] - 27s 20ms/step - loss: 1.1363 - auc: 0.7421 - val_loss: 0.5302 - val_auc: 0.7524\n",
            "Epoch 8/15\n",
            "1330/1330 [==============================] - 24s 18ms/step - loss: 1.1383 - auc: 0.7449 - val_loss: 0.5558 - val_auc: 0.7695\n",
            "Epoch 9/15\n",
            "1330/1330 [==============================] - 28s 21ms/step - loss: 1.1235 - auc: 0.7476 - val_loss: 0.5901 - val_auc: 0.7662\n",
            "Epoch 10/15\n",
            "1330/1330 [==============================] - 25s 19ms/step - loss: 1.1062 - auc: 0.7613 - val_loss: 0.5684 - val_auc: 0.7646\n",
            "Epoch 11/15\n",
            "1330/1330 [==============================] - 27s 20ms/step - loss: 1.1074 - auc: 0.7610 - val_loss: 0.6109 - val_auc: 0.7842\n",
            "Epoch 12/15\n",
            "1330/1330 [==============================] - 25s 19ms/step - loss: 1.0986 - auc: 0.7629 - val_loss: 0.5583 - val_auc: 0.7808\n",
            "Epoch 13/15\n",
            "1330/1330 [==============================] - 27s 20ms/step - loss: 1.0923 - auc: 0.7695 - val_loss: 0.6094 - val_auc: 0.7841\n",
            "Epoch 14/15\n",
            "1330/1330 [==============================] - 26s 19ms/step - loss: 1.0897 - auc: 0.7715 - val_loss: 0.5975 - val_auc: 0.7839\n",
            "Epoch 15/15\n",
            "1330/1330 [==============================] - 27s 21ms/step - loss: 1.0849 - auc: 0.7731 - val_loss: 0.5995 - val_auc: 0.8144\n"
          ]
        },
        {
          "data": {
            "text/plain": [
              "<keras.callbacks.History at 0x7f45d1e92ec0>"
            ]
          },
          "execution_count": 55,
          "metadata": {},
          "output_type": "execute_result"
        }
      ],
      "source": [
        "# Model Training\n",
        "\n",
        "batch_size = 16\n",
        "# math.ceil: to get the nearest integer of batches for training data\n",
        "num_batchs = math.ceil(len(training_set) / batch_size)\n",
        "# num of batches for validation data\n",
        "num_batchs_validation = math.ceil(len(validation_set) / batch_size)\n",
        "# model training\n",
        "model.fit(\n",
        "    gen_batch(training_set, batch_size = batch_size, repeat=True),\n",
        "    steps_per_epoch = num_batchs,\n",
        "    epochs=15,\n",
        "    validation_data = gen_batch(validation_set, batch_size = batch_size, repeat=True),\n",
        "    validation_steps = num_batchs_validation,\n",
        "    class_weight = {0: 1, 1: 20},\n",
        ")"
      ]
    },
    {
      "cell_type": "code",
      "execution_count": 56,
      "metadata": {
        "colab": {
          "base_uri": "https://localhost:8080/"
        },
        "id": "XFad-GDM1kTU",
        "outputId": "87c0f240-9cf4-43d8-96a9-bf7bfc9e8e8b"
      },
      "outputs": [
        {
          "name": "stdout",
          "output_type": "stream",
          "text": [
            "771/771 [==============================] - 6s 7ms/step\n"
          ]
        }
      ],
      "source": [
        "# predictions on test data\n",
        "y_pred = model.predict(gen_batch(test, batch_size=16, shuffle=False))\n",
        "y_pred = np.reshape(y_pred, -1)\n"
      ]
    },
    {
      "cell_type": "code",
      "execution_count": 57,
      "metadata": {
        "id": "zXDMhSJK1kVN"
      },
      "outputs": [],
      "source": [
        "# submission file\n",
        "saveResult(y_pred, 'trial3.csv')"
      ]
    },
    {
      "cell_type": "markdown",
      "metadata": {
        "id": "NumIhpFNy1fa"
      },
      "source": [
        "> Thoughts and observations for trial 3: \n",
        "\n",
        "I used **Graph Neural Network** with :\n",
        "\n",
        "* A GNN layer with defualt hyperparameters.\n",
        "* `hidden_dim` = 32 (size of the output of all message passing layers)\n",
        "* another GNN layer with the defined hyperparameters and calculated segmented mean based on segment_ids\n",
        "* GCN aggregation mechanisms by tuning the message_passing mechanisms and set `message_calculation_class` parameter  = `RGAT`\n",
        "\n",
        "\n",
        "\n",
        "* model compiling : \n",
        "  - BinaryCrossentropy for loss \n",
        "  - AUC to measure the model's performance.\n",
        "\n",
        "\n",
        "In the training:\n",
        "* batch size = 16 \n",
        "* epochs = 15 \n",
        "* validated the model using the `validation_set`\n",
        "* added the class weights while training to deal with data imbalance\n",
        "\n",
        "> According to the results, the model performs significantly better than when no GCN aggregation techniques are used, but the trail result is lower than when the message_calculation_class option is set to GGNN.\n",
        "\n",
        "> plan for trial 4: \n",
        "\n",
        "* use the same model and set the number of parallel (independent) weighted sums that are computed `num_heads` = 4."
      ]
    },
    {
      "cell_type": "markdown",
      "metadata": {
        "id": "sUE35ZjiyJDb"
      },
      "source": [
        "### Trail 4"
      ]
    },
    {
      "cell_type": "code",
      "execution_count": 48,
      "metadata": {
        "colab": {
          "base_uri": "https://localhost:8080/"
        },
        "id": "2ZadBjLeyMl_",
        "outputId": "4972e2b7-eebf-462f-ec29-e830a0db3b68"
      },
      "outputs": [
        {
          "name": "stdout",
          "output_type": "stream",
          "text": [
            "gnn_out KerasTensor(type_spec=TensorSpec(shape=(None, 32), dtype=tf.float32, name=None), name='gnn_5/StatefulPartitionedCall:0', description=\"created by layer 'gnn_5'\")\n",
            "mean: KerasTensor(type_spec=TensorSpec(shape=(None, 32), dtype=tf.float32, name=None), name='tf.math.segment_mean_5/SegmentMean:0', description=\"created by layer 'tf.math.segment_mean_5'\")\n",
            "pred: KerasTensor(type_spec=TensorSpec(shape=(None, 1), dtype=tf.float32, name=None), name='dense_5/Sigmoid:0', description=\"created by layer 'dense_5'\")\n",
            "Model: \"model_5\"\n",
            "__________________________________________________________________________________________________\n",
            " Layer (type)                   Output Shape         Param #     Connected to                     \n",
            "==================================================================================================\n",
            " input_18 (InputLayer)          [(None,)]            0           []                               \n",
            "                                                                                                  \n",
            " input_16 (InputLayer)          [(None,)]            0           []                               \n",
            "                                                                                                  \n",
            " tf.math.reduce_max_5 (TFOpLamb  ()                  0           ['input_18[0][0]']               \n",
            " da)                                                                                              \n",
            "                                                                                                  \n",
            " embedding_5 (Embedding)        (None, 20)           14000       ['input_16[0][0]']               \n",
            "                                                                                                  \n",
            " input_17 (InputLayer)          [(None, 2)]          0           []                               \n",
            "                                                                                                  \n",
            " tf.__operators__.add_5 (TFOpLa  ()                  0           ['tf.math.reduce_max_5[0][0]']   \n",
            " mbda)                                                                                            \n",
            "                                                                                                  \n",
            " gnn_5 (GNN)                    (None, 32)           22464       ['embedding_5[0][0]',            \n",
            "                                                                  'input_17[0][0]',               \n",
            "                                                                  'input_18[0][0]',               \n",
            "                                                                  'tf.__operators__.add_5[0][0]'] \n",
            "                                                                                                  \n",
            " tf.math.segment_mean_5 (TFOpLa  (None, 32)          0           ['gnn_5[0][0]',                  \n",
            " mbda)                                                            'input_18[0][0]']               \n",
            "                                                                                                  \n",
            " dense_5 (Dense)                (None, 1)            33          ['tf.math.segment_mean_5[0][0]'] \n",
            "                                                                                                  \n",
            "==================================================================================================\n",
            "Total params: 36,497\n",
            "Trainable params: 36,497\n",
            "Non-trainable params: 0\n",
            "__________________________________________________________________________________________________\n"
          ]
        }
      ],
      "source": [
        "# Model Building \n",
        "\n",
        "# Nodes Input layer \n",
        "data = keras.Input(batch_shape=(None,))  \n",
        "\n",
        "\n",
        "# the first dim is different to the previous one. it is the total number of edges in this batch\n",
        "# Edge Input layer\n",
        "edge = keras.Input(batch_shape=(None, 2), dtype=tf.int32)\n",
        "# node2graph Input layer\n",
        "node2graph = keras.Input(batch_shape=(None,), dtype=tf.int32)\n",
        "# Embedding layer \n",
        "embeded = Embedding(tokenizer.num_words, 20)(data)\n",
        "\n",
        "# number of graphs (number of samples)\n",
        "num_graph = tf.reduce_max(node2graph)+1\n",
        "\n",
        "# GNNInput takes the features of sample ( node, the edge, the created list 'node2graph', and number of graphs (number of samples))\n",
        "gnn_input = GNNInput(\n",
        "    node_features = embeded,\n",
        "    adjacency_lists = (edge,),\n",
        "    node_to_graph_map = node2graph, \n",
        "    num_graphs = num_graph,\n",
        ")\n",
        "\n",
        "\n",
        "# hyperparameters of GNN layers\n",
        "# https://github.com/microsoft/tf2-gnn/blob/master/tf2_gnn/layers/gnn.py\n",
        "\n",
        "# defualt hyperparameters\n",
        "params = GNN.get_default_hyperparameters()\n",
        "# size of the output of all message passing layers\n",
        "params[\"hidden_dim\"] = 32\n",
        "# configures the message passing style to be RGCN (Relational Graph Convolutional Networks)\n",
        "params['message_calculation_class'] = 'RGCN'\n",
        "# configures the number of parallel (independent) weighted sums that are computed, whose results are concatenated to obtain the final result.\n",
        "params[\"num_heads\"] = 4\n",
        "\n",
        "gnn_layer = GNN(params)\n",
        "gnn_out = gnn_layer(gnn_input)\n",
        "print('gnn_out', gnn_out)\n",
        "\n",
        "\n",
        "# Computes the segmented mean based on segment_ids\n",
        "# https://www.tensorflow.org/api_docs/python/tf/math/segment_mean\n",
        "avg = segment_mean(\n",
        "    data = gnn_out,\n",
        "    segment_ids = node2graph\n",
        ")\n",
        "print('mean:', avg)\n",
        "\n",
        "# output layer\n",
        "pred = Dense(1, activation='sigmoid')(avg)\n",
        "print('pred:', pred)\n",
        "\n",
        "\n",
        "# model building\n",
        "model = Model(\n",
        "    inputs = {\n",
        "        'data': data,\n",
        "        'edges': edge,\n",
        "        'node2grah': node2graph,\n",
        "    },\n",
        "    outputs = pred\n",
        ")\n",
        "# summary of the model\n",
        "model.summary()"
      ]
    },
    {
      "cell_type": "code",
      "execution_count": 49,
      "metadata": {
        "id": "RgXxuEiUyaDj"
      },
      "outputs": [],
      "source": [
        "# Model Compiling \n",
        "model.compile( optimizer='adam',\n",
        "    loss='BinaryCrossentropy',\n",
        "    metrics=['AUC']\n",
        ")"
      ]
    },
    {
      "cell_type": "code",
      "execution_count": 50,
      "metadata": {
        "colab": {
          "base_uri": "https://localhost:8080/"
        },
        "id": "v5fcY2iSyaHC",
        "outputId": "b81e131f-65f0-479d-a4bf-5b9bbb12010d"
      },
      "outputs": [
        {
          "name": "stdout",
          "output_type": "stream",
          "text": [
            "Epoch 1/15\n",
            "1330/1330 [==============================] - 32s 21ms/step - loss: 1.2763 - auc: 0.6295 - val_loss: 0.6034 - val_auc: 0.6592\n",
            "Epoch 2/15\n",
            "1330/1330 [==============================] - 26s 20ms/step - loss: 1.2178 - auc: 0.6820 - val_loss: 0.7213 - val_auc: 0.7215\n",
            "Epoch 3/15\n",
            "1330/1330 [==============================] - 29s 22ms/step - loss: 1.1655 - auc: 0.7180 - val_loss: 0.5841 - val_auc: 0.7356\n",
            "Epoch 4/15\n",
            "1330/1330 [==============================] - 29s 22ms/step - loss: 1.1626 - auc: 0.7230 - val_loss: 0.6032 - val_auc: 0.7452\n",
            "Epoch 5/15\n",
            "1330/1330 [==============================] - 25s 19ms/step - loss: 1.1489 - auc: 0.7319 - val_loss: 0.6211 - val_auc: 0.7473\n",
            "Epoch 6/15\n",
            "1330/1330 [==============================] - 23s 17ms/step - loss: 1.1537 - auc: 0.7326 - val_loss: 0.6279 - val_auc: 0.7393\n",
            "Epoch 7/15\n",
            "1330/1330 [==============================] - 26s 19ms/step - loss: 1.1440 - auc: 0.7398 - val_loss: 0.5997 - val_auc: 0.7421\n",
            "Epoch 8/15\n",
            "1330/1330 [==============================] - 28s 21ms/step - loss: 1.1379 - auc: 0.7453 - val_loss: 0.6066 - val_auc: 0.7540\n",
            "Epoch 9/15\n",
            "1330/1330 [==============================] - 27s 20ms/step - loss: 1.1319 - auc: 0.7466 - val_loss: 0.6152 - val_auc: 0.7641\n",
            "Epoch 10/15\n",
            "1330/1330 [==============================] - 27s 20ms/step - loss: 1.1133 - auc: 0.7600 - val_loss: 0.5170 - val_auc: 0.7635\n",
            "Epoch 11/15\n",
            "1330/1330 [==============================] - 35s 26ms/step - loss: 1.1190 - auc: 0.7558 - val_loss: 0.5901 - val_auc: 0.7598\n",
            "Epoch 12/15\n",
            "1330/1330 [==============================] - 33s 25ms/step - loss: 1.1151 - auc: 0.7560 - val_loss: 0.5337 - val_auc: 0.7764\n",
            "Epoch 13/15\n",
            "1330/1330 [==============================] - 27s 20ms/step - loss: 1.0927 - auc: 0.7715 - val_loss: 0.5011 - val_auc: 0.7573\n",
            "Epoch 14/15\n",
            "1330/1330 [==============================] - 23s 17ms/step - loss: 1.0988 - auc: 0.7673 - val_loss: 0.6084 - val_auc: 0.7640\n",
            "Epoch 15/15\n",
            "1330/1330 [==============================] - 29s 22ms/step - loss: 1.0928 - auc: 0.7720 - val_loss: 0.5060 - val_auc: 0.7673\n"
          ]
        },
        {
          "data": {
            "text/plain": [
              "<keras.callbacks.History at 0x7f45e10e96c0>"
            ]
          },
          "execution_count": 50,
          "metadata": {},
          "output_type": "execute_result"
        }
      ],
      "source": [
        "# Model Training\n",
        "\n",
        "batch_size = 16\n",
        "# math.ceil: to get the nearest integer of batches for training data\n",
        "num_batchs = math.ceil(len(training_set) / batch_size)\n",
        "# num of batches for validation data\n",
        "num_batchs_validation = math.ceil(len(validation_set) / batch_size)\n",
        "# model training\n",
        "model.fit(\n",
        "    gen_batch(training_set, batch_size = batch_size, repeat=True),\n",
        "    steps_per_epoch = num_batchs,\n",
        "    epochs=15,\n",
        "    validation_data = gen_batch(validation_set, batch_size = batch_size, repeat=True),\n",
        "    validation_steps = num_batchs_validation,\n",
        "    class_weight = {0: 1, 1: 20},\n",
        ")"
      ]
    },
    {
      "cell_type": "code",
      "execution_count": 51,
      "metadata": {
        "colab": {
          "base_uri": "https://localhost:8080/"
        },
        "id": "cSOQGR8Bye4V",
        "outputId": "4c371f39-2eb5-46d2-941c-b651a24a0b6c"
      },
      "outputs": [
        {
          "name": "stdout",
          "output_type": "stream",
          "text": [
            "771/771 [==============================] - 6s 8ms/step\n"
          ]
        }
      ],
      "source": [
        "# predictions on test data\n",
        "y_pred = model.predict(gen_batch(test, batch_size=16, shuffle=False))\n",
        "y_pred = np.reshape(y_pred, -1)\n"
      ]
    },
    {
      "cell_type": "code",
      "execution_count": 52,
      "metadata": {
        "id": "0AuUxLDuyiXI"
      },
      "outputs": [],
      "source": [
        "# submission file\n",
        "saveResult(y_pred, 'trial4.csv')"
      ]
    },
    {
      "cell_type": "markdown",
      "metadata": {
        "id": "SP8bjJeV4B_A"
      },
      "source": [
        "> Thoughts and observations for trial 4: \n",
        "\n",
        "I used **Graph Neural Network** with :\n",
        "\n",
        "* A GNN layer with defualt hyperparameters.\n",
        "* `hidden_dim` = 32 (size of the output of all message passing layers)\n",
        "* another GNN layer with the defined hyperparameters and calculated segmented mean based on segment_ids\n",
        "* GCN aggregation mechanisms by tuning the message_passing mechanisms and set `message_calculation_class` parameter  = `RGAT`\n",
        "* set the number of parallel (independent) weighted sums that are computed `num_heads` = 4.\n",
        "\n",
        "\n",
        "\n",
        "* model compiling : \n",
        "  - BinaryCrossentropy for loss \n",
        "  - AUC to measure the model's performance.\n",
        "\n",
        "\n",
        "In the training:\n",
        "* batch size = 16 \n",
        "* epochs = 15 \n",
        "* validated the model using the `validation_set`\n",
        "* added the class weights while training to deal with data imbalance\n",
        "\n",
        "> The results are significantly better than the previous trial in which the message_calculation_class parameter was equal to RGCN, but they are lower than the model in which the message_calculation_class parameter was equal to GGNN.\n",
        "\n",
        "> plan for trial 5: \n",
        "\n",
        "* Try to apply another one of the GCN aggregation mechanisms by tuning the message_passing mechanisms and configure the message passing style to be RGIN, and set the num_aggr_MLP_hidden_layers to be 2 as it is required parameter for RGIN."
      ]
    },
    {
      "cell_type": "markdown",
      "metadata": {
        "id": "usSDIKr11K5s"
      },
      "source": [
        "### Trial 5"
      ]
    },
    {
      "cell_type": "code",
      "execution_count": 58,
      "metadata": {
        "colab": {
          "base_uri": "https://localhost:8080/"
        },
        "id": "m1lH-9ja1MmY",
        "outputId": "daff0dfb-a863-40ab-8edb-ae8b0fcb08c0"
      },
      "outputs": [
        {
          "name": "stdout",
          "output_type": "stream",
          "text": [
            "gnn_out KerasTensor(type_spec=TensorSpec(shape=(None, 32), dtype=tf.float32, name=None), name='gnn_7/StatefulPartitionedCall:0', description=\"created by layer 'gnn_7'\")\n",
            "mean: KerasTensor(type_spec=TensorSpec(shape=(None, 32), dtype=tf.float32, name=None), name='tf.math.segment_mean_7/SegmentMean:0', description=\"created by layer 'tf.math.segment_mean_7'\")\n",
            "pred: KerasTensor(type_spec=TensorSpec(shape=(None, 1), dtype=tf.float32, name=None), name='dense_7/Sigmoid:0', description=\"created by layer 'dense_7'\")\n",
            "Model: \"model_7\"\n",
            "__________________________________________________________________________________________________\n",
            " Layer (type)                   Output Shape         Param #     Connected to                     \n",
            "==================================================================================================\n",
            " input_24 (InputLayer)          [(None,)]            0           []                               \n",
            "                                                                                                  \n",
            " input_22 (InputLayer)          [(None,)]            0           []                               \n",
            "                                                                                                  \n",
            " tf.math.reduce_max_7 (TFOpLamb  ()                  0           ['input_24[0][0]']               \n",
            " da)                                                                                              \n",
            "                                                                                                  \n",
            " embedding_7 (Embedding)        (None, 20)           14000       ['input_22[0][0]']               \n",
            "                                                                                                  \n",
            " input_23 (InputLayer)          [(None, 2)]          0           []                               \n",
            "                                                                                                  \n",
            " tf.__operators__.add_7 (TFOpLa  ()                  0           ['tf.math.reduce_max_7[0][0]']   \n",
            " mbda)                                                                                            \n",
            "                                                                                                  \n",
            " gnn_7 (GNN)                    (None, 32)           34752       ['embedding_7[0][0]',            \n",
            "                                                                  'input_23[0][0]',               \n",
            "                                                                  'input_24[0][0]',               \n",
            "                                                                  'tf.__operators__.add_7[0][0]'] \n",
            "                                                                                                  \n",
            " tf.math.segment_mean_7 (TFOpLa  (None, 32)          0           ['gnn_7[0][0]',                  \n",
            " mbda)                                                            'input_24[0][0]']               \n",
            "                                                                                                  \n",
            " dense_7 (Dense)                (None, 1)            33          ['tf.math.segment_mean_7[0][0]'] \n",
            "                                                                                                  \n",
            "==================================================================================================\n",
            "Total params: 48,785\n",
            "Trainable params: 48,785\n",
            "Non-trainable params: 0\n",
            "__________________________________________________________________________________________________\n"
          ]
        }
      ],
      "source": [
        "# Model Building \n",
        "\n",
        "# Nodes Input layer \n",
        "data = keras.Input(batch_shape=(None,))  \n",
        "\n",
        "\n",
        "# the first dim is different to the previous one. it is the total number of edges in this batch\n",
        "# Edge Input layer\n",
        "edge = keras.Input(batch_shape=(None, 2), dtype=tf.int32)\n",
        "# node2graph Input layer\n",
        "node2graph = keras.Input(batch_shape=(None,), dtype=tf.int32)\n",
        "# Embedding layer \n",
        "embeded = Embedding(tokenizer.num_words, 20)(data)\n",
        "\n",
        "# number of graphs (number of samples)\n",
        "num_graph = tf.reduce_max(node2graph)+1\n",
        "\n",
        "# GNNInput takes the features of sample ( node, the edge, the created list 'node2graph', and number of graphs (number of samples))\n",
        "gnn_input = GNNInput(\n",
        "    node_features = embeded,\n",
        "    adjacency_lists = (edge,),\n",
        "    node_to_graph_map = node2graph, \n",
        "    num_graphs = num_graph,\n",
        ")\n",
        "\n",
        "\n",
        "# hyperparameters of GNN layers\n",
        "# https://github.com/microsoft/tf2-gnn/blob/master/tf2_gnn/layers/gnn.py\n",
        "\n",
        "# defualt hyperparameters\n",
        "params = GNN.get_default_hyperparameters()\n",
        "# size of the output of all message passing layers\n",
        "params[\"hidden_dim\"] = 32\n",
        "# configures the message passing style to be RGIN (Relational Graph Isomorphism Networks)\n",
        "params['message_calculation_class'] = 'RGIN'\n",
        "params['num_aggr_MLP_hidden_layers'] = 2\n",
        "\n",
        "gnn_layer = GNN(params)\n",
        "gnn_out = gnn_layer(gnn_input)\n",
        "print('gnn_out', gnn_out)\n",
        "\n",
        "\n",
        "# Computes the segmented mean based on segment_ids\n",
        "# https://www.tensorflow.org/api_docs/python/tf/math/segment_mean\n",
        "avg = segment_mean(\n",
        "    data = gnn_out,\n",
        "    segment_ids = node2graph\n",
        ")\n",
        "print('mean:', avg)\n",
        "\n",
        "# output layer\n",
        "pred = Dense(1, activation='sigmoid')(avg)\n",
        "print('pred:', pred)\n",
        "\n",
        "\n",
        "# model building\n",
        "model = Model(\n",
        "    inputs = {\n",
        "        'data': data,\n",
        "        'edges': edge,\n",
        "        'node2grah': node2graph,\n",
        "    },\n",
        "    outputs = pred\n",
        ")\n",
        "# summary of the model\n",
        "model.summary()"
      ]
    },
    {
      "cell_type": "code",
      "execution_count": 59,
      "metadata": {
        "id": "X8iC4zBV7yJF"
      },
      "outputs": [],
      "source": [
        "# Model Compiling \n",
        "model.compile( optimizer='adam',\n",
        "    loss='BinaryCrossentropy',\n",
        "    metrics=['AUC']\n",
        ")"
      ]
    },
    {
      "cell_type": "code",
      "execution_count": 61,
      "metadata": {
        "colab": {
          "base_uri": "https://localhost:8080/"
        },
        "id": "sEvxfOw27yL-",
        "outputId": "704699b9-ffd0-450c-92de-4a3dccfadc90"
      },
      "outputs": [
        {
          "name": "stdout",
          "output_type": "stream",
          "text": [
            "Epoch 1/15\n",
            "1330/1330 [==============================] - 33s 25ms/step - loss: 1.1798 - auc: 0.7169 - val_loss: 0.6047 - val_auc: 0.7771\n",
            "Epoch 2/15\n",
            "1330/1330 [==============================] - 30s 23ms/step - loss: 1.1723 - auc: 0.7204 - val_loss: 0.5462 - val_auc: 0.7224\n",
            "Epoch 3/15\n",
            "1330/1330 [==============================] - 31s 23ms/step - loss: 1.1638 - auc: 0.7259 - val_loss: 0.6338 - val_auc: 0.7669\n",
            "Epoch 4/15\n",
            "1330/1330 [==============================] - 29s 22ms/step - loss: 1.1732 - auc: 0.7237 - val_loss: 0.7083 - val_auc: 0.7477\n",
            "Epoch 5/15\n",
            "1330/1330 [==============================] - 32s 24ms/step - loss: 1.1565 - auc: 0.7337 - val_loss: 0.6347 - val_auc: 0.7360\n",
            "Epoch 6/15\n",
            "1330/1330 [==============================] - 31s 23ms/step - loss: 1.1689 - auc: 0.7307 - val_loss: 0.6907 - val_auc: 0.7442\n",
            "Epoch 7/15\n",
            "1330/1330 [==============================] - 30s 23ms/step - loss: 1.1818 - auc: 0.7136 - val_loss: 0.5425 - val_auc: 0.7049\n",
            "Epoch 8/15\n",
            "1330/1330 [==============================] - 30s 23ms/step - loss: 1.1661 - auc: 0.7247 - val_loss: 0.4540 - val_auc: 0.7515\n",
            "Epoch 9/15\n",
            "1330/1330 [==============================] - 32s 24ms/step - loss: 1.1680 - auc: 0.7264 - val_loss: 0.7067 - val_auc: 0.7272\n",
            "Epoch 10/15\n",
            "1330/1330 [==============================] - 32s 24ms/step - loss: 1.1630 - auc: 0.7246 - val_loss: 0.7271 - val_auc: 0.7469\n",
            "Epoch 11/15\n",
            "1330/1330 [==============================] - 33s 25ms/step - loss: 1.1548 - auc: 0.7353 - val_loss: 0.4729 - val_auc: 0.7289\n",
            "Epoch 12/15\n",
            "1330/1330 [==============================] - 31s 23ms/step - loss: 1.1561 - auc: 0.7338 - val_loss: 0.6278 - val_auc: 0.7416\n",
            "Epoch 13/15\n",
            "1330/1330 [==============================] - 33s 25ms/step - loss: 1.1591 - auc: 0.7356 - val_loss: 0.5383 - val_auc: 0.7421\n",
            "Epoch 14/15\n",
            "1330/1330 [==============================] - 33s 24ms/step - loss: 1.1653 - auc: 0.7285 - val_loss: 0.7538 - val_auc: 0.7514\n",
            "Epoch 15/15\n",
            "1330/1330 [==============================] - 30s 22ms/step - loss: 1.1517 - auc: 0.7349 - val_loss: 0.5711 - val_auc: 0.7619\n"
          ]
        },
        {
          "data": {
            "text/plain": [
              "<keras.callbacks.History at 0x7f45cd929cf0>"
            ]
          },
          "execution_count": 61,
          "metadata": {},
          "output_type": "execute_result"
        }
      ],
      "source": [
        "# Model Training\n",
        "\n",
        "batch_size = 16\n",
        "# math.ceil: to get the nearest integer of batches for training data\n",
        "num_batchs = math.ceil(len(training_set) / batch_size)\n",
        "# num of batches for validation data\n",
        "num_batchs_validation = math.ceil(len(validation_set) / batch_size)\n",
        "# model training\n",
        "model.fit(\n",
        "    gen_batch(training_set, batch_size = batch_size, repeat=True),\n",
        "    steps_per_epoch = num_batchs,\n",
        "    epochs=15,\n",
        "    validation_data = gen_batch(validation_set, batch_size = batch_size, repeat=True),\n",
        "    validation_steps = num_batchs_validation,\n",
        "    class_weight = {0: 1, 1: 20},\n",
        ")"
      ]
    },
    {
      "cell_type": "code",
      "execution_count": 62,
      "metadata": {
        "colab": {
          "base_uri": "https://localhost:8080/"
        },
        "id": "1tev7k4079yw",
        "outputId": "965d15be-98f4-4c9b-99b1-cfac6829ebcf"
      },
      "outputs": [
        {
          "name": "stdout",
          "output_type": "stream",
          "text": [
            "771/771 [==============================] - 7s 9ms/step\n"
          ]
        }
      ],
      "source": [
        "# predictions on test data\n",
        "y_pred = model.predict(gen_batch(test, batch_size=16, shuffle=False))\n",
        "y_pred = np.reshape(y_pred, -1)\n"
      ]
    },
    {
      "cell_type": "code",
      "execution_count": 63,
      "metadata": {
        "id": "JF6fDT3_79yw"
      },
      "outputs": [],
      "source": [
        "# submission file\n",
        "saveResult(y_pred, 'trial5.csv')"
      ]
    },
    {
      "cell_type": "markdown",
      "metadata": {
        "id": "jefVqn9v8Jej"
      },
      "source": [
        "> Thoughts and observations for trial 5: \n",
        "\n",
        "I used **Graph Neural Network** with :\n",
        "\n",
        "* A GNN layer with defualt hyperparameters.\n",
        "* `hidden_dim` = 32 (size of the output of all message passing layers)\n",
        "* another GNN layer with the defined hyperparameters and calculated segmented mean based on segment_ids\n",
        "* GCN aggregation mechanisms by tuning the message_passing mechanisms and set `message_calculation_class` parameter  = `RGIN`\n",
        "* set the `num_aggr_MLP_hidden_layers` = 2\n",
        "\n",
        "\n",
        "\n",
        "* model compiling : \n",
        "  - BinaryCrossentropy for loss \n",
        "  - AUC to measure the model's performance.\n",
        "\n",
        "\n",
        "In the training:\n",
        "* batch size = 16 \n",
        "* epochs = 15 \n",
        "* validated the model using the `validation_set`\n",
        "* added the class weights while training to deal with data imbalance\n",
        "\n",
        "> The results are significantly better than the previous trial in which the message_calculation_class parameter was equal to RGAT, but they are lower than the model in which the message_calculation_class parameter was equal to GGNN.\n",
        "\n",
        "> plan for trial 6: \n",
        "\n",
        "* Try another GCN aggregation mechanisms by tuning the message_passing mechanisms and configure the message passing style to be `GNN_Edge_MLP`"
      ]
    },
    {
      "cell_type": "markdown",
      "metadata": {
        "id": "6CGAfVqw9Pyw"
      },
      "source": [
        "### Trial 6"
      ]
    },
    {
      "cell_type": "code",
      "execution_count": 64,
      "metadata": {
        "colab": {
          "base_uri": "https://localhost:8080/"
        },
        "id": "idFiSONPAAG-",
        "outputId": "762902d3-71e8-4bc2-a739-c18d6d99d311"
      },
      "outputs": [
        {
          "name": "stdout",
          "output_type": "stream",
          "text": [
            "gnn_out KerasTensor(type_spec=TensorSpec(shape=(None, 32), dtype=tf.float32, name=None), name='gnn_8/StatefulPartitionedCall:0', description=\"created by layer 'gnn_8'\")\n",
            "mean: KerasTensor(type_spec=TensorSpec(shape=(None, 32), dtype=tf.float32, name=None), name='tf.math.segment_mean_8/SegmentMean:0', description=\"created by layer 'tf.math.segment_mean_8'\")\n",
            "pred: KerasTensor(type_spec=TensorSpec(shape=(None, 1), dtype=tf.float32, name=None), name='dense_8/Sigmoid:0', description=\"created by layer 'dense_8'\")\n",
            "Model: \"model_8\"\n",
            "__________________________________________________________________________________________________\n",
            " Layer (type)                   Output Shape         Param #     Connected to                     \n",
            "==================================================================================================\n",
            " input_27 (InputLayer)          [(None,)]            0           []                               \n",
            "                                                                                                  \n",
            " input_25 (InputLayer)          [(None,)]            0           []                               \n",
            "                                                                                                  \n",
            " tf.math.reduce_max_8 (TFOpLamb  ()                  0           ['input_27[0][0]']               \n",
            " da)                                                                                              \n",
            "                                                                                                  \n",
            " embedding_8 (Embedding)        (None, 20)           14000       ['input_25[0][0]']               \n",
            "                                                                                                  \n",
            " input_26 (InputLayer)          [(None, 2)]          0           []                               \n",
            "                                                                                                  \n",
            " tf.__operators__.add_8 (TFOpLa  ()                  0           ['tf.math.reduce_max_8[0][0]']   \n",
            " mbda)                                                                                            \n",
            "                                                                                                  \n",
            " gnn_8 (GNN)                    (None, 32)           15232       ['embedding_8[0][0]',            \n",
            "                                                                  'input_26[0][0]',               \n",
            "                                                                  'input_27[0][0]',               \n",
            "                                                                  'tf.__operators__.add_8[0][0]'] \n",
            "                                                                                                  \n",
            " tf.math.segment_mean_8 (TFOpLa  (None, 32)          0           ['gnn_8[0][0]',                  \n",
            " mbda)                                                            'input_27[0][0]']               \n",
            "                                                                                                  \n",
            " dense_8 (Dense)                (None, 1)            33          ['tf.math.segment_mean_8[0][0]'] \n",
            "                                                                                                  \n",
            "==================================================================================================\n",
            "Total params: 29,265\n",
            "Trainable params: 29,265\n",
            "Non-trainable params: 0\n",
            "__________________________________________________________________________________________________\n"
          ]
        }
      ],
      "source": [
        "# Model Building \n",
        "\n",
        "# Nodes Input layer \n",
        "data = keras.Input(batch_shape=(None,))  \n",
        "\n",
        "\n",
        "# the first dim is different to the previous one. it is the total number of edges in this batch\n",
        "# Edge Input layer\n",
        "edge = keras.Input(batch_shape=(None, 2), dtype=tf.int32)\n",
        "# node2graph Input layer\n",
        "node2graph = keras.Input(batch_shape=(None,), dtype=tf.int32)\n",
        "# Embedding layer \n",
        "embeded = Embedding(tokenizer.num_words, 20)(data)\n",
        "\n",
        "# number of graphs (number of samples)\n",
        "num_graph = tf.reduce_max(node2graph)+1\n",
        "\n",
        "# GNNInput takes the features of sample ( node, the edge, the created list 'node2graph', and number of graphs (number of samples))\n",
        "gnn_input = GNNInput(\n",
        "    node_features = embeded,\n",
        "    adjacency_lists = (edge,),\n",
        "    node_to_graph_map = node2graph, \n",
        "    num_graphs = num_graph,\n",
        ")\n",
        "\n",
        "\n",
        "# hyperparameters of GNN layers\n",
        "# https://github.com/microsoft/tf2-gnn/blob/master/tf2_gnn/layers/gnn.py\n",
        "\n",
        "#  defualt hyperparameters of GNN_Edge_MLP\n",
        "params = GNN_Edge_MLP.get_default_hyperparameters()\n",
        "# sets the size of the output of all message passing layers\n",
        "params[\"hidden_dim\"] = 32\n",
        "# configures the parameters that needed by GNN_Edge_MLP\n",
        "params['num_layers'] = 4\n",
        "params['dense_every_num_layers'] = 2\n",
        "params['residual_every_num_layers'] = 2\n",
        "params['use_inter_layer_layernorm'] = 2\n",
        "params['initial_node_representation_activation'] = 'tanh'\n",
        "params['dense_intermediate_layer_activation'] = 'tanh'\n",
        "params['message_calculation_class'] = 'RGCN'\n",
        "params['global_exchange_mode'] = 'gru'   # has to be one of 'mean', 'mlp', 'gru'!\n",
        "params['global_exchange_every_num_layers'] = 1000\n",
        "params['global_exchange_weighting_fun'] = 'softmax'\n",
        "params['global_exchange_num_heads'] = 4\n",
        "params['global_exchange_dropout_rate'] = 0.2\n",
        "params['layer_input_dropout_rate'] = 0.2\n",
        "\n",
        "\n",
        "gnn_layer = GNN(params)\n",
        "gnn_out = gnn_layer(gnn_input)\n",
        "print('gnn_out', gnn_out)\n",
        "\n",
        "\n",
        "# Computes the segmented mean based on segment_ids\n",
        "# https://www.tensorflow.org/api_docs/python/tf/math/segment_mean\n",
        "avg = segment_mean(\n",
        "    data = gnn_out,\n",
        "    segment_ids = node2graph\n",
        ")\n",
        "print('mean:', avg)\n",
        "\n",
        "# output layer\n",
        "pred = Dense(1, activation='sigmoid')(avg)\n",
        "print('pred:', pred)\n",
        "\n",
        "\n",
        "# model building\n",
        "model = Model(\n",
        "    inputs = {\n",
        "        'data': data,\n",
        "        'edges': edge,\n",
        "        'node2grah': node2graph,\n",
        "    },\n",
        "    outputs = pred\n",
        ")\n",
        "# summary of the model\n",
        "model.summary()"
      ]
    },
    {
      "cell_type": "code",
      "execution_count": 65,
      "metadata": {
        "id": "TrGXYzZfAAG_"
      },
      "outputs": [],
      "source": [
        "# Model Compiling \n",
        "model.compile( optimizer='adam',\n",
        "    loss='BinaryCrossentropy',\n",
        "    metrics=['AUC']\n",
        ")"
      ]
    },
    {
      "cell_type": "code",
      "execution_count": 67,
      "metadata": {
        "colab": {
          "base_uri": "https://localhost:8080/"
        },
        "id": "lj8MjssVAAG_",
        "outputId": "708a5e34-1ef7-4c56-9ec8-d804be9f19a2"
      },
      "outputs": [
        {
          "name": "stdout",
          "output_type": "stream",
          "text": [
            "Epoch 1/15\n",
            "1330/1330 [==============================] - 37s 28ms/step - loss: 1.2396 - auc: 0.6650 - val_loss: 0.6433 - val_auc: 0.7002\n",
            "Epoch 2/15\n",
            "1330/1330 [==============================] - 32s 24ms/step - loss: 1.2259 - auc: 0.6795 - val_loss: 0.6706 - val_auc: 0.6750\n",
            "Epoch 3/15\n",
            "1330/1330 [==============================] - 38s 28ms/step - loss: 1.2205 - auc: 0.6830 - val_loss: 0.5935 - val_auc: 0.6903\n",
            "Epoch 4/15\n",
            "1330/1330 [==============================] - 34s 26ms/step - loss: 1.2114 - auc: 0.6975 - val_loss: 0.6078 - val_auc: 0.7144\n",
            "Epoch 5/15\n",
            "1330/1330 [==============================] - 31s 23ms/step - loss: 1.2141 - auc: 0.6908 - val_loss: 0.4998 - val_auc: 0.6749\n",
            "Epoch 6/15\n",
            "1330/1330 [==============================] - 28s 21ms/step - loss: 1.2022 - auc: 0.6978 - val_loss: 0.5778 - val_auc: 0.7043\n",
            "Epoch 7/15\n",
            "1330/1330 [==============================] - 30s 23ms/step - loss: 1.1869 - auc: 0.7112 - val_loss: 0.5910 - val_auc: 0.7367\n",
            "Epoch 8/15\n",
            "1330/1330 [==============================] - 35s 26ms/step - loss: 1.1627 - auc: 0.7305 - val_loss: 0.6531 - val_auc: 0.7245\n",
            "Epoch 9/15\n",
            "1330/1330 [==============================] - 28s 21ms/step - loss: 1.1623 - auc: 0.7299 - val_loss: 0.6130 - val_auc: 0.7540\n",
            "Epoch 10/15\n",
            "1330/1330 [==============================] - 29s 22ms/step - loss: 1.1465 - auc: 0.7416 - val_loss: 0.5538 - val_auc: 0.7771\n",
            "Epoch 11/15\n",
            "1330/1330 [==============================] - 33s 25ms/step - loss: 1.1465 - auc: 0.7375 - val_loss: 0.5411 - val_auc: 0.7239\n",
            "Epoch 12/15\n",
            "1330/1330 [==============================] - 36s 27ms/step - loss: 1.1427 - auc: 0.7419 - val_loss: 0.5341 - val_auc: 0.8069\n",
            "Epoch 13/15\n",
            "1330/1330 [==============================] - 31s 24ms/step - loss: 1.1267 - auc: 0.7514 - val_loss: 0.5585 - val_auc: 0.7878\n",
            "Epoch 14/15\n",
            "1330/1330 [==============================] - 29s 22ms/step - loss: 1.1096 - auc: 0.7630 - val_loss: 0.6033 - val_auc: 0.7932\n",
            "Epoch 15/15\n",
            "1330/1330 [==============================] - 30s 23ms/step - loss: 1.0971 - auc: 0.7708 - val_loss: 0.6176 - val_auc: 0.7892\n"
          ]
        },
        {
          "data": {
            "text/plain": [
              "<keras.callbacks.History at 0x7f45c8d32470>"
            ]
          },
          "execution_count": 67,
          "metadata": {},
          "output_type": "execute_result"
        }
      ],
      "source": [
        "# Model Training\n",
        "\n",
        "batch_size = 16\n",
        "# math.ceil: to get the nearest integer of batches for training data\n",
        "num_batchs = math.ceil(len(training_set) / batch_size)\n",
        "# num of batches for validation data\n",
        "num_batchs_validation = math.ceil(len(validation_set) / batch_size)\n",
        "# model training\n",
        "model.fit(\n",
        "    gen_batch(training_set, batch_size = batch_size, repeat=True),\n",
        "    steps_per_epoch = num_batchs,\n",
        "    epochs=15,\n",
        "    validation_data = gen_batch(validation_set, batch_size = batch_size, repeat=True),\n",
        "    validation_steps = num_batchs_validation,\n",
        "    class_weight = {0: 1, 1: 20},\n",
        ")"
      ]
    },
    {
      "cell_type": "code",
      "execution_count": 68,
      "metadata": {
        "colab": {
          "base_uri": "https://localhost:8080/"
        },
        "id": "ytORVoBCAAG_",
        "outputId": "3c7da829-7cd3-4325-a4c5-154dcb938b75"
      },
      "outputs": [
        {
          "name": "stdout",
          "output_type": "stream",
          "text": [
            "771/771 [==============================] - 7s 9ms/step\n"
          ]
        }
      ],
      "source": [
        "# predictions on test data\n",
        "y_pred = model.predict(gen_batch(test, batch_size=16, shuffle=False))\n",
        "y_pred = np.reshape(y_pred, -1)\n"
      ]
    },
    {
      "cell_type": "code",
      "execution_count": 69,
      "metadata": {
        "id": "dZTW4UdzAAG_"
      },
      "outputs": [],
      "source": [
        "# submission file\n",
        "saveResult(y_pred, 'trial6.csv')"
      ]
    },
    {
      "cell_type": "markdown",
      "metadata": {
        "id": "4dZG3BJcApQG"
      },
      "source": [
        "> Thoughts and observations for trial 6: \n",
        "\n",
        "I used **Graph Neural Network** with :\n",
        "\n",
        "* A GNN layer with defualt hyperparameters.\n",
        "* `hidden_dim` = 32 (size of the output of all message passing layers)\n",
        "* another GNN layer with the defined hyperparameters and calculated segmented mean based on segment_ids\n",
        "* GCN aggregation mechanisms by tuning the message_passing and configure the message passing style to be `GNN_Edge_MLP`\n",
        "* configure all the parameters that needed by GNN_Edge_MLP\n",
        "\n",
        "\n",
        "* model compiling : \n",
        "  - BinaryCrossentropy for loss \n",
        "  - AUC to measure the model's performance.\n",
        "\n",
        "\n",
        "In the training:\n",
        "* batch size = 16 \n",
        "* epochs = 15 \n",
        "* validated the model using the `validation_set`\n",
        "* added the class weights while training to deal with data imbalance\n",
        "\n",
        "> The results are  better than the previous trials, but they are lower than the model in which the message_calculation_class parameter was equal to GGNN.\n",
        "Till now GGNN has best results\n",
        "\n",
        "> plan for trial 7: \n",
        "\n",
        "* Try another GCN aggregation mechanisms by tuning the message_passing mechanisms and configure the message passing style to be `GNN_FiLM`\n"
      ]
    },
    {
      "cell_type": "markdown",
      "metadata": {
        "id": "0IDwoZMPCLhO"
      },
      "source": [
        "### Trial 7"
      ]
    },
    {
      "cell_type": "code",
      "execution_count": 70,
      "metadata": {
        "colab": {
          "base_uri": "https://localhost:8080/"
        },
        "id": "6nGTEy4yDoyA",
        "outputId": "e84d98a4-9afd-4457-c5df-679167e07ddc"
      },
      "outputs": [
        {
          "name": "stdout",
          "output_type": "stream",
          "text": [
            "gnn_out KerasTensor(type_spec=TensorSpec(shape=(None, 32), dtype=tf.float32, name=None), name='gnn_9/StatefulPartitionedCall:0', description=\"created by layer 'gnn_9'\")\n",
            "mean: KerasTensor(type_spec=TensorSpec(shape=(None, 32), dtype=tf.float32, name=None), name='tf.math.segment_mean_9/SegmentMean:0', description=\"created by layer 'tf.math.segment_mean_9'\")\n",
            "pred: KerasTensor(type_spec=TensorSpec(shape=(None, 1), dtype=tf.float32, name=None), name='dense_9/Sigmoid:0', description=\"created by layer 'dense_9'\")\n",
            "Model: \"model_9\"\n",
            "__________________________________________________________________________________________________\n",
            " Layer (type)                   Output Shape         Param #     Connected to                     \n",
            "==================================================================================================\n",
            " input_30 (InputLayer)          [(None,)]            0           []                               \n",
            "                                                                                                  \n",
            " input_28 (InputLayer)          [(None,)]            0           []                               \n",
            "                                                                                                  \n",
            " tf.math.reduce_max_9 (TFOpLamb  ()                  0           ['input_30[0][0]']               \n",
            " da)                                                                                              \n",
            "                                                                                                  \n",
            " embedding_9 (Embedding)        (None, 20)           14000       ['input_28[0][0]']               \n",
            "                                                                                                  \n",
            " input_29 (InputLayer)          [(None, 2)]          0           []                               \n",
            "                                                                                                  \n",
            " tf.__operators__.add_9 (TFOpLa  ()                  0           ['tf.math.reduce_max_9[0][0]']   \n",
            " mbda)                                                                                            \n",
            "                                                                                                  \n",
            " gnn_9 (GNN)                    (None, 32)           7040        ['embedding_9[0][0]',            \n",
            "                                                                  'input_29[0][0]',               \n",
            "                                                                  'input_30[0][0]',               \n",
            "                                                                  'tf.__operators__.add_9[0][0]'] \n",
            "                                                                                                  \n",
            " tf.math.segment_mean_9 (TFOpLa  (None, 32)          0           ['gnn_9[0][0]',                  \n",
            " mbda)                                                            'input_30[0][0]']               \n",
            "                                                                                                  \n",
            " dense_9 (Dense)                (None, 1)            33          ['tf.math.segment_mean_9[0][0]'] \n",
            "                                                                                                  \n",
            "==================================================================================================\n",
            "Total params: 21,073\n",
            "Trainable params: 21,073\n",
            "Non-trainable params: 0\n",
            "__________________________________________________________________________________________________\n"
          ]
        }
      ],
      "source": [
        "# Model Building \n",
        "\n",
        "# Nodes Input layer \n",
        "data = keras.Input(batch_shape=(None,))  \n",
        "\n",
        "\n",
        "# the first dim is different to the previous one. it is the total number of edges in this batch\n",
        "# Edge Input layer\n",
        "edge = keras.Input(batch_shape=(None, 2), dtype=tf.int32)\n",
        "# node2graph Input layer\n",
        "node2graph = keras.Input(batch_shape=(None,), dtype=tf.int32)\n",
        "# Embedding layer \n",
        "embeded = Embedding(tokenizer.num_words, 20)(data)\n",
        "\n",
        "# number of graphs (number of samples)\n",
        "num_graph = tf.reduce_max(node2graph)+1\n",
        "\n",
        "# GNNInput takes the features of sample ( node, the edge, the created list 'node2graph', and number of graphs (number of samples))\n",
        "gnn_input = GNNInput(\n",
        "    node_features = embeded,\n",
        "    adjacency_lists = (edge,),\n",
        "    node_to_graph_map = node2graph, \n",
        "    num_graphs = num_graph,\n",
        ")\n",
        "\n",
        "\n",
        "# hyperparameters of GNN layers\n",
        "# https://github.com/microsoft/tf2-gnn/blob/master/tf2_gnn/layers/gnn.py\n",
        "\n",
        "#  defualt hyperparameters of GNN_FiLM\n",
        "params = GNN_FiLM.get_default_hyperparameters()\n",
        "# sets the size of the output of all message passing layers\n",
        "params[\"hidden_dim\"] = 32\n",
        "# configures the parameters that needed by GNN_FiLM\n",
        "params['num_layers'] = 4\n",
        "params['dense_every_num_layers'] = 2\n",
        "params['residual_every_num_layers'] = 2\n",
        "params['use_inter_layer_layernorm'] = 2\n",
        "params['initial_node_representation_activation'] = 'tanh'\n",
        "params['dense_intermediate_layer_activation'] = 'tanh'\n",
        "params['message_calculation_class'] = 'RGCN'\n",
        "params['global_exchange_mode'] = 'gru'   # has to be one of 'mean', 'mlp', 'gru'!\n",
        "params['global_exchange_every_num_layers'] = 1000\n",
        "params['global_exchange_weighting_fun'] = 'softmax'\n",
        "params['global_exchange_num_heads'] = 4\n",
        "params['global_exchange_dropout_rate'] = 0.2\n",
        "params['layer_input_dropout_rate'] = 0.2\n",
        "\n",
        "\n",
        "gnn_layer = GNN(params)\n",
        "gnn_out = gnn_layer(gnn_input)\n",
        "print('gnn_out', gnn_out)\n",
        "\n",
        "\n",
        "# Computes the segmented mean based on segment_ids\n",
        "# https://www.tensorflow.org/api_docs/python/tf/math/segment_mean\n",
        "avg = segment_mean(\n",
        "    data = gnn_out,\n",
        "    segment_ids = node2graph\n",
        ")\n",
        "print('mean:', avg)\n",
        "\n",
        "# output layer\n",
        "pred = Dense(1, activation='sigmoid')(avg)\n",
        "print('pred:', pred)\n",
        "\n",
        "\n",
        "# model building\n",
        "model = Model(\n",
        "    inputs = {\n",
        "        'data': data,\n",
        "        'edges': edge,\n",
        "        'node2grah': node2graph,\n",
        "    },\n",
        "    outputs = pred\n",
        ")\n",
        "# summary of the model\n",
        "model.summary()"
      ]
    },
    {
      "cell_type": "code",
      "execution_count": 71,
      "metadata": {
        "id": "nxZOW1jsDoyA"
      },
      "outputs": [],
      "source": [
        "# Model Compiling \n",
        "model.compile( optimizer='adam',\n",
        "    loss='BinaryCrossentropy',\n",
        "    metrics=['AUC']\n",
        ")"
      ]
    },
    {
      "cell_type": "code",
      "execution_count": 72,
      "metadata": {
        "colab": {
          "base_uri": "https://localhost:8080/"
        },
        "id": "n80uxQ10DoyB",
        "outputId": "dd6af55f-acfb-459d-a362-8aae3e18b279"
      },
      "outputs": [
        {
          "name": "stdout",
          "output_type": "stream",
          "text": [
            "Epoch 1/15\n",
            "1330/1330 [==============================] - 30s 20ms/step - loss: 1.2697 - auc: 0.6372 - val_loss: 0.5955 - val_auc: 0.6791\n",
            "Epoch 2/15\n",
            "1330/1330 [==============================] - 33s 25ms/step - loss: 1.2310 - auc: 0.6725 - val_loss: 0.6323 - val_auc: 0.6972\n",
            "Epoch 3/15\n",
            "1330/1330 [==============================] - 29s 21ms/step - loss: 1.2184 - auc: 0.6843 - val_loss: 0.6163 - val_auc: 0.6910\n",
            "Epoch 4/15\n",
            "1330/1330 [==============================] - 29s 22ms/step - loss: 1.2070 - auc: 0.6945 - val_loss: 0.5495 - val_auc: 0.7233\n",
            "Epoch 5/15\n",
            "1330/1330 [==============================] - 29s 22ms/step - loss: 1.1991 - auc: 0.7044 - val_loss: 0.6225 - val_auc: 0.7276\n",
            "Epoch 6/15\n",
            "1330/1330 [==============================] - 29s 22ms/step - loss: 1.1814 - auc: 0.7146 - val_loss: 0.6505 - val_auc: 0.7437\n",
            "Epoch 7/15\n",
            "1330/1330 [==============================] - 33s 25ms/step - loss: 1.1723 - auc: 0.7219 - val_loss: 0.4608 - val_auc: 0.7521\n",
            "Epoch 8/15\n",
            "1330/1330 [==============================] - 32s 24ms/step - loss: 1.1684 - auc: 0.7285 - val_loss: 0.6390 - val_auc: 0.7424\n",
            "Epoch 9/15\n",
            "1330/1330 [==============================] - 28s 21ms/step - loss: 1.1653 - auc: 0.7265 - val_loss: 0.5682 - val_auc: 0.7548\n",
            "Epoch 10/15\n",
            "1330/1330 [==============================] - 34s 25ms/step - loss: 1.1537 - auc: 0.7346 - val_loss: 0.6490 - val_auc: 0.7482\n",
            "Epoch 11/15\n",
            "1330/1330 [==============================] - 29s 22ms/step - loss: 1.1499 - auc: 0.7366 - val_loss: 0.6774 - val_auc: 0.7623\n",
            "Epoch 12/15\n",
            "1330/1330 [==============================] - 30s 23ms/step - loss: 1.1471 - auc: 0.7405 - val_loss: 0.6642 - val_auc: 0.7325\n",
            "Epoch 13/15\n",
            "1330/1330 [==============================] - 26s 19ms/step - loss: 1.1599 - auc: 0.7323 - val_loss: 0.6065 - val_auc: 0.7478\n",
            "Epoch 14/15\n",
            "1330/1330 [==============================] - 27s 20ms/step - loss: 1.1438 - auc: 0.7398 - val_loss: 0.5631 - val_auc: 0.7413\n",
            "Epoch 15/15\n",
            "1330/1330 [==============================] - 28s 21ms/step - loss: 1.1330 - auc: 0.7458 - val_loss: 0.5527 - val_auc: 0.7623\n"
          ]
        },
        {
          "data": {
            "text/plain": [
              "<keras.callbacks.History at 0x7f45bd403d60>"
            ]
          },
          "execution_count": 72,
          "metadata": {},
          "output_type": "execute_result"
        }
      ],
      "source": [
        "# Model Training\n",
        "\n",
        "batch_size = 16\n",
        "# math.ceil: to get the nearest integer of batches for training data\n",
        "num_batchs = math.ceil(len(training_set) / batch_size)\n",
        "# num of batches for validation data\n",
        "num_batchs_validation = math.ceil(len(validation_set) / batch_size)\n",
        "# model training\n",
        "model.fit(\n",
        "    gen_batch(training_set, batch_size = batch_size, repeat=True),\n",
        "    steps_per_epoch = num_batchs,\n",
        "    epochs=15,\n",
        "    validation_data = gen_batch(validation_set, batch_size = batch_size, repeat=True),\n",
        "    validation_steps = num_batchs_validation,\n",
        "    class_weight = {0: 1, 1: 20},\n",
        ")"
      ]
    },
    {
      "cell_type": "code",
      "execution_count": 73,
      "metadata": {
        "colab": {
          "base_uri": "https://localhost:8080/"
        },
        "id": "yh_iyq7ADoyB",
        "outputId": "4107a61e-dab0-4ef6-e5b6-5ade37ac7c5f"
      },
      "outputs": [
        {
          "name": "stdout",
          "output_type": "stream",
          "text": [
            "771/771 [==============================] - 7s 8ms/step\n"
          ]
        }
      ],
      "source": [
        "# predictions on test data\n",
        "y_pred = model.predict(gen_batch(test, batch_size=16, shuffle=False))\n",
        "y_pred = np.reshape(y_pred, -1)\n"
      ]
    },
    {
      "cell_type": "code",
      "execution_count": 83,
      "metadata": {
        "id": "h-qgzr6RDoyB"
      },
      "outputs": [],
      "source": [
        "# submission file\n",
        "saveResult(y_pred, 'trial7.csv')"
      ]
    },
    {
      "cell_type": "markdown",
      "metadata": {
        "id": "gFREmJcNEIwX"
      },
      "source": [
        "> Thoughts and observations for trial 7: \n",
        "\n",
        "I used **Graph Neural Network** with :\n",
        "\n",
        "* A GNN layer with defualt hyperparameters.\n",
        "* `hidden_dim` = 32 (size of the output of all message passing layers)\n",
        "* another GNN layer with the defined hyperparameters and calculated segmented mean based on segment_ids\n",
        "* GCN aggregation mechanisms by tuning the message_passing and configure the message passing style to be `GNN_FiLM`\n",
        "* configure all the parameters that needed by GNN_FiLM\n",
        "\n",
        "\n",
        "* model compiling : \n",
        "  - BinaryCrossentropy for loss \n",
        "  - AUC to measure the model's performance.\n",
        "\n",
        "\n",
        "In the training:\n",
        "* batch size = 16 \n",
        "* epochs = 15 \n",
        "* validated the model using the `validation_set`\n",
        "* added the class weights while training to deal with data imbalance\n"
      ]
    },
    {
      "cell_type": "markdown",
      "metadata": {
        "id": "LmlW-GYuCNwg"
      },
      "source": [
        "### Because the preceding trails have covered all possible GCN aggregation mechanisms (aka message_passing mechanisms) used in the graph convolution layer as represented in the Graph Neural Networks documentation: https://github.com/microsoft/tf2-gnn\n",
        "### And, of all trials, the best two that provide the highest accuracy are: Trials 2 and 6\n",
        "### The subsequent and last two trials will take the top models and tweak their hyperparameters to improve accuracy."
      ]
    },
    {
      "cell_type": "markdown",
      "metadata": {
        "id": "EJSu808JCM2Y"
      },
      "source": [
        "### Trial 8"
      ]
    },
    {
      "cell_type": "code",
      "execution_count": 78,
      "metadata": {
        "colab": {
          "base_uri": "https://localhost:8080/"
        },
        "id": "I4OWwS1vI6RQ",
        "outputId": "75656936-a4b5-49da-d16c-2173150210e6"
      },
      "outputs": [
        {
          "name": "stdout",
          "output_type": "stream",
          "text": [
            "gnn_out KerasTensor(type_spec=TensorSpec(shape=(None, 64), dtype=tf.float32, name=None), name='gnn_10/StatefulPartitionedCall:0', description=\"created by layer 'gnn_10'\")\n",
            "mean: KerasTensor(type_spec=TensorSpec(shape=(None, 64), dtype=tf.float32, name=None), name='tf.math.segment_mean_10/SegmentMean:0', description=\"created by layer 'tf.math.segment_mean_10'\")\n",
            "pred: KerasTensor(type_spec=TensorSpec(shape=(None, 1), dtype=tf.float32, name=None), name='dense_10/Sigmoid:0', description=\"created by layer 'dense_10'\")\n",
            "Model: \"model_10\"\n",
            "__________________________________________________________________________________________________\n",
            " Layer (type)                   Output Shape         Param #     Connected to                     \n",
            "==================================================================================================\n",
            " input_33 (InputLayer)          [(None,)]            0           []                               \n",
            "                                                                                                  \n",
            " input_31 (InputLayer)          [(None,)]            0           []                               \n",
            "                                                                                                  \n",
            " tf.math.reduce_max_10 (TFOpLam  ()                  0           ['input_33[0][0]']               \n",
            " bda)                                                                                             \n",
            "                                                                                                  \n",
            " embedding_10 (Embedding)       (None, 20)           14000       ['input_31[0][0]']               \n",
            "                                                                                                  \n",
            " input_32 (InputLayer)          [(None, 2)]          0           []                               \n",
            "                                                                                                  \n",
            " tf.__operators__.add_10 (TFOpL  ()                  0           ['tf.math.reduce_max_10[0][0]']  \n",
            " ambda)                                                                                           \n",
            "                                                                                                  \n",
            " gnn_10 (GNN)                   (None, 64)           171392      ['embedding_10[0][0]',           \n",
            "                                                                  'input_32[0][0]',               \n",
            "                                                                  'input_33[0][0]',               \n",
            "                                                                  'tf.__operators__.add_10[0][0]']\n",
            "                                                                                                  \n",
            " tf.math.segment_mean_10 (TFOpL  (None, 64)          0           ['gnn_10[0][0]',                 \n",
            " ambda)                                                           'input_33[0][0]']               \n",
            "                                                                                                  \n",
            " dense_10 (Dense)               (None, 1)            65          ['tf.math.segment_mean_10[0][0]']\n",
            "                                                                                                  \n",
            "==================================================================================================\n",
            "Total params: 185,457\n",
            "Trainable params: 185,457\n",
            "Non-trainable params: 0\n",
            "__________________________________________________________________________________________________\n"
          ]
        }
      ],
      "source": [
        "# Model Building \n",
        "\n",
        "# Nodes Input layer \n",
        "data = keras.Input(batch_shape=(None,))  \n",
        "\n",
        "\n",
        "# the first dim is different to the previous one. it is the total number of edges in this batch\n",
        "# Edge Input layer\n",
        "edge = keras.Input(batch_shape=(None, 2), dtype=tf.int32)\n",
        "# node2graph Input layer\n",
        "node2graph = keras.Input(batch_shape=(None,), dtype=tf.int32)\n",
        "# Embedding layer \n",
        "embeded = Embedding(tokenizer.num_words, 20)(data)\n",
        "\n",
        "# number of graphs (number of samples)\n",
        "num_graph = tf.reduce_max(node2graph)+1\n",
        "\n",
        "# GNNInput takes the features of sample ( node, the edge, the created list 'node2graph', and number of graphs (number of samples))\n",
        "gnn_input = GNNInput(\n",
        "    node_features = embeded,\n",
        "    adjacency_lists = (edge,),\n",
        "    node_to_graph_map = node2graph, \n",
        "    num_graphs = num_graph,\n",
        ")\n",
        "\n",
        "\n",
        "# hyperparameters of GNN layers\n",
        "# https://github.com/microsoft/tf2-gnn/blob/master/tf2_gnn/layers/gnn.py\n",
        "\n",
        "# defualt hyperparameters\n",
        "params = GNN.get_default_hyperparameters()\n",
        "# size of the output of all message passing layers\n",
        "params[\"hidden_dim\"] = 64\n",
        "# configures the message passing style to be GGNN (Gated Graph Neural Networks)\n",
        "params['message_calculation_class'] = 'GGNN'\n",
        "\n",
        "gnn_layer = GNN(params)\n",
        "gnn_out = gnn_layer(gnn_input)\n",
        "print('gnn_out', gnn_out)\n",
        "\n",
        "\n",
        "# Computes the segmented mean based on segment_ids\n",
        "# https://www.tensorflow.org/api_docs/python/tf/math/segment_mean\n",
        "avg = segment_mean(\n",
        "    data = gnn_out,\n",
        "    segment_ids = node2graph\n",
        ")\n",
        "print('mean:', avg)\n",
        "\n",
        "# output layer\n",
        "pred = Dense(1, activation='sigmoid')(avg)\n",
        "print('pred:', pred)\n",
        "\n",
        "\n",
        "# model building\n",
        "model = Model(\n",
        "    inputs = {\n",
        "        'data': data,\n",
        "        'edges': edge,\n",
        "        'node2grah': node2graph,\n",
        "    },\n",
        "    outputs = pred\n",
        ")\n",
        "# summary of the model\n",
        "model.summary()"
      ]
    },
    {
      "cell_type": "code",
      "execution_count": 79,
      "metadata": {
        "id": "-08PxJV-I6RR"
      },
      "outputs": [],
      "source": [
        "# Model Compiling \n",
        "model.compile( optimizer='adam',\n",
        "    loss='BinaryCrossentropy',\n",
        "    metrics=['AUC']\n",
        ")"
      ]
    },
    {
      "cell_type": "code",
      "execution_count": 80,
      "metadata": {
        "colab": {
          "base_uri": "https://localhost:8080/"
        },
        "id": "8LVfwf7tI6RR",
        "outputId": "ca0ba1a0-960d-449c-9aba-5e8b0070ff0c"
      },
      "outputs": [
        {
          "name": "stdout",
          "output_type": "stream",
          "text": [
            "Epoch 1/15\n",
            "1330/1330 [==============================] - 85s 59ms/step - loss: 1.2611 - auc: 0.6476 - val_loss: 0.6854 - val_auc: 0.6701\n",
            "Epoch 2/15\n",
            "1330/1330 [==============================] - 87s 65ms/step - loss: 1.2296 - auc: 0.6747 - val_loss: 0.6183 - val_auc: 0.7383\n",
            "Epoch 3/15\n",
            "1330/1330 [==============================] - 99s 74ms/step - loss: 1.1908 - auc: 0.7087 - val_loss: 0.5094 - val_auc: 0.7567\n",
            "Epoch 4/15\n",
            "1330/1330 [==============================] - 89s 67ms/step - loss: 1.1789 - auc: 0.7196 - val_loss: 0.6470 - val_auc: 0.7555\n",
            "Epoch 5/15\n",
            "1330/1330 [==============================] - 69s 52ms/step - loss: 1.1684 - auc: 0.7258 - val_loss: 0.5871 - val_auc: 0.7493\n",
            "Epoch 6/15\n",
            "1330/1330 [==============================] - 71s 53ms/step - loss: 1.1379 - auc: 0.7435 - val_loss: 0.5377 - val_auc: 0.7778\n",
            "Epoch 7/15\n",
            "1330/1330 [==============================] - 69s 52ms/step - loss: 1.1001 - auc: 0.7703 - val_loss: 0.5670 - val_auc: 0.7823\n",
            "Epoch 8/15\n",
            "1330/1330 [==============================] - 69s 52ms/step - loss: 1.1400 - auc: 0.7474 - val_loss: 0.5610 - val_auc: 0.7049\n",
            "Epoch 9/15\n",
            "1330/1330 [==============================] - 68s 51ms/step - loss: 1.1586 - auc: 0.7368 - val_loss: 0.5103 - val_auc: 0.7609\n",
            "Epoch 10/15\n",
            "1330/1330 [==============================] - 69s 52ms/step - loss: 1.1282 - auc: 0.7576 - val_loss: 0.5421 - val_auc: 0.7715\n",
            "Epoch 11/15\n",
            "1330/1330 [==============================] - 70s 53ms/step - loss: 1.1116 - auc: 0.7691 - val_loss: 0.5575 - val_auc: 0.7742\n",
            "Epoch 12/15\n",
            "1330/1330 [==============================] - 83s 62ms/step - loss: 1.0914 - auc: 0.7792 - val_loss: 0.5549 - val_auc: 0.7865\n",
            "Epoch 13/15\n",
            "1330/1330 [==============================] - 70s 52ms/step - loss: 1.0734 - auc: 0.7887 - val_loss: 0.6339 - val_auc: 0.7475\n",
            "Epoch 14/15\n",
            "1330/1330 [==============================] - 68s 51ms/step - loss: 1.0841 - auc: 0.7800 - val_loss: 0.5417 - val_auc: 0.7908\n",
            "Epoch 15/15\n",
            "1330/1330 [==============================] - 74s 55ms/step - loss: 1.0612 - auc: 0.7947 - val_loss: 0.5266 - val_auc: 0.8126\n"
          ]
        },
        {
          "data": {
            "text/plain": [
              "<keras.callbacks.History at 0x7f45b6da57e0>"
            ]
          },
          "execution_count": 80,
          "metadata": {},
          "output_type": "execute_result"
        }
      ],
      "source": [
        "# Model Training\n",
        "\n",
        "batch_size = 16\n",
        "# math.ceil: to get the nearest integer of batches for training data\n",
        "num_batchs = math.ceil(len(training_set) / batch_size)\n",
        "# num of batches for validation data\n",
        "num_batchs_validation = math.ceil(len(validation_set) / batch_size)\n",
        "# model training\n",
        "model.fit(\n",
        "    gen_batch(training_set, batch_size = batch_size, repeat=True),\n",
        "    steps_per_epoch = num_batchs,\n",
        "    epochs=15,\n",
        "    validation_data = gen_batch(validation_set, batch_size = batch_size, repeat=True),\n",
        "    validation_steps = num_batchs_validation,\n",
        "    class_weight = {0: 1, 1: 20},\n",
        ")"
      ]
    },
    {
      "cell_type": "code",
      "execution_count": 81,
      "metadata": {
        "colab": {
          "base_uri": "https://localhost:8080/"
        },
        "id": "ZWC5cb_pI6RR",
        "outputId": "fb28fc15-8153-439b-c15c-cd9514ff2965"
      },
      "outputs": [
        {
          "name": "stdout",
          "output_type": "stream",
          "text": [
            "771/771 [==============================] - 13s 17ms/step\n"
          ]
        }
      ],
      "source": [
        "# predictions on test data\n",
        "y_pred = model.predict(gen_batch(test, batch_size=16, shuffle=False))\n",
        "y_pred = np.reshape(y_pred, -1)\n"
      ]
    },
    {
      "cell_type": "code",
      "execution_count": 82,
      "metadata": {
        "id": "De1FiE5pI6RR"
      },
      "outputs": [],
      "source": [
        "# submission file\n",
        "saveResult(y_pred, 'trial8.csv')"
      ]
    },
    {
      "cell_type": "markdown",
      "metadata": {
        "id": "0FzN6-PoCM5q"
      },
      "source": [
        "> thoughts and observations for trial 8\n",
        "\n",
        "In this trial I used **the same model that used in the trial 2 ** which is **Graph Neural Network with message_passing mechanisms equals to GGNN**\n",
        "after changing its hyperparameter by setting `hidden_dim` = 64 and this contributes to the model's performance improvement\n",
        "\n",
        "\n",
        "As a result,the training took longer time but the fine-tuning hyperparameters yields superior results than trial 2.\n"
      ]
    },
    {
      "cell_type": "markdown",
      "metadata": {
        "id": "hcZZfgTPCM8V"
      },
      "source": [
        "### Trial 9"
      ]
    },
    {
      "cell_type": "code",
      "execution_count": 84,
      "metadata": {
        "colab": {
          "base_uri": "https://localhost:8080/"
        },
        "id": "GuY1Dm6hKQOO",
        "outputId": "f1680195-0d94-449f-ef4a-d550069ab295"
      },
      "outputs": [
        {
          "name": "stdout",
          "output_type": "stream",
          "text": [
            "gnn_out KerasTensor(type_spec=TensorSpec(shape=(None, 64), dtype=tf.float32, name=None), name='gnn_11/StatefulPartitionedCall:0', description=\"created by layer 'gnn_11'\")\n",
            "mean: KerasTensor(type_spec=TensorSpec(shape=(None, 64), dtype=tf.float32, name=None), name='tf.math.segment_mean_11/SegmentMean:0', description=\"created by layer 'tf.math.segment_mean_11'\")\n",
            "pred: KerasTensor(type_spec=TensorSpec(shape=(None, 1), dtype=tf.float32, name=None), name='dense_11/Sigmoid:0', description=\"created by layer 'dense_11'\")\n",
            "Model: \"model_11\"\n",
            "__________________________________________________________________________________________________\n",
            " Layer (type)                   Output Shape         Param #     Connected to                     \n",
            "==================================================================================================\n",
            " input_36 (InputLayer)          [(None,)]            0           []                               \n",
            "                                                                                                  \n",
            " input_34 (InputLayer)          [(None,)]            0           []                               \n",
            "                                                                                                  \n",
            " tf.math.reduce_max_11 (TFOpLam  ()                  0           ['input_36[0][0]']               \n",
            " bda)                                                                                             \n",
            "                                                                                                  \n",
            " embedding_11 (Embedding)       (None, 20)           14000       ['input_34[0][0]']               \n",
            "                                                                                                  \n",
            " input_35 (InputLayer)          [(None, 2)]          0           []                               \n",
            "                                                                                                  \n",
            " tf.__operators__.add_11 (TFOpL  ()                  0           ['tf.math.reduce_max_11[0][0]']  \n",
            " ambda)                                                                                           \n",
            "                                                                                                  \n",
            " gnn_11 (GNN)                   (None, 64)           59136       ['embedding_11[0][0]',           \n",
            "                                                                  'input_35[0][0]',               \n",
            "                                                                  'input_36[0][0]',               \n",
            "                                                                  'tf.__operators__.add_11[0][0]']\n",
            "                                                                                                  \n",
            " tf.math.segment_mean_11 (TFOpL  (None, 64)          0           ['gnn_11[0][0]',                 \n",
            " ambda)                                                           'input_36[0][0]']               \n",
            "                                                                                                  \n",
            " dense_11 (Dense)               (None, 1)            65          ['tf.math.segment_mean_11[0][0]']\n",
            "                                                                                                  \n",
            "==================================================================================================\n",
            "Total params: 73,201\n",
            "Trainable params: 73,201\n",
            "Non-trainable params: 0\n",
            "__________________________________________________________________________________________________\n"
          ]
        }
      ],
      "source": [
        "# Model Building \n",
        "\n",
        "# Nodes Input layer \n",
        "data = keras.Input(batch_shape=(None,))  \n",
        "\n",
        "\n",
        "# the first dim is different to the previous one. it is the total number of edges in this batch\n",
        "# Edge Input layer\n",
        "edge = keras.Input(batch_shape=(None, 2), dtype=tf.int32)\n",
        "# node2graph Input layer\n",
        "node2graph = keras.Input(batch_shape=(None,), dtype=tf.int32)\n",
        "# Embedding layer \n",
        "embeded = Embedding(tokenizer.num_words, 20)(data)\n",
        "\n",
        "# number of graphs (number of samples)\n",
        "num_graph = tf.reduce_max(node2graph)+1\n",
        "\n",
        "# GNNInput takes the features of sample ( node, the edge, the created list 'node2graph', and number of graphs (number of samples))\n",
        "gnn_input = GNNInput(\n",
        "    node_features = embeded,\n",
        "    adjacency_lists = (edge,),\n",
        "    node_to_graph_map = node2graph, \n",
        "    num_graphs = num_graph,\n",
        ")\n",
        "\n",
        "\n",
        "# hyperparameters of GNN layers\n",
        "# https://github.com/microsoft/tf2-gnn/blob/master/tf2_gnn/layers/gnn.py\n",
        "\n",
        "#  defualt hyperparameters of GNN_Edge_MLP\n",
        "params = GNN_Edge_MLP.get_default_hyperparameters()\n",
        "# sets the size of the output of all message passing layers\n",
        "params[\"hidden_dim\"] = 64\n",
        "# configures the parameters that needed by GNN_Edge_MLP\n",
        "params['num_layers'] = 4\n",
        "params['dense_every_num_layers'] = 2\n",
        "params['residual_every_num_layers'] = 2\n",
        "params['use_inter_layer_layernorm'] = 2\n",
        "params['initial_node_representation_activation'] = 'tanh'\n",
        "params['dense_intermediate_layer_activation'] = 'tanh'\n",
        "params['message_calculation_class'] = 'RGCN'\n",
        "params['global_exchange_mode'] = 'mlp'   # has to be one of 'mean', 'mlp', 'gru'!\n",
        "params['global_exchange_every_num_layers'] = 1000\n",
        "params['global_exchange_weighting_fun'] = 'softmax'\n",
        "params['global_exchange_num_heads'] = 4\n",
        "params['global_exchange_dropout_rate'] = 0.2\n",
        "params['layer_input_dropout_rate'] = 0.1\n",
        "\n",
        "\n",
        "gnn_layer = GNN(params)\n",
        "gnn_out = gnn_layer(gnn_input)\n",
        "print('gnn_out', gnn_out)\n",
        "\n",
        "\n",
        "# Computes the segmented mean based on segment_ids\n",
        "# https://www.tensorflow.org/api_docs/python/tf/math/segment_mean\n",
        "avg = segment_mean(\n",
        "    data = gnn_out,\n",
        "    segment_ids = node2graph\n",
        ")\n",
        "print('mean:', avg)\n",
        "\n",
        "# output layer\n",
        "pred = Dense(1, activation='sigmoid')(avg)\n",
        "print('pred:', pred)\n",
        "\n",
        "\n",
        "# model building\n",
        "model = Model(\n",
        "    inputs = {\n",
        "        'data': data,\n",
        "        'edges': edge,\n",
        "        'node2grah': node2graph,\n",
        "    },\n",
        "    outputs = pred\n",
        ")\n",
        "# summary of the model\n",
        "model.summary()"
      ]
    },
    {
      "cell_type": "code",
      "execution_count": 85,
      "metadata": {
        "id": "Xk5IjMZHKQOO"
      },
      "outputs": [],
      "source": [
        "# Model Compiling \n",
        "model.compile( optimizer='adam',\n",
        "    loss='BinaryCrossentropy',\n",
        "    metrics=['AUC']\n",
        ")"
      ]
    },
    {
      "cell_type": "code",
      "execution_count": 86,
      "metadata": {
        "colab": {
          "base_uri": "https://localhost:8080/"
        },
        "id": "UNyTeaUaKQOO",
        "outputId": "d5e033dd-a58f-49b1-dfcb-217db82f8878"
      },
      "outputs": [
        {
          "name": "stdout",
          "output_type": "stream",
          "text": [
            "Epoch 1/15\n",
            "1330/1330 [==============================] - 52s 36ms/step - loss: 1.2633 - auc: 0.6327 - val_loss: 0.5834 - val_auc: 0.6833\n",
            "Epoch 2/15\n",
            "1330/1330 [==============================] - 49s 37ms/step - loss: 1.2147 - auc: 0.6820 - val_loss: 0.5683 - val_auc: 0.6994\n",
            "Epoch 3/15\n",
            "1330/1330 [==============================] - 52s 39ms/step - loss: 1.2415 - auc: 0.6625 - val_loss: 0.5264 - val_auc: 0.6998\n",
            "Epoch 4/15\n",
            "1330/1330 [==============================] - 48s 36ms/step - loss: 1.2355 - auc: 0.6736 - val_loss: 0.6512 - val_auc: 0.6737\n",
            "Epoch 5/15\n",
            "1330/1330 [==============================] - 48s 36ms/step - loss: 1.2241 - auc: 0.6876 - val_loss: 0.6711 - val_auc: 0.6946\n",
            "Epoch 6/15\n",
            "1330/1330 [==============================] - 47s 36ms/step - loss: 1.2382 - auc: 0.6707 - val_loss: 0.6802 - val_auc: 0.6818\n",
            "Epoch 7/15\n",
            "1330/1330 [==============================] - 48s 36ms/step - loss: 1.2343 - auc: 0.6717 - val_loss: 0.6377 - val_auc: 0.6502\n",
            "Epoch 8/15\n",
            "1330/1330 [==============================] - 50s 38ms/step - loss: 1.2302 - auc: 0.6741 - val_loss: 0.6803 - val_auc: 0.6914\n",
            "Epoch 9/15\n",
            "1330/1330 [==============================] - 46s 35ms/step - loss: 1.2120 - auc: 0.6883 - val_loss: 0.6847 - val_auc: 0.6886\n",
            "Epoch 10/15\n",
            "1330/1330 [==============================] - 48s 36ms/step - loss: 1.2011 - auc: 0.7009 - val_loss: 0.6348 - val_auc: 0.7322\n",
            "Epoch 11/15\n",
            "1330/1330 [==============================] - 51s 38ms/step - loss: 1.1980 - auc: 0.7024 - val_loss: 0.5257 - val_auc: 0.6736\n",
            "Epoch 12/15\n",
            "1330/1330 [==============================] - 55s 42ms/step - loss: 1.2303 - auc: 0.6735 - val_loss: 0.7060 - val_auc: 0.6504\n",
            "Epoch 13/15\n",
            "1330/1330 [==============================] - 53s 40ms/step - loss: 1.2147 - auc: 0.6859 - val_loss: 0.6471 - val_auc: 0.6985\n",
            "Epoch 14/15\n",
            "1330/1330 [==============================] - 57s 43ms/step - loss: 1.1911 - auc: 0.7030 - val_loss: 0.6235 - val_auc: 0.7281\n",
            "Epoch 15/15\n",
            "1330/1330 [==============================] - 49s 37ms/step - loss: 1.1529 - auc: 0.7315 - val_loss: 0.6297 - val_auc: 0.7255\n"
          ]
        },
        {
          "data": {
            "text/plain": [
              "<keras.callbacks.History at 0x7f45b5395d50>"
            ]
          },
          "execution_count": 86,
          "metadata": {},
          "output_type": "execute_result"
        }
      ],
      "source": [
        "# Model Training\n",
        "\n",
        "batch_size = 16\n",
        "# math.ceil: to get the nearest integer of batches for training data\n",
        "num_batchs = math.ceil(len(training_set) / batch_size)\n",
        "# num of batches for validation data\n",
        "num_batchs_validation = math.ceil(len(validation_set) / batch_size)\n",
        "# model training\n",
        "model.fit(\n",
        "    gen_batch(training_set, batch_size = batch_size, repeat=True),\n",
        "    steps_per_epoch = num_batchs,\n",
        "    epochs=15,\n",
        "    validation_data = gen_batch(validation_set, batch_size = batch_size, repeat=True),\n",
        "    validation_steps = num_batchs_validation,\n",
        "    class_weight = {0: 1, 1: 20},\n",
        ")"
      ]
    },
    {
      "cell_type": "code",
      "execution_count": 87,
      "metadata": {
        "colab": {
          "base_uri": "https://localhost:8080/"
        },
        "id": "3umBkaYfKQOO",
        "outputId": "6d4a0673-efbd-4814-9cf5-e637782a9bbd"
      },
      "outputs": [
        {
          "name": "stdout",
          "output_type": "stream",
          "text": [
            "771/771 [==============================] - 9s 11ms/step\n"
          ]
        }
      ],
      "source": [
        "# predictions on test data\n",
        "y_pred = model.predict(gen_batch(test, batch_size=16, shuffle=False))\n",
        "y_pred = np.reshape(y_pred, -1)\n"
      ]
    },
    {
      "cell_type": "code",
      "execution_count": 88,
      "metadata": {
        "id": "Gl_3a1W0KQOO"
      },
      "outputs": [],
      "source": [
        "# submission file\n",
        "saveResult(y_pred, 'trial9.csv')"
      ]
    },
    {
      "cell_type": "markdown",
      "metadata": {
        "id": "Qz5rrfeFCNmb"
      },
      "source": [
        "> thoughts and observations for trial 9:\n",
        "\n",
        "\n",
        "In this trial I used **the same model that used in the trial 6** which is **Graph Neural Network with message_passing mechanisms equals to GNN_Edge_MLP**\n",
        "after changing its hyperparameter by setting `hidden_dim` to be 64 instead of 32 and set `global_exchange_mode` to be 'mlp' instead of 'gru', also set `layer_input_dropout_rate` to be 0.1 instead of 0.2 and found that this help in improving the model result\n",
        "\n",
        "\n",
        "As a result, we can conclude that fine-tuning hyperparameters didin't yield ay better results as excepected, In contrast it yeilds to worse results.\n",
        "\n"
      ]
    }
  ],
  "metadata": {
    "colab": {
      "collapsed_sections": [
        "k8UzJdmzwwtN",
        "QC73uW7J1m8V"
      ],
      "provenance": []
    },
    "kernelspec": {
      "display_name": "Python 3",
      "name": "python3"
    },
    "language_info": {
      "name": "python"
    },
    "widgets": {
      "application/vnd.jupyter.widget-state+json": {
        "05f72766539c4ef8b618a8875d1d364c": {
          "model_module": "@jupyter-widgets/controls",
          "model_module_version": "1.5.0",
          "model_name": "DescriptionStyleModel",
          "state": {
            "_model_module": "@jupyter-widgets/controls",
            "_model_module_version": "1.5.0",
            "_model_name": "DescriptionStyleModel",
            "_view_count": null,
            "_view_module": "@jupyter-widgets/base",
            "_view_module_version": "1.2.0",
            "_view_name": "StyleView",
            "description_width": ""
          }
        },
        "0cf1bf1305274760a3ba0eb8247a3d91": {
          "model_module": "@jupyter-widgets/base",
          "model_module_version": "1.2.0",
          "model_name": "LayoutModel",
          "state": {
            "_model_module": "@jupyter-widgets/base",
            "_model_module_version": "1.2.0",
            "_model_name": "LayoutModel",
            "_view_count": null,
            "_view_module": "@jupyter-widgets/base",
            "_view_module_version": "1.2.0",
            "_view_name": "LayoutView",
            "align_content": null,
            "align_items": null,
            "align_self": null,
            "border": null,
            "bottom": null,
            "display": null,
            "flex": null,
            "flex_flow": null,
            "grid_area": null,
            "grid_auto_columns": null,
            "grid_auto_flow": null,
            "grid_auto_rows": null,
            "grid_column": null,
            "grid_gap": null,
            "grid_row": null,
            "grid_template_areas": null,
            "grid_template_columns": null,
            "grid_template_rows": null,
            "height": null,
            "justify_content": null,
            "justify_items": null,
            "left": null,
            "margin": null,
            "max_height": null,
            "max_width": null,
            "min_height": null,
            "min_width": null,
            "object_fit": null,
            "object_position": null,
            "order": null,
            "overflow": null,
            "overflow_x": null,
            "overflow_y": null,
            "padding": null,
            "right": null,
            "top": null,
            "visibility": null,
            "width": null
          }
        },
        "110d35abed8c4a498a7141b6481aa158": {
          "model_module": "@jupyter-widgets/controls",
          "model_module_version": "1.5.0",
          "model_name": "HTMLModel",
          "state": {
            "_dom_classes": [],
            "_model_module": "@jupyter-widgets/controls",
            "_model_module_version": "1.5.0",
            "_model_name": "HTMLModel",
            "_view_count": null,
            "_view_module": "@jupyter-widgets/controls",
            "_view_module_version": "1.5.0",
            "_view_name": "HTMLView",
            "description": "",
            "description_tooltip": null,
            "layout": "IPY_MODEL_0cf1bf1305274760a3ba0eb8247a3d91",
            "placeholder": "​",
            "style": "IPY_MODEL_fdf0968e008e4091b47cec0593311c24",
            "value": "100%"
          }
        },
        "226036de4a0a4fc59aa579abc4e21939": {
          "model_module": "@jupyter-widgets/controls",
          "model_module_version": "1.5.0",
          "model_name": "HTMLModel",
          "state": {
            "_dom_classes": [],
            "_model_module": "@jupyter-widgets/controls",
            "_model_module_version": "1.5.0",
            "_model_name": "HTMLModel",
            "_view_count": null,
            "_view_module": "@jupyter-widgets/controls",
            "_view_module_version": "1.5.0",
            "_view_name": "HTMLView",
            "description": "",
            "description_tooltip": null,
            "layout": "IPY_MODEL_9533476c6fdd4e1fbe32cb14a7a41b5d",
            "placeholder": "​",
            "style": "IPY_MODEL_ac8f51474ec347589bac8f71968a8eab",
            "value": " 12326/12326 [00:03&lt;00:00, 5920.34it/s]"
          }
        },
        "246971be9b8a40359611a46c7254eef2": {
          "model_module": "@jupyter-widgets/base",
          "model_module_version": "1.2.0",
          "model_name": "LayoutModel",
          "state": {
            "_model_module": "@jupyter-widgets/base",
            "_model_module_version": "1.2.0",
            "_model_name": "LayoutModel",
            "_view_count": null,
            "_view_module": "@jupyter-widgets/base",
            "_view_module_version": "1.2.0",
            "_view_name": "LayoutView",
            "align_content": null,
            "align_items": null,
            "align_self": null,
            "border": null,
            "bottom": null,
            "display": null,
            "flex": null,
            "flex_flow": null,
            "grid_area": null,
            "grid_auto_columns": null,
            "grid_auto_flow": null,
            "grid_auto_rows": null,
            "grid_column": null,
            "grid_gap": null,
            "grid_row": null,
            "grid_template_areas": null,
            "grid_template_columns": null,
            "grid_template_rows": null,
            "height": null,
            "justify_content": null,
            "justify_items": null,
            "left": null,
            "margin": null,
            "max_height": null,
            "max_width": null,
            "min_height": null,
            "min_width": null,
            "object_fit": null,
            "object_position": null,
            "order": null,
            "overflow": null,
            "overflow_x": null,
            "overflow_y": null,
            "padding": null,
            "right": null,
            "top": null,
            "visibility": null,
            "width": null
          }
        },
        "4703adaa0e934693ac93ef83cda18391": {
          "model_module": "@jupyter-widgets/controls",
          "model_module_version": "1.5.0",
          "model_name": "FloatProgressModel",
          "state": {
            "_dom_classes": [],
            "_model_module": "@jupyter-widgets/controls",
            "_model_module_version": "1.5.0",
            "_model_name": "FloatProgressModel",
            "_view_count": null,
            "_view_module": "@jupyter-widgets/controls",
            "_view_module_version": "1.5.0",
            "_view_name": "ProgressView",
            "bar_style": "success",
            "description": "",
            "description_tooltip": null,
            "layout": "IPY_MODEL_a74a20e9a7d8456db86ed91de1dd6315",
            "max": 25024,
            "min": 0,
            "orientation": "horizontal",
            "style": "IPY_MODEL_8fb16eaa4319457f9f3551bd96166af7",
            "value": 25024
          }
        },
        "54298f85799a4ba28f42b84b99300550": {
          "model_module": "@jupyter-widgets/base",
          "model_module_version": "1.2.0",
          "model_name": "LayoutModel",
          "state": {
            "_model_module": "@jupyter-widgets/base",
            "_model_module_version": "1.2.0",
            "_model_name": "LayoutModel",
            "_view_count": null,
            "_view_module": "@jupyter-widgets/base",
            "_view_module_version": "1.2.0",
            "_view_name": "LayoutView",
            "align_content": null,
            "align_items": null,
            "align_self": null,
            "border": null,
            "bottom": null,
            "display": null,
            "flex": null,
            "flex_flow": null,
            "grid_area": null,
            "grid_auto_columns": null,
            "grid_auto_flow": null,
            "grid_auto_rows": null,
            "grid_column": null,
            "grid_gap": null,
            "grid_row": null,
            "grid_template_areas": null,
            "grid_template_columns": null,
            "grid_template_rows": null,
            "height": null,
            "justify_content": null,
            "justify_items": null,
            "left": null,
            "margin": null,
            "max_height": null,
            "max_width": null,
            "min_height": null,
            "min_width": null,
            "object_fit": null,
            "object_position": null,
            "order": null,
            "overflow": null,
            "overflow_x": null,
            "overflow_y": null,
            "padding": null,
            "right": null,
            "top": null,
            "visibility": null,
            "width": null
          }
        },
        "5da15f791090436b82d79229096abac8": {
          "model_module": "@jupyter-widgets/controls",
          "model_module_version": "1.5.0",
          "model_name": "HBoxModel",
          "state": {
            "_dom_classes": [],
            "_model_module": "@jupyter-widgets/controls",
            "_model_module_version": "1.5.0",
            "_model_name": "HBoxModel",
            "_view_count": null,
            "_view_module": "@jupyter-widgets/controls",
            "_view_module_version": "1.5.0",
            "_view_name": "HBoxView",
            "box_style": "",
            "children": [
              "IPY_MODEL_110d35abed8c4a498a7141b6481aa158",
              "IPY_MODEL_9f542dd37a8e4753948a95d103dc88f4",
              "IPY_MODEL_226036de4a0a4fc59aa579abc4e21939"
            ],
            "layout": "IPY_MODEL_9ee980dc1cb141bcac14e72d53e62300"
          }
        },
        "6c99511dfc7c490b93c30341882dd729": {
          "model_module": "@jupyter-widgets/controls",
          "model_module_version": "1.5.0",
          "model_name": "ProgressStyleModel",
          "state": {
            "_model_module": "@jupyter-widgets/controls",
            "_model_module_version": "1.5.0",
            "_model_name": "ProgressStyleModel",
            "_view_count": null,
            "_view_module": "@jupyter-widgets/base",
            "_view_module_version": "1.2.0",
            "_view_name": "StyleView",
            "bar_color": null,
            "description_width": ""
          }
        },
        "83de2a2a31d4470abcfd8effb9dde815": {
          "model_module": "@jupyter-widgets/controls",
          "model_module_version": "1.5.0",
          "model_name": "HTMLModel",
          "state": {
            "_dom_classes": [],
            "_model_module": "@jupyter-widgets/controls",
            "_model_module_version": "1.5.0",
            "_model_name": "HTMLModel",
            "_view_count": null,
            "_view_module": "@jupyter-widgets/controls",
            "_view_module_version": "1.5.0",
            "_view_name": "HTMLView",
            "description": "",
            "description_tooltip": null,
            "layout": "IPY_MODEL_54298f85799a4ba28f42b84b99300550",
            "placeholder": "​",
            "style": "IPY_MODEL_e8e8becc624a45b691c188849b485f65",
            "value": "100%"
          }
        },
        "8bab2f05b04e4daa8516dacf906a05c2": {
          "model_module": "@jupyter-widgets/controls",
          "model_module_version": "1.5.0",
          "model_name": "HTMLModel",
          "state": {
            "_dom_classes": [],
            "_model_module": "@jupyter-widgets/controls",
            "_model_module_version": "1.5.0",
            "_model_name": "HTMLModel",
            "_view_count": null,
            "_view_module": "@jupyter-widgets/controls",
            "_view_module_version": "1.5.0",
            "_view_name": "HTMLView",
            "description": "",
            "description_tooltip": null,
            "layout": "IPY_MODEL_b3862bd8e79a4998b0dda0a2bb723581",
            "placeholder": "​",
            "style": "IPY_MODEL_05f72766539c4ef8b618a8875d1d364c",
            "value": " 25024/25024 [00:04&lt;00:00, 3353.55it/s]"
          }
        },
        "8fb16eaa4319457f9f3551bd96166af7": {
          "model_module": "@jupyter-widgets/controls",
          "model_module_version": "1.5.0",
          "model_name": "ProgressStyleModel",
          "state": {
            "_model_module": "@jupyter-widgets/controls",
            "_model_module_version": "1.5.0",
            "_model_name": "ProgressStyleModel",
            "_view_count": null,
            "_view_module": "@jupyter-widgets/base",
            "_view_module_version": "1.2.0",
            "_view_name": "StyleView",
            "bar_color": null,
            "description_width": ""
          }
        },
        "90f08749c2c04066be6f54527a8c37a0": {
          "model_module": "@jupyter-widgets/base",
          "model_module_version": "1.2.0",
          "model_name": "LayoutModel",
          "state": {
            "_model_module": "@jupyter-widgets/base",
            "_model_module_version": "1.2.0",
            "_model_name": "LayoutModel",
            "_view_count": null,
            "_view_module": "@jupyter-widgets/base",
            "_view_module_version": "1.2.0",
            "_view_name": "LayoutView",
            "align_content": null,
            "align_items": null,
            "align_self": null,
            "border": null,
            "bottom": null,
            "display": null,
            "flex": null,
            "flex_flow": null,
            "grid_area": null,
            "grid_auto_columns": null,
            "grid_auto_flow": null,
            "grid_auto_rows": null,
            "grid_column": null,
            "grid_gap": null,
            "grid_row": null,
            "grid_template_areas": null,
            "grid_template_columns": null,
            "grid_template_rows": null,
            "height": null,
            "justify_content": null,
            "justify_items": null,
            "left": null,
            "margin": null,
            "max_height": null,
            "max_width": null,
            "min_height": null,
            "min_width": null,
            "object_fit": null,
            "object_position": null,
            "order": null,
            "overflow": null,
            "overflow_x": null,
            "overflow_y": null,
            "padding": null,
            "right": null,
            "top": null,
            "visibility": null,
            "width": null
          }
        },
        "9533476c6fdd4e1fbe32cb14a7a41b5d": {
          "model_module": "@jupyter-widgets/base",
          "model_module_version": "1.2.0",
          "model_name": "LayoutModel",
          "state": {
            "_model_module": "@jupyter-widgets/base",
            "_model_module_version": "1.2.0",
            "_model_name": "LayoutModel",
            "_view_count": null,
            "_view_module": "@jupyter-widgets/base",
            "_view_module_version": "1.2.0",
            "_view_name": "LayoutView",
            "align_content": null,
            "align_items": null,
            "align_self": null,
            "border": null,
            "bottom": null,
            "display": null,
            "flex": null,
            "flex_flow": null,
            "grid_area": null,
            "grid_auto_columns": null,
            "grid_auto_flow": null,
            "grid_auto_rows": null,
            "grid_column": null,
            "grid_gap": null,
            "grid_row": null,
            "grid_template_areas": null,
            "grid_template_columns": null,
            "grid_template_rows": null,
            "height": null,
            "justify_content": null,
            "justify_items": null,
            "left": null,
            "margin": null,
            "max_height": null,
            "max_width": null,
            "min_height": null,
            "min_width": null,
            "object_fit": null,
            "object_position": null,
            "order": null,
            "overflow": null,
            "overflow_x": null,
            "overflow_y": null,
            "padding": null,
            "right": null,
            "top": null,
            "visibility": null,
            "width": null
          }
        },
        "9ee980dc1cb141bcac14e72d53e62300": {
          "model_module": "@jupyter-widgets/base",
          "model_module_version": "1.2.0",
          "model_name": "LayoutModel",
          "state": {
            "_model_module": "@jupyter-widgets/base",
            "_model_module_version": "1.2.0",
            "_model_name": "LayoutModel",
            "_view_count": null,
            "_view_module": "@jupyter-widgets/base",
            "_view_module_version": "1.2.0",
            "_view_name": "LayoutView",
            "align_content": null,
            "align_items": null,
            "align_self": null,
            "border": null,
            "bottom": null,
            "display": null,
            "flex": null,
            "flex_flow": null,
            "grid_area": null,
            "grid_auto_columns": null,
            "grid_auto_flow": null,
            "grid_auto_rows": null,
            "grid_column": null,
            "grid_gap": null,
            "grid_row": null,
            "grid_template_areas": null,
            "grid_template_columns": null,
            "grid_template_rows": null,
            "height": null,
            "justify_content": null,
            "justify_items": null,
            "left": null,
            "margin": null,
            "max_height": null,
            "max_width": null,
            "min_height": null,
            "min_width": null,
            "object_fit": null,
            "object_position": null,
            "order": null,
            "overflow": null,
            "overflow_x": null,
            "overflow_y": null,
            "padding": null,
            "right": null,
            "top": null,
            "visibility": null,
            "width": null
          }
        },
        "9f542dd37a8e4753948a95d103dc88f4": {
          "model_module": "@jupyter-widgets/controls",
          "model_module_version": "1.5.0",
          "model_name": "FloatProgressModel",
          "state": {
            "_dom_classes": [],
            "_model_module": "@jupyter-widgets/controls",
            "_model_module_version": "1.5.0",
            "_model_name": "FloatProgressModel",
            "_view_count": null,
            "_view_module": "@jupyter-widgets/controls",
            "_view_module_version": "1.5.0",
            "_view_name": "ProgressView",
            "bar_style": "success",
            "description": "",
            "description_tooltip": null,
            "layout": "IPY_MODEL_246971be9b8a40359611a46c7254eef2",
            "max": 12326,
            "min": 0,
            "orientation": "horizontal",
            "style": "IPY_MODEL_6c99511dfc7c490b93c30341882dd729",
            "value": 12326
          }
        },
        "a74a20e9a7d8456db86ed91de1dd6315": {
          "model_module": "@jupyter-widgets/base",
          "model_module_version": "1.2.0",
          "model_name": "LayoutModel",
          "state": {
            "_model_module": "@jupyter-widgets/base",
            "_model_module_version": "1.2.0",
            "_model_name": "LayoutModel",
            "_view_count": null,
            "_view_module": "@jupyter-widgets/base",
            "_view_module_version": "1.2.0",
            "_view_name": "LayoutView",
            "align_content": null,
            "align_items": null,
            "align_self": null,
            "border": null,
            "bottom": null,
            "display": null,
            "flex": null,
            "flex_flow": null,
            "grid_area": null,
            "grid_auto_columns": null,
            "grid_auto_flow": null,
            "grid_auto_rows": null,
            "grid_column": null,
            "grid_gap": null,
            "grid_row": null,
            "grid_template_areas": null,
            "grid_template_columns": null,
            "grid_template_rows": null,
            "height": null,
            "justify_content": null,
            "justify_items": null,
            "left": null,
            "margin": null,
            "max_height": null,
            "max_width": null,
            "min_height": null,
            "min_width": null,
            "object_fit": null,
            "object_position": null,
            "order": null,
            "overflow": null,
            "overflow_x": null,
            "overflow_y": null,
            "padding": null,
            "right": null,
            "top": null,
            "visibility": null,
            "width": null
          }
        },
        "a918a40a5f1c4f90a0a3228756b98aa4": {
          "model_module": "@jupyter-widgets/controls",
          "model_module_version": "1.5.0",
          "model_name": "HBoxModel",
          "state": {
            "_dom_classes": [],
            "_model_module": "@jupyter-widgets/controls",
            "_model_module_version": "1.5.0",
            "_model_name": "HBoxModel",
            "_view_count": null,
            "_view_module": "@jupyter-widgets/controls",
            "_view_module_version": "1.5.0",
            "_view_name": "HBoxView",
            "box_style": "",
            "children": [
              "IPY_MODEL_83de2a2a31d4470abcfd8effb9dde815",
              "IPY_MODEL_4703adaa0e934693ac93ef83cda18391",
              "IPY_MODEL_8bab2f05b04e4daa8516dacf906a05c2"
            ],
            "layout": "IPY_MODEL_90f08749c2c04066be6f54527a8c37a0"
          }
        },
        "ac8f51474ec347589bac8f71968a8eab": {
          "model_module": "@jupyter-widgets/controls",
          "model_module_version": "1.5.0",
          "model_name": "DescriptionStyleModel",
          "state": {
            "_model_module": "@jupyter-widgets/controls",
            "_model_module_version": "1.5.0",
            "_model_name": "DescriptionStyleModel",
            "_view_count": null,
            "_view_module": "@jupyter-widgets/base",
            "_view_module_version": "1.2.0",
            "_view_name": "StyleView",
            "description_width": ""
          }
        },
        "b3862bd8e79a4998b0dda0a2bb723581": {
          "model_module": "@jupyter-widgets/base",
          "model_module_version": "1.2.0",
          "model_name": "LayoutModel",
          "state": {
            "_model_module": "@jupyter-widgets/base",
            "_model_module_version": "1.2.0",
            "_model_name": "LayoutModel",
            "_view_count": null,
            "_view_module": "@jupyter-widgets/base",
            "_view_module_version": "1.2.0",
            "_view_name": "LayoutView",
            "align_content": null,
            "align_items": null,
            "align_self": null,
            "border": null,
            "bottom": null,
            "display": null,
            "flex": null,
            "flex_flow": null,
            "grid_area": null,
            "grid_auto_columns": null,
            "grid_auto_flow": null,
            "grid_auto_rows": null,
            "grid_column": null,
            "grid_gap": null,
            "grid_row": null,
            "grid_template_areas": null,
            "grid_template_columns": null,
            "grid_template_rows": null,
            "height": null,
            "justify_content": null,
            "justify_items": null,
            "left": null,
            "margin": null,
            "max_height": null,
            "max_width": null,
            "min_height": null,
            "min_width": null,
            "object_fit": null,
            "object_position": null,
            "order": null,
            "overflow": null,
            "overflow_x": null,
            "overflow_y": null,
            "padding": null,
            "right": null,
            "top": null,
            "visibility": null,
            "width": null
          }
        },
        "e8e8becc624a45b691c188849b485f65": {
          "model_module": "@jupyter-widgets/controls",
          "model_module_version": "1.5.0",
          "model_name": "DescriptionStyleModel",
          "state": {
            "_model_module": "@jupyter-widgets/controls",
            "_model_module_version": "1.5.0",
            "_model_name": "DescriptionStyleModel",
            "_view_count": null,
            "_view_module": "@jupyter-widgets/base",
            "_view_module_version": "1.2.0",
            "_view_name": "StyleView",
            "description_width": ""
          }
        },
        "fdf0968e008e4091b47cec0593311c24": {
          "model_module": "@jupyter-widgets/controls",
          "model_module_version": "1.5.0",
          "model_name": "DescriptionStyleModel",
          "state": {
            "_model_module": "@jupyter-widgets/controls",
            "_model_module_version": "1.5.0",
            "_model_name": "DescriptionStyleModel",
            "_view_count": null,
            "_view_module": "@jupyter-widgets/base",
            "_view_module_version": "1.2.0",
            "_view_name": "StyleView",
            "description_width": ""
          }
        }
      }
    }
  },
  "nbformat": 4,
  "nbformat_minor": 0
}
