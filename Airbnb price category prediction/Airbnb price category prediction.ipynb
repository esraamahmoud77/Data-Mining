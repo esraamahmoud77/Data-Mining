{
  "cells": [
    {
      "cell_type": "markdown",
      "metadata": {
        "id": "YDCQNe9BWsmg"
      },
      "source": [
        "# Problem Formulation"
      ]
    },
    {
      "cell_type": "markdown",
      "metadata": {
        "id": "ooRJjfoS32lq"
      },
      "source": [
        ">**The problem:** \n",
        "\n",
        "How can someone price their listing when posting it on Airbnb without doing a lot of search so we solved this problem by predicting the listing price based on its charachteristics .\n",
        "\n",
        ">**input:**\n",
        "\n",
        "A dataset contains listings of different areas in Montreal during 2019. It comes with rich information for each listing, including a link to the thumbnails etc.\n",
        "\n",
        ">**output:**\n",
        "\n",
        "* Predict the actual price\n",
        "* Recommend a pricing range to the new host rather than a fix price\n",
        "\n",
        ">**Data Minning Function**\n",
        "\n",
        "This is a multi-objective (multi-task) multi-modality classification using neural networks task.\n",
        "\n",
        "\n",
        ">**The challanges could be**\n",
        "\n",
        "* Data cleaning, dealing with missing data, model architechture ,feature selection,feature engineering, irrelevant features, Not enough training data, Nonrepresentative training data, data imbalance, overfitting or underfitting.\n",
        "\n",
        "* representation, Challenges associated with multimodal representation include dealing with different noise levels, missing data, and combining data from different modalities.\n",
        "\n",
        "* Creating a suitable neural netwrok architechture.\n",
        "\n",
        "* Translation,translating data from one modality to another.\n",
        "\n",
        "* Fusion,joining information from two or more modalities to perform the data minning task.\n",
        " \n",
        "* Co-learning, transferring knowledge between modalities.\n",
        "\n",
        "> **The impact:**\n",
        "\n",
        "This can optimize and facilitate user experience and lower the bar to be a new host and users won't have to do alot of search to price their listings.\n",
        "\n",
        "\n",
        "\n",
        "> **The ideal solution**\n",
        "\n",
        "is to select and design a machine learning model that suits the data and understand the important features that have high impact on classification and prediction."
      ]
    },
    {
      "cell_type": "markdown",
      "metadata": {
        "id": "0MRNK1xnRXZK"
      },
      "source": [
        ">**The problem:** \n",
        "\n",
        "How can someone price their listing when posting it on Airbnb without doing a lot of search so we solved this problem by predicting the listing price based on its charachteristics .\n",
        "\n",
        ">**input:**\n",
        "\n",
        "A dataset contains listings of different areas in Montreal during 2019. It comes with rich information for each listing, including a link to the thumbnails etc.\n",
        "\n",
        ">**output:**\n",
        "\n",
        "* Predict the actual price\n",
        "* Recommend a pricing range to the new host rather than a fix price\n",
        "\n",
        ">**Data Minning Function**\n",
        "\n",
        "This is a multi-objective (multi-task) multi-modality classification using neural networks task.\n",
        "\n",
        "\n",
        ">**The challanges could be**\n",
        "\n",
        "Data cleaning, dealing with missing data, model selection, model complexity,feature selection,feature engineering, irrelevant features, Not enough training data, Nonrepresentative training data, data imbalance, overfitting or underfitting.representation, translation, alignment, fusion, and co-learning\n",
        "\n",
        "* Challenges associated with multimodal representation include dealing with different noise levels, missing data, and combining data from different modalities.\n",
        "\n",
        "* \n",
        "\n",
        "> **The impact:**\n",
        "\n",
        "we can implement a recommendation system to better match people in speed dating events. and we can understand what are the most important attributes for people who matched with each other.\n",
        "\n",
        "\n",
        "\n",
        "> **The ideal solution**\n",
        "\n",
        "is to select and design a machine learning model that suits the data and understand the important features that have high impact on classification and prediction."
      ]
    },
    {
      "cell_type": "markdown",
      "metadata": {
        "id": "ky26BdPQPRsT"
      },
      "source": [
        "# Questions"
      ]
    },
    {
      "cell_type": "markdown",
      "metadata": {
        "id": "s9LxYxmVPYMF"
      },
      "source": [
        "> 🌈 Is fully-connected model a good one for sequential data? Why? How about for image data? Is it good? Why?\n",
        "\n",
        "* Fully-connected models are not suitable for sequential data because they do not take into account the temporal dependencies between data points. Instead, recurrent neural networks (RNNs) are used for sequential data because they can capture temporal dependencies between data points. \n",
        "\n",
        "* Fully-connected models are not the best choice for image data because they aren’t good for feature extraction but they can do the task for an extent because they can model long-range dependencies and positional patterns . Convolutional neural networks (CNNs) are better used for image data because they can capture local structures even better than fully-connected layers.\n",
        "\n",
        "> 🌈 What is gradient vanishing and gradient explosion, and how GRU/LSTM tries to mitigate this problem?\n",
        "\n",
        "* The vanishing gradient problem occurs when the gradients become too small during backpropagation, which makes it difficult for the network to learn long-term dependencies. \n",
        "\n",
        "* On the other hand, the exploding gradient problem occurs when the gradients become too large during backpropagation, which can cause the network to diverge.\n",
        "\n",
        "* Both GRU and LSTM use gating mechanisms that allow them to selectively remember or forget information from previous time steps, which helps them to learn long-term dependencies more effectively than basic RNNs.These gating mechanisms help to ensure that the gradients do not become too small or too large during backpropagation, which makes it easier for the network to learn long-term dependencies \n",
        "\n",
        "> 🌈 What is multi-objective/multi-task learning? What is multi-modality learning? How do you use them in this assignment?\n",
        " \n",
        "* Multitask learning aims to learn multiple tasks at the same time. Those tasks could be for data of the same kind It's a subfield of machine learning in which multiple learning tasks are solved at the same time while exploiting commonalities and differences across tasks. This can result in improved learning efficiency and prediction accuracy for the task-specific models when compared to training the models separately.In MTL, a model is trained to perform multiple tasks simultaneously by sharing some of the network’s layers and parameters across tasks.\n",
        "\n",
        "* Multimodal learning deals with different kinds of data such as text, image, audio etc. and tries to learn a joint representation of the data\n",
        "\n",
        "* We will use them in as we will predict thw price & the type at the same time.\n",
        "\n",
        "> 🌈 What is the difference among xgboost, lightgbm and catboost?\n",
        "\n",
        "* XGBoost, LightGBM and CatBoost are all gradient boosting frameworks that use decision trees as their base models. \n",
        "\n",
        "* They differ in their tree construction algorithms and how they handle categorical features. \n",
        "  * CatBoost builds symmetric (balanced) trees, unlike XGBoost and LightGBM which result in asymmetric trees.\n",
        "  * LightGBM uses leaf-wise (best-first) tree growth while Catboost grows a balanced tree. XGBoost has a hybrid approach that grows trees level-wise and prunes them using a global optimal solution\n"
      ]
    },
    {
      "cell_type": "markdown",
      "metadata": {
        "id": "u-zG4htHsfkM"
      },
      "source": [
        "# Implementation"
      ]
    },
    {
      "cell_type": "code",
      "execution_count": 1,
      "metadata": {
        "colab": {
          "base_uri": "https://localhost:8080/"
        },
        "id": "ZjkSvKmsWUf7",
        "outputId": "c723968f-2f5f-4729-fffc-9eee3db59a32"
      },
      "outputs": [
        {
          "output_type": "stream",
          "name": "stdout",
          "text": [
            "Looking in indexes: https://pypi.org/simple, https://us-python.pkg.dev/colab-wheels/public/simple/\n",
            "Requirement already satisfied: langdetect in /usr/local/lib/python3.9/dist-packages (1.0.9)\n",
            "Requirement already satisfied: six in /usr/local/lib/python3.9/dist-packages (from langdetect) (1.16.0)\n"
          ]
        }
      ],
      "source": [
        "# Necessary libraries\n",
        "!pip install langdetect\n",
        "import pandas as pd\n",
        "import numpy as np\n",
        "from zipfile import ZipFile\n",
        "from google.colab import drive\n",
        "from langdetect import detect"
      ]
    },
    {
      "cell_type": "code",
      "execution_count": 2,
      "metadata": {
        "colab": {
          "base_uri": "https://localhost:8080/"
        },
        "id": "TyPbVGOsdY6k",
        "outputId": "6ac91ddd-0896-4962-d4ef-5720e24fb505"
      },
      "outputs": [
        {
          "output_type": "stream",
          "name": "stdout",
          "text": [
            "Drive already mounted at /content/drive; to attempt to forcibly remount, call drive.mount(\"/content/drive\", force_remount=True).\n"
          ]
        }
      ],
      "source": [
        "drive.mount('/content/drive')"
      ]
    },
    {
      "cell_type": "code",
      "execution_count": 3,
      "metadata": {
        "id": "AYaty2ibY2i_"
      },
      "outputs": [],
      "source": [
        "# # unzip the file on drive\n",
        "# with ZipFile('/content/drive/MyDrive/competition 4/data.zip','r') as zip_obj:\n",
        "#     zip_obj.extractall('/content/drive/MyDrive/competition 4')\n"
      ]
    },
    {
      "cell_type": "code",
      "execution_count": 4,
      "metadata": {
        "id": "_x1J8LCFciPh"
      },
      "outputs": [],
      "source": [
        "df_train = pd.read_csv('/content/drive/MyDrive/competition 4/a4/train_xy.csv')\n",
        "df_test= pd.read_csv('/content/drive/MyDrive/competition 4/a4/test_x.csv')"
      ]
    },
    {
      "cell_type": "markdown",
      "metadata": {
        "id": "-MQT8dGrCuYX"
      },
      "source": [
        "## Data Exploration"
      ]
    },
    {
      "cell_type": "code",
      "execution_count": 5,
      "metadata": {
        "colab": {
          "base_uri": "https://localhost:8080/"
        },
        "id": "ySav0_xErRyZ",
        "outputId": "aad21626-da1b-464a-aa22-f95af8d0d2a6"
      },
      "outputs": [
        {
          "output_type": "execute_result",
          "data": {
            "text/plain": [
              "((7627, 4), (7360, 3))"
            ]
          },
          "metadata": {},
          "execution_count": 5
        }
      ],
      "source": [
        "df_train.shape,df_test.shape"
      ]
    },
    {
      "cell_type": "code",
      "execution_count": 6,
      "metadata": {
        "colab": {
          "base_uri": "https://localhost:8080/",
          "height": 423
        },
        "id": "pcghdOYjrQQU",
        "outputId": "e041fa66-c747-4f8b-c53b-dba8449738b1"
      },
      "outputs": [
        {
          "output_type": "execute_result",
          "data": {
            "text/plain": [
              "                                                summary               image  \\\n",
              "0     Spacious, sunny and cozy modern apartment in t...     img_train/0.jpg   \n",
              "1     Located in one of the most vibrant and accessi...     img_train/1.jpg   \n",
              "2     Logement coquet et douillet à 10 minutes du ce...     img_train/2.jpg   \n",
              "3     Beautiful and spacious (1076 sc ft, / 100 mc) ...     img_train/3.jpg   \n",
              "4     Très grand appartement ''rustique'' et très ag...     img_train/4.jpg   \n",
              "...                                                 ...                 ...   \n",
              "7622  Un grand logement 4 et 1/2, tout inclut, bien ...  img_train/7626.jpg   \n",
              "7623  Magnificent condo directly on the river. You w...  img_train/7627.jpg   \n",
              "7624  This apartment is perfect for anyone visiting ...  img_train/7628.jpg   \n",
              "7625  It is a cozy ,clean ,and comfortable apartment...  img_train/7629.jpg   \n",
              "7626  Modern country style (newly-renovated); open c...  img_train/7630.jpg   \n",
              "\n",
              "           type  price  \n",
              "0     Apartment      1  \n",
              "1     Apartment      0  \n",
              "2     Apartment      1  \n",
              "3     Apartment      1  \n",
              "4     Apartment      0  \n",
              "...         ...    ...  \n",
              "7622  Apartment      0  \n",
              "7623  Apartment      2  \n",
              "7624  Apartment      1  \n",
              "7625  Apartment      0  \n",
              "7626      House      1  \n",
              "\n",
              "[7627 rows x 4 columns]"
            ],
            "text/html": [
              "\n",
              "  <div id=\"df-1ca20edc-d869-40e9-bd29-bd8bd72c1d68\">\n",
              "    <div class=\"colab-df-container\">\n",
              "      <div>\n",
              "<style scoped>\n",
              "    .dataframe tbody tr th:only-of-type {\n",
              "        vertical-align: middle;\n",
              "    }\n",
              "\n",
              "    .dataframe tbody tr th {\n",
              "        vertical-align: top;\n",
              "    }\n",
              "\n",
              "    .dataframe thead th {\n",
              "        text-align: right;\n",
              "    }\n",
              "</style>\n",
              "<table border=\"1\" class=\"dataframe\">\n",
              "  <thead>\n",
              "    <tr style=\"text-align: right;\">\n",
              "      <th></th>\n",
              "      <th>summary</th>\n",
              "      <th>image</th>\n",
              "      <th>type</th>\n",
              "      <th>price</th>\n",
              "    </tr>\n",
              "  </thead>\n",
              "  <tbody>\n",
              "    <tr>\n",
              "      <th>0</th>\n",
              "      <td>Spacious, sunny and cozy modern apartment in t...</td>\n",
              "      <td>img_train/0.jpg</td>\n",
              "      <td>Apartment</td>\n",
              "      <td>1</td>\n",
              "    </tr>\n",
              "    <tr>\n",
              "      <th>1</th>\n",
              "      <td>Located in one of the most vibrant and accessi...</td>\n",
              "      <td>img_train/1.jpg</td>\n",
              "      <td>Apartment</td>\n",
              "      <td>0</td>\n",
              "    </tr>\n",
              "    <tr>\n",
              "      <th>2</th>\n",
              "      <td>Logement coquet et douillet à 10 minutes du ce...</td>\n",
              "      <td>img_train/2.jpg</td>\n",
              "      <td>Apartment</td>\n",
              "      <td>1</td>\n",
              "    </tr>\n",
              "    <tr>\n",
              "      <th>3</th>\n",
              "      <td>Beautiful and spacious (1076 sc ft, / 100 mc) ...</td>\n",
              "      <td>img_train/3.jpg</td>\n",
              "      <td>Apartment</td>\n",
              "      <td>1</td>\n",
              "    </tr>\n",
              "    <tr>\n",
              "      <th>4</th>\n",
              "      <td>Très grand appartement ''rustique'' et très ag...</td>\n",
              "      <td>img_train/4.jpg</td>\n",
              "      <td>Apartment</td>\n",
              "      <td>0</td>\n",
              "    </tr>\n",
              "    <tr>\n",
              "      <th>...</th>\n",
              "      <td>...</td>\n",
              "      <td>...</td>\n",
              "      <td>...</td>\n",
              "      <td>...</td>\n",
              "    </tr>\n",
              "    <tr>\n",
              "      <th>7622</th>\n",
              "      <td>Un grand logement 4 et 1/2, tout inclut, bien ...</td>\n",
              "      <td>img_train/7626.jpg</td>\n",
              "      <td>Apartment</td>\n",
              "      <td>0</td>\n",
              "    </tr>\n",
              "    <tr>\n",
              "      <th>7623</th>\n",
              "      <td>Magnificent condo directly on the river. You w...</td>\n",
              "      <td>img_train/7627.jpg</td>\n",
              "      <td>Apartment</td>\n",
              "      <td>2</td>\n",
              "    </tr>\n",
              "    <tr>\n",
              "      <th>7624</th>\n",
              "      <td>This apartment is perfect for anyone visiting ...</td>\n",
              "      <td>img_train/7628.jpg</td>\n",
              "      <td>Apartment</td>\n",
              "      <td>1</td>\n",
              "    </tr>\n",
              "    <tr>\n",
              "      <th>7625</th>\n",
              "      <td>It is a cozy ,clean ,and comfortable apartment...</td>\n",
              "      <td>img_train/7629.jpg</td>\n",
              "      <td>Apartment</td>\n",
              "      <td>0</td>\n",
              "    </tr>\n",
              "    <tr>\n",
              "      <th>7626</th>\n",
              "      <td>Modern country style (newly-renovated); open c...</td>\n",
              "      <td>img_train/7630.jpg</td>\n",
              "      <td>House</td>\n",
              "      <td>1</td>\n",
              "    </tr>\n",
              "  </tbody>\n",
              "</table>\n",
              "<p>7627 rows × 4 columns</p>\n",
              "</div>\n",
              "      <button class=\"colab-df-convert\" onclick=\"convertToInteractive('df-1ca20edc-d869-40e9-bd29-bd8bd72c1d68')\"\n",
              "              title=\"Convert this dataframe to an interactive table.\"\n",
              "              style=\"display:none;\">\n",
              "        \n",
              "  <svg xmlns=\"http://www.w3.org/2000/svg\" height=\"24px\"viewBox=\"0 0 24 24\"\n",
              "       width=\"24px\">\n",
              "    <path d=\"M0 0h24v24H0V0z\" fill=\"none\"/>\n",
              "    <path d=\"M18.56 5.44l.94 2.06.94-2.06 2.06-.94-2.06-.94-.94-2.06-.94 2.06-2.06.94zm-11 1L8.5 8.5l.94-2.06 2.06-.94-2.06-.94L8.5 2.5l-.94 2.06-2.06.94zm10 10l.94 2.06.94-2.06 2.06-.94-2.06-.94-.94-2.06-.94 2.06-2.06.94z\"/><path d=\"M17.41 7.96l-1.37-1.37c-.4-.4-.92-.59-1.43-.59-.52 0-1.04.2-1.43.59L10.3 9.45l-7.72 7.72c-.78.78-.78 2.05 0 2.83L4 21.41c.39.39.9.59 1.41.59.51 0 1.02-.2 1.41-.59l7.78-7.78 2.81-2.81c.8-.78.8-2.07 0-2.86zM5.41 20L4 18.59l7.72-7.72 1.47 1.35L5.41 20z\"/>\n",
              "  </svg>\n",
              "      </button>\n",
              "      \n",
              "  <style>\n",
              "    .colab-df-container {\n",
              "      display:flex;\n",
              "      flex-wrap:wrap;\n",
              "      gap: 12px;\n",
              "    }\n",
              "\n",
              "    .colab-df-convert {\n",
              "      background-color: #E8F0FE;\n",
              "      border: none;\n",
              "      border-radius: 50%;\n",
              "      cursor: pointer;\n",
              "      display: none;\n",
              "      fill: #1967D2;\n",
              "      height: 32px;\n",
              "      padding: 0 0 0 0;\n",
              "      width: 32px;\n",
              "    }\n",
              "\n",
              "    .colab-df-convert:hover {\n",
              "      background-color: #E2EBFA;\n",
              "      box-shadow: 0px 1px 2px rgba(60, 64, 67, 0.3), 0px 1px 3px 1px rgba(60, 64, 67, 0.15);\n",
              "      fill: #174EA6;\n",
              "    }\n",
              "\n",
              "    [theme=dark] .colab-df-convert {\n",
              "      background-color: #3B4455;\n",
              "      fill: #D2E3FC;\n",
              "    }\n",
              "\n",
              "    [theme=dark] .colab-df-convert:hover {\n",
              "      background-color: #434B5C;\n",
              "      box-shadow: 0px 1px 3px 1px rgba(0, 0, 0, 0.15);\n",
              "      filter: drop-shadow(0px 1px 2px rgba(0, 0, 0, 0.3));\n",
              "      fill: #FFFFFF;\n",
              "    }\n",
              "  </style>\n",
              "\n",
              "      <script>\n",
              "        const buttonEl =\n",
              "          document.querySelector('#df-1ca20edc-d869-40e9-bd29-bd8bd72c1d68 button.colab-df-convert');\n",
              "        buttonEl.style.display =\n",
              "          google.colab.kernel.accessAllowed ? 'block' : 'none';\n",
              "\n",
              "        async function convertToInteractive(key) {\n",
              "          const element = document.querySelector('#df-1ca20edc-d869-40e9-bd29-bd8bd72c1d68');\n",
              "          const dataTable =\n",
              "            await google.colab.kernel.invokeFunction('convertToInteractive',\n",
              "                                                     [key], {});\n",
              "          if (!dataTable) return;\n",
              "\n",
              "          const docLinkHtml = 'Like what you see? Visit the ' +\n",
              "            '<a target=\"_blank\" href=https://colab.research.google.com/notebooks/data_table.ipynb>data table notebook</a>'\n",
              "            + ' to learn more about interactive tables.';\n",
              "          element.innerHTML = '';\n",
              "          dataTable['output_type'] = 'display_data';\n",
              "          await google.colab.output.renderOutput(dataTable, element);\n",
              "          const docLink = document.createElement('div');\n",
              "          docLink.innerHTML = docLinkHtml;\n",
              "          element.appendChild(docLink);\n",
              "        }\n",
              "      </script>\n",
              "    </div>\n",
              "  </div>\n",
              "  "
            ]
          },
          "metadata": {},
          "execution_count": 6
        }
      ],
      "source": [
        "df_train"
      ]
    },
    {
      "cell_type": "code",
      "execution_count": 7,
      "metadata": {
        "colab": {
          "base_uri": "https://localhost:8080/"
        },
        "id": "4SKB_CycsRMs",
        "outputId": "37edc220-6130-410a-8650-35cb55aad029"
      },
      "outputs": [
        {
          "output_type": "stream",
          "name": "stdout",
          "text": [
            "<class 'pandas.core.frame.DataFrame'>\n",
            "RangeIndex: 7627 entries, 0 to 7626\n",
            "Data columns (total 4 columns):\n",
            " #   Column   Non-Null Count  Dtype \n",
            "---  ------   --------------  ----- \n",
            " 0   summary  7326 non-null   object\n",
            " 1   image    7627 non-null   object\n",
            " 2   type     7627 non-null   object\n",
            " 3   price    7627 non-null   int64 \n",
            "dtypes: int64(1), object(3)\n",
            "memory usage: 238.5+ KB\n"
          ]
        }
      ],
      "source": [
        "df_train.info()"
      ]
    },
    {
      "cell_type": "code",
      "execution_count": 8,
      "metadata": {
        "colab": {
          "base_uri": "https://localhost:8080/"
        },
        "id": "PUR-Q7jVxhtM",
        "outputId": "59b80b11-8476-4dec-aee9-a60417ccf9e7"
      },
      "outputs": [
        {
          "output_type": "execute_result",
          "data": {
            "text/plain": [
              "Apartment                 5765\n",
              "Condominium                691\n",
              "House                      406\n",
              "Loft                       324\n",
              "Townhouse                  167\n",
              "Serviced apartment          77\n",
              "Bed and breakfast           38\n",
              "Guest suite                 32\n",
              "Hostel                      26\n",
              "Bungalow                    25\n",
              "Guesthouse                  14\n",
              "Cottage                     12\n",
              "Aparthotel                  12\n",
              "Boutique hotel              10\n",
              "Other                        8\n",
              "Villa                        7\n",
              "Tiny house                   3\n",
              "Boat                         2\n",
              "Cabin                        2\n",
              "Camper/RV                    2\n",
              "Casa particular (Cuba)       1\n",
              "Hotel                        1\n",
              "Earth house                  1\n",
              "Castle                       1\n",
              "Name: type, dtype: int64"
            ]
          },
          "metadata": {},
          "execution_count": 8
        }
      ],
      "source": [
        "# checking type values\n",
        "df_train['type'].value_counts()"
      ]
    },
    {
      "cell_type": "code",
      "execution_count": 9,
      "metadata": {
        "colab": {
          "base_uri": "https://localhost:8080/"
        },
        "id": "XN-KPuieyAK4",
        "outputId": "db95b0b1-f45e-4c62-f84e-31122a7f1bdb"
      },
      "outputs": [
        {
          "output_type": "execute_result",
          "data": {
            "text/plain": [
              "24"
            ]
          },
          "metadata": {},
          "execution_count": 9
        }
      ],
      "source": [
        "# we have 24 types in type column\n",
        "df_train['type'].nunique()"
      ]
    },
    {
      "cell_type": "code",
      "execution_count": 10,
      "metadata": {
        "colab": {
          "base_uri": "https://localhost:8080/"
        },
        "id": "olozvrllCkvd",
        "outputId": "a9ff5fbd-aa2e-4e38-a59b-202da47b1b9e"
      },
      "outputs": [
        {
          "output_type": "execute_result",
          "data": {
            "text/plain": [
              "0    4737\n",
              "1    2403\n",
              "2     487\n",
              "Name: price, dtype: int64"
            ]
          },
          "metadata": {},
          "execution_count": 10
        }
      ],
      "source": [
        "# checking price values\n",
        "df_train['price'].value_counts()"
      ]
    },
    {
      "cell_type": "code",
      "execution_count": 11,
      "metadata": {
        "colab": {
          "base_uri": "https://localhost:8080/"
        },
        "id": "KE45Z7nYSbVd",
        "outputId": "2fddc174-c916-4c01-daee-bdf8f20e5aaa"
      },
      "outputs": [
        {
          "output_type": "execute_result",
          "data": {
            "text/plain": [
              "summary    301\n",
              "image        0\n",
              "type         0\n",
              "price        0\n",
              "dtype: int64"
            ]
          },
          "metadata": {},
          "execution_count": 11
        }
      ],
      "source": [
        "# Null Check\n",
        "df_train.isna().sum()"
      ]
    },
    {
      "cell_type": "code",
      "execution_count": 12,
      "metadata": {
        "colab": {
          "base_uri": "https://localhost:8080/"
        },
        "id": "KjZ8QroxTDNn",
        "outputId": "ffabf255-6022-4c37-aee9-d40d259208b1"
      },
      "outputs": [
        {
          "output_type": "execute_result",
          "data": {
            "text/plain": [
              "0"
            ]
          },
          "metadata": {},
          "execution_count": 12
        }
      ],
      "source": [
        "# Duplicates check (zero)\n",
        "df_train.duplicated().sum()"
      ]
    },
    {
      "cell_type": "code",
      "execution_count": 13,
      "metadata": {
        "id": "R4hjZfjvs9EB"
      },
      "outputs": [],
      "source": [
        "for index, row in df_train.iterrows():\n",
        "    lang = detect(str(row['summary']))\n",
        "    df_train.at[index, 'Language'] = lang"
      ]
    },
    {
      "cell_type": "code",
      "execution_count": 14,
      "metadata": {
        "colab": {
          "base_uri": "https://localhost:8080/",
          "height": 423
        },
        "id": "pdoPf6ymxYj_",
        "outputId": "db5b01d2-f1e0-4676-d680-f7b8988c2365"
      },
      "outputs": [
        {
          "output_type": "execute_result",
          "data": {
            "text/plain": [
              "                                                summary               image  \\\n",
              "0     Spacious, sunny and cozy modern apartment in t...     img_train/0.jpg   \n",
              "1     Located in one of the most vibrant and accessi...     img_train/1.jpg   \n",
              "2     Logement coquet et douillet à 10 minutes du ce...     img_train/2.jpg   \n",
              "3     Beautiful and spacious (1076 sc ft, / 100 mc) ...     img_train/3.jpg   \n",
              "4     Très grand appartement ''rustique'' et très ag...     img_train/4.jpg   \n",
              "...                                                 ...                 ...   \n",
              "7622  Un grand logement 4 et 1/2, tout inclut, bien ...  img_train/7626.jpg   \n",
              "7623  Magnificent condo directly on the river. You w...  img_train/7627.jpg   \n",
              "7624  This apartment is perfect for anyone visiting ...  img_train/7628.jpg   \n",
              "7625  It is a cozy ,clean ,and comfortable apartment...  img_train/7629.jpg   \n",
              "7626  Modern country style (newly-renovated); open c...  img_train/7630.jpg   \n",
              "\n",
              "           type  price Language  \n",
              "0     Apartment      1       en  \n",
              "1     Apartment      0       en  \n",
              "2     Apartment      1       fr  \n",
              "3     Apartment      1       en  \n",
              "4     Apartment      0       fr  \n",
              "...         ...    ...      ...  \n",
              "7622  Apartment      0       fr  \n",
              "7623  Apartment      2       en  \n",
              "7624  Apartment      1       en  \n",
              "7625  Apartment      0       en  \n",
              "7626      House      1       en  \n",
              "\n",
              "[7627 rows x 5 columns]"
            ],
            "text/html": [
              "\n",
              "  <div id=\"df-3aaf5b55-0efd-4903-b939-be767512cc1f\">\n",
              "    <div class=\"colab-df-container\">\n",
              "      <div>\n",
              "<style scoped>\n",
              "    .dataframe tbody tr th:only-of-type {\n",
              "        vertical-align: middle;\n",
              "    }\n",
              "\n",
              "    .dataframe tbody tr th {\n",
              "        vertical-align: top;\n",
              "    }\n",
              "\n",
              "    .dataframe thead th {\n",
              "        text-align: right;\n",
              "    }\n",
              "</style>\n",
              "<table border=\"1\" class=\"dataframe\">\n",
              "  <thead>\n",
              "    <tr style=\"text-align: right;\">\n",
              "      <th></th>\n",
              "      <th>summary</th>\n",
              "      <th>image</th>\n",
              "      <th>type</th>\n",
              "      <th>price</th>\n",
              "      <th>Language</th>\n",
              "    </tr>\n",
              "  </thead>\n",
              "  <tbody>\n",
              "    <tr>\n",
              "      <th>0</th>\n",
              "      <td>Spacious, sunny and cozy modern apartment in t...</td>\n",
              "      <td>img_train/0.jpg</td>\n",
              "      <td>Apartment</td>\n",
              "      <td>1</td>\n",
              "      <td>en</td>\n",
              "    </tr>\n",
              "    <tr>\n",
              "      <th>1</th>\n",
              "      <td>Located in one of the most vibrant and accessi...</td>\n",
              "      <td>img_train/1.jpg</td>\n",
              "      <td>Apartment</td>\n",
              "      <td>0</td>\n",
              "      <td>en</td>\n",
              "    </tr>\n",
              "    <tr>\n",
              "      <th>2</th>\n",
              "      <td>Logement coquet et douillet à 10 minutes du ce...</td>\n",
              "      <td>img_train/2.jpg</td>\n",
              "      <td>Apartment</td>\n",
              "      <td>1</td>\n",
              "      <td>fr</td>\n",
              "    </tr>\n",
              "    <tr>\n",
              "      <th>3</th>\n",
              "      <td>Beautiful and spacious (1076 sc ft, / 100 mc) ...</td>\n",
              "      <td>img_train/3.jpg</td>\n",
              "      <td>Apartment</td>\n",
              "      <td>1</td>\n",
              "      <td>en</td>\n",
              "    </tr>\n",
              "    <tr>\n",
              "      <th>4</th>\n",
              "      <td>Très grand appartement ''rustique'' et très ag...</td>\n",
              "      <td>img_train/4.jpg</td>\n",
              "      <td>Apartment</td>\n",
              "      <td>0</td>\n",
              "      <td>fr</td>\n",
              "    </tr>\n",
              "    <tr>\n",
              "      <th>...</th>\n",
              "      <td>...</td>\n",
              "      <td>...</td>\n",
              "      <td>...</td>\n",
              "      <td>...</td>\n",
              "      <td>...</td>\n",
              "    </tr>\n",
              "    <tr>\n",
              "      <th>7622</th>\n",
              "      <td>Un grand logement 4 et 1/2, tout inclut, bien ...</td>\n",
              "      <td>img_train/7626.jpg</td>\n",
              "      <td>Apartment</td>\n",
              "      <td>0</td>\n",
              "      <td>fr</td>\n",
              "    </tr>\n",
              "    <tr>\n",
              "      <th>7623</th>\n",
              "      <td>Magnificent condo directly on the river. You w...</td>\n",
              "      <td>img_train/7627.jpg</td>\n",
              "      <td>Apartment</td>\n",
              "      <td>2</td>\n",
              "      <td>en</td>\n",
              "    </tr>\n",
              "    <tr>\n",
              "      <th>7624</th>\n",
              "      <td>This apartment is perfect for anyone visiting ...</td>\n",
              "      <td>img_train/7628.jpg</td>\n",
              "      <td>Apartment</td>\n",
              "      <td>1</td>\n",
              "      <td>en</td>\n",
              "    </tr>\n",
              "    <tr>\n",
              "      <th>7625</th>\n",
              "      <td>It is a cozy ,clean ,and comfortable apartment...</td>\n",
              "      <td>img_train/7629.jpg</td>\n",
              "      <td>Apartment</td>\n",
              "      <td>0</td>\n",
              "      <td>en</td>\n",
              "    </tr>\n",
              "    <tr>\n",
              "      <th>7626</th>\n",
              "      <td>Modern country style (newly-renovated); open c...</td>\n",
              "      <td>img_train/7630.jpg</td>\n",
              "      <td>House</td>\n",
              "      <td>1</td>\n",
              "      <td>en</td>\n",
              "    </tr>\n",
              "  </tbody>\n",
              "</table>\n",
              "<p>7627 rows × 5 columns</p>\n",
              "</div>\n",
              "      <button class=\"colab-df-convert\" onclick=\"convertToInteractive('df-3aaf5b55-0efd-4903-b939-be767512cc1f')\"\n",
              "              title=\"Convert this dataframe to an interactive table.\"\n",
              "              style=\"display:none;\">\n",
              "        \n",
              "  <svg xmlns=\"http://www.w3.org/2000/svg\" height=\"24px\"viewBox=\"0 0 24 24\"\n",
              "       width=\"24px\">\n",
              "    <path d=\"M0 0h24v24H0V0z\" fill=\"none\"/>\n",
              "    <path d=\"M18.56 5.44l.94 2.06.94-2.06 2.06-.94-2.06-.94-.94-2.06-.94 2.06-2.06.94zm-11 1L8.5 8.5l.94-2.06 2.06-.94-2.06-.94L8.5 2.5l-.94 2.06-2.06.94zm10 10l.94 2.06.94-2.06 2.06-.94-2.06-.94-.94-2.06-.94 2.06-2.06.94z\"/><path d=\"M17.41 7.96l-1.37-1.37c-.4-.4-.92-.59-1.43-.59-.52 0-1.04.2-1.43.59L10.3 9.45l-7.72 7.72c-.78.78-.78 2.05 0 2.83L4 21.41c.39.39.9.59 1.41.59.51 0 1.02-.2 1.41-.59l7.78-7.78 2.81-2.81c.8-.78.8-2.07 0-2.86zM5.41 20L4 18.59l7.72-7.72 1.47 1.35L5.41 20z\"/>\n",
              "  </svg>\n",
              "      </button>\n",
              "      \n",
              "  <style>\n",
              "    .colab-df-container {\n",
              "      display:flex;\n",
              "      flex-wrap:wrap;\n",
              "      gap: 12px;\n",
              "    }\n",
              "\n",
              "    .colab-df-convert {\n",
              "      background-color: #E8F0FE;\n",
              "      border: none;\n",
              "      border-radius: 50%;\n",
              "      cursor: pointer;\n",
              "      display: none;\n",
              "      fill: #1967D2;\n",
              "      height: 32px;\n",
              "      padding: 0 0 0 0;\n",
              "      width: 32px;\n",
              "    }\n",
              "\n",
              "    .colab-df-convert:hover {\n",
              "      background-color: #E2EBFA;\n",
              "      box-shadow: 0px 1px 2px rgba(60, 64, 67, 0.3), 0px 1px 3px 1px rgba(60, 64, 67, 0.15);\n",
              "      fill: #174EA6;\n",
              "    }\n",
              "\n",
              "    [theme=dark] .colab-df-convert {\n",
              "      background-color: #3B4455;\n",
              "      fill: #D2E3FC;\n",
              "    }\n",
              "\n",
              "    [theme=dark] .colab-df-convert:hover {\n",
              "      background-color: #434B5C;\n",
              "      box-shadow: 0px 1px 3px 1px rgba(0, 0, 0, 0.15);\n",
              "      filter: drop-shadow(0px 1px 2px rgba(0, 0, 0, 0.3));\n",
              "      fill: #FFFFFF;\n",
              "    }\n",
              "  </style>\n",
              "\n",
              "      <script>\n",
              "        const buttonEl =\n",
              "          document.querySelector('#df-3aaf5b55-0efd-4903-b939-be767512cc1f button.colab-df-convert');\n",
              "        buttonEl.style.display =\n",
              "          google.colab.kernel.accessAllowed ? 'block' : 'none';\n",
              "\n",
              "        async function convertToInteractive(key) {\n",
              "          const element = document.querySelector('#df-3aaf5b55-0efd-4903-b939-be767512cc1f');\n",
              "          const dataTable =\n",
              "            await google.colab.kernel.invokeFunction('convertToInteractive',\n",
              "                                                     [key], {});\n",
              "          if (!dataTable) return;\n",
              "\n",
              "          const docLinkHtml = 'Like what you see? Visit the ' +\n",
              "            '<a target=\"_blank\" href=https://colab.research.google.com/notebooks/data_table.ipynb>data table notebook</a>'\n",
              "            + ' to learn more about interactive tables.';\n",
              "          element.innerHTML = '';\n",
              "          dataTable['output_type'] = 'display_data';\n",
              "          await google.colab.output.renderOutput(dataTable, element);\n",
              "          const docLink = document.createElement('div');\n",
              "          docLink.innerHTML = docLinkHtml;\n",
              "          element.appendChild(docLink);\n",
              "        }\n",
              "      </script>\n",
              "    </div>\n",
              "  </div>\n",
              "  "
            ]
          },
          "metadata": {},
          "execution_count": 14
        }
      ],
      "source": [
        "df_train"
      ]
    },
    {
      "cell_type": "code",
      "execution_count": 15,
      "metadata": {
        "colab": {
          "base_uri": "https://localhost:8080/"
        },
        "id": "Lkwetci8t1TV",
        "outputId": "84f1d7d8-7023-4e39-f19d-cb73d0116c82"
      },
      "outputs": [
        {
          "output_type": "execute_result",
          "data": {
            "text/plain": [
              "en       5253\n",
              "fr       2038\n",
              "tl        301\n",
              "zh-cn      11\n",
              "de          6\n",
              "es          5\n",
              "it          3\n",
              "af          2\n",
              "ko          1\n",
              "nl          1\n",
              "pl          1\n",
              "da          1\n",
              "ro          1\n",
              "pt          1\n",
              "vi          1\n",
              "id          1\n",
              "Name: Language, dtype: int64"
            ]
          },
          "metadata": {},
          "execution_count": 15
        }
      ],
      "source": [
        "df_train['Language'].value_counts()"
      ]
    },
    {
      "cell_type": "code",
      "execution_count": 16,
      "metadata": {
        "colab": {
          "base_uri": "https://localhost:8080/"
        },
        "id": "ot8Z22mSy9Of",
        "outputId": "a2cef436-89a9-4bb3-ce32-1b4d7fcc45c4"
      },
      "outputs": [
        {
          "output_type": "execute_result",
          "data": {
            "text/plain": [
              "16"
            ]
          },
          "metadata": {},
          "execution_count": 16
        }
      ],
      "source": [
        "# We have 13 languages \n",
        "df_train['Language'].nunique()"
      ]
    },
    {
      "cell_type": "code",
      "execution_count": 17,
      "metadata": {
        "colab": {
          "base_uri": "https://localhost:8080/",
          "height": 423
        },
        "id": "LWyfA8Hnrjmc",
        "outputId": "10ec0a6e-c2e6-4d91-9340-c428aefbea46"
      },
      "outputs": [
        {
          "output_type": "execute_result",
          "data": {
            "text/plain": [
              "        id                                            summary  \\\n",
              "0        0  Charming warm house is ready to host you here ...   \n",
              "1        1  La chambre est spacieuse et lumineuse, dans un...   \n",
              "2        2  Grande chambre confortable située au sous-sol ...   \n",
              "3        3  Près d’un Métro, ligne orange. 10 minutes à pi...   \n",
              "4        4  Very bright appartment and very cosy. 2 separa...   \n",
              "...    ...                                                ...   \n",
              "7355  7626  Large, fully-furnished flat with brick walls a...   \n",
              "7356  7627  Logement situé dans le haut d’un duplex. Vivez...   \n",
              "7357  7628  My place is close to parks, . My place is good...   \n",
              "7358  7629  *** For security reasons, I will prioritize gu...   \n",
              "7359  7630  Stay in an amazing area of Montreal! 5-7 min f...   \n",
              "\n",
              "                  image  \n",
              "0        img_test/0.jpg  \n",
              "1        img_test/1.jpg  \n",
              "2        img_test/2.jpg  \n",
              "3        img_test/3.jpg  \n",
              "4        img_test/4.jpg  \n",
              "...                 ...  \n",
              "7355  img_test/7627.jpg  \n",
              "7356  img_test/7628.jpg  \n",
              "7357  img_test/7629.jpg  \n",
              "7358  img_test/7630.jpg  \n",
              "7359  img_test/7631.jpg  \n",
              "\n",
              "[7360 rows x 3 columns]"
            ],
            "text/html": [
              "\n",
              "  <div id=\"df-90122566-509c-44e3-aa26-9a63ec42c257\">\n",
              "    <div class=\"colab-df-container\">\n",
              "      <div>\n",
              "<style scoped>\n",
              "    .dataframe tbody tr th:only-of-type {\n",
              "        vertical-align: middle;\n",
              "    }\n",
              "\n",
              "    .dataframe tbody tr th {\n",
              "        vertical-align: top;\n",
              "    }\n",
              "\n",
              "    .dataframe thead th {\n",
              "        text-align: right;\n",
              "    }\n",
              "</style>\n",
              "<table border=\"1\" class=\"dataframe\">\n",
              "  <thead>\n",
              "    <tr style=\"text-align: right;\">\n",
              "      <th></th>\n",
              "      <th>id</th>\n",
              "      <th>summary</th>\n",
              "      <th>image</th>\n",
              "    </tr>\n",
              "  </thead>\n",
              "  <tbody>\n",
              "    <tr>\n",
              "      <th>0</th>\n",
              "      <td>0</td>\n",
              "      <td>Charming warm house is ready to host you here ...</td>\n",
              "      <td>img_test/0.jpg</td>\n",
              "    </tr>\n",
              "    <tr>\n",
              "      <th>1</th>\n",
              "      <td>1</td>\n",
              "      <td>La chambre est spacieuse et lumineuse, dans un...</td>\n",
              "      <td>img_test/1.jpg</td>\n",
              "    </tr>\n",
              "    <tr>\n",
              "      <th>2</th>\n",
              "      <td>2</td>\n",
              "      <td>Grande chambre confortable située au sous-sol ...</td>\n",
              "      <td>img_test/2.jpg</td>\n",
              "    </tr>\n",
              "    <tr>\n",
              "      <th>3</th>\n",
              "      <td>3</td>\n",
              "      <td>Près d’un Métro, ligne orange. 10 minutes à pi...</td>\n",
              "      <td>img_test/3.jpg</td>\n",
              "    </tr>\n",
              "    <tr>\n",
              "      <th>4</th>\n",
              "      <td>4</td>\n",
              "      <td>Very bright appartment and very cosy. 2 separa...</td>\n",
              "      <td>img_test/4.jpg</td>\n",
              "    </tr>\n",
              "    <tr>\n",
              "      <th>...</th>\n",
              "      <td>...</td>\n",
              "      <td>...</td>\n",
              "      <td>...</td>\n",
              "    </tr>\n",
              "    <tr>\n",
              "      <th>7355</th>\n",
              "      <td>7626</td>\n",
              "      <td>Large, fully-furnished flat with brick walls a...</td>\n",
              "      <td>img_test/7627.jpg</td>\n",
              "    </tr>\n",
              "    <tr>\n",
              "      <th>7356</th>\n",
              "      <td>7627</td>\n",
              "      <td>Logement situé dans le haut d’un duplex. Vivez...</td>\n",
              "      <td>img_test/7628.jpg</td>\n",
              "    </tr>\n",
              "    <tr>\n",
              "      <th>7357</th>\n",
              "      <td>7628</td>\n",
              "      <td>My place is close to parks, . My place is good...</td>\n",
              "      <td>img_test/7629.jpg</td>\n",
              "    </tr>\n",
              "    <tr>\n",
              "      <th>7358</th>\n",
              "      <td>7629</td>\n",
              "      <td>*** For security reasons, I will prioritize gu...</td>\n",
              "      <td>img_test/7630.jpg</td>\n",
              "    </tr>\n",
              "    <tr>\n",
              "      <th>7359</th>\n",
              "      <td>7630</td>\n",
              "      <td>Stay in an amazing area of Montreal! 5-7 min f...</td>\n",
              "      <td>img_test/7631.jpg</td>\n",
              "    </tr>\n",
              "  </tbody>\n",
              "</table>\n",
              "<p>7360 rows × 3 columns</p>\n",
              "</div>\n",
              "      <button class=\"colab-df-convert\" onclick=\"convertToInteractive('df-90122566-509c-44e3-aa26-9a63ec42c257')\"\n",
              "              title=\"Convert this dataframe to an interactive table.\"\n",
              "              style=\"display:none;\">\n",
              "        \n",
              "  <svg xmlns=\"http://www.w3.org/2000/svg\" height=\"24px\"viewBox=\"0 0 24 24\"\n",
              "       width=\"24px\">\n",
              "    <path d=\"M0 0h24v24H0V0z\" fill=\"none\"/>\n",
              "    <path d=\"M18.56 5.44l.94 2.06.94-2.06 2.06-.94-2.06-.94-.94-2.06-.94 2.06-2.06.94zm-11 1L8.5 8.5l.94-2.06 2.06-.94-2.06-.94L8.5 2.5l-.94 2.06-2.06.94zm10 10l.94 2.06.94-2.06 2.06-.94-2.06-.94-.94-2.06-.94 2.06-2.06.94z\"/><path d=\"M17.41 7.96l-1.37-1.37c-.4-.4-.92-.59-1.43-.59-.52 0-1.04.2-1.43.59L10.3 9.45l-7.72 7.72c-.78.78-.78 2.05 0 2.83L4 21.41c.39.39.9.59 1.41.59.51 0 1.02-.2 1.41-.59l7.78-7.78 2.81-2.81c.8-.78.8-2.07 0-2.86zM5.41 20L4 18.59l7.72-7.72 1.47 1.35L5.41 20z\"/>\n",
              "  </svg>\n",
              "      </button>\n",
              "      \n",
              "  <style>\n",
              "    .colab-df-container {\n",
              "      display:flex;\n",
              "      flex-wrap:wrap;\n",
              "      gap: 12px;\n",
              "    }\n",
              "\n",
              "    .colab-df-convert {\n",
              "      background-color: #E8F0FE;\n",
              "      border: none;\n",
              "      border-radius: 50%;\n",
              "      cursor: pointer;\n",
              "      display: none;\n",
              "      fill: #1967D2;\n",
              "      height: 32px;\n",
              "      padding: 0 0 0 0;\n",
              "      width: 32px;\n",
              "    }\n",
              "\n",
              "    .colab-df-convert:hover {\n",
              "      background-color: #E2EBFA;\n",
              "      box-shadow: 0px 1px 2px rgba(60, 64, 67, 0.3), 0px 1px 3px 1px rgba(60, 64, 67, 0.15);\n",
              "      fill: #174EA6;\n",
              "    }\n",
              "\n",
              "    [theme=dark] .colab-df-convert {\n",
              "      background-color: #3B4455;\n",
              "      fill: #D2E3FC;\n",
              "    }\n",
              "\n",
              "    [theme=dark] .colab-df-convert:hover {\n",
              "      background-color: #434B5C;\n",
              "      box-shadow: 0px 1px 3px 1px rgba(0, 0, 0, 0.15);\n",
              "      filter: drop-shadow(0px 1px 2px rgba(0, 0, 0, 0.3));\n",
              "      fill: #FFFFFF;\n",
              "    }\n",
              "  </style>\n",
              "\n",
              "      <script>\n",
              "        const buttonEl =\n",
              "          document.querySelector('#df-90122566-509c-44e3-aa26-9a63ec42c257 button.colab-df-convert');\n",
              "        buttonEl.style.display =\n",
              "          google.colab.kernel.accessAllowed ? 'block' : 'none';\n",
              "\n",
              "        async function convertToInteractive(key) {\n",
              "          const element = document.querySelector('#df-90122566-509c-44e3-aa26-9a63ec42c257');\n",
              "          const dataTable =\n",
              "            await google.colab.kernel.invokeFunction('convertToInteractive',\n",
              "                                                     [key], {});\n",
              "          if (!dataTable) return;\n",
              "\n",
              "          const docLinkHtml = 'Like what you see? Visit the ' +\n",
              "            '<a target=\"_blank\" href=https://colab.research.google.com/notebooks/data_table.ipynb>data table notebook</a>'\n",
              "            + ' to learn more about interactive tables.';\n",
              "          element.innerHTML = '';\n",
              "          dataTable['output_type'] = 'display_data';\n",
              "          await google.colab.output.renderOutput(dataTable, element);\n",
              "          const docLink = document.createElement('div');\n",
              "          docLink.innerHTML = docLinkHtml;\n",
              "          element.appendChild(docLink);\n",
              "        }\n",
              "      </script>\n",
              "    </div>\n",
              "  </div>\n",
              "  "
            ]
          },
          "metadata": {},
          "execution_count": 17
        }
      ],
      "source": [
        "df_test"
      ]
    },
    {
      "cell_type": "code",
      "execution_count": 18,
      "metadata": {
        "colab": {
          "base_uri": "https://localhost:8080/"
        },
        "id": "gGfHRNP9r55T",
        "outputId": "b05f3b8a-672b-4219-a481-fe6d16182055"
      },
      "outputs": [
        {
          "output_type": "stream",
          "name": "stdout",
          "text": [
            "<class 'pandas.core.frame.DataFrame'>\n",
            "RangeIndex: 7360 entries, 0 to 7359\n",
            "Data columns (total 3 columns):\n",
            " #   Column   Non-Null Count  Dtype \n",
            "---  ------   --------------  ----- \n",
            " 0   id       7360 non-null   int64 \n",
            " 1   summary  7360 non-null   object\n",
            " 2   image    7360 non-null   object\n",
            "dtypes: int64(1), object(2)\n",
            "memory usage: 172.6+ KB\n"
          ]
        }
      ],
      "source": [
        "df_test.info()"
      ]
    },
    {
      "cell_type": "code",
      "execution_count": 19,
      "metadata": {
        "colab": {
          "base_uri": "https://localhost:8080/"
        },
        "id": "RHQpbjE3XdDf",
        "outputId": "560953b7-d0da-44db-9138-9f232930f93f"
      },
      "outputs": [
        {
          "output_type": "execute_result",
          "data": {
            "text/plain": [
              "0"
            ]
          },
          "metadata": {},
          "execution_count": 19
        }
      ],
      "source": [
        "df_test.duplicated().sum()"
      ]
    },
    {
      "cell_type": "code",
      "execution_count": 20,
      "metadata": {
        "colab": {
          "base_uri": "https://localhost:8080/"
        },
        "id": "EGguge_pXdSr",
        "outputId": "a5557929-f11c-4bef-cfca-cb1ee395736e"
      },
      "outputs": [
        {
          "output_type": "execute_result",
          "data": {
            "text/plain": [
              "id         0\n",
              "summary    0\n",
              "image      0\n",
              "dtype: int64"
            ]
          },
          "metadata": {},
          "execution_count": 20
        }
      ],
      "source": [
        "df_test.isna().sum()"
      ]
    },
    {
      "cell_type": "code",
      "execution_count": 21,
      "metadata": {
        "id": "d1q9s-hWyreJ"
      },
      "outputs": [],
      "source": [
        "for index, row in df_test.iterrows():\n",
        "    summary = str(row['summary'])\n",
        "    if len(summary) > 50:\n",
        "        lang = detect(summary)\n",
        "        df_test.at[index, 'Language'] = lang\n",
        "    else:\n",
        "        df_test.at[index, 'Language'] = 'unknown'"
      ]
    },
    {
      "cell_type": "code",
      "execution_count": 22,
      "metadata": {
        "colab": {
          "base_uri": "https://localhost:8080/"
        },
        "id": "iAHPm7Tgzwne",
        "outputId": "e4aedcf0-2356-4ec7-88dc-763c4d7a93f3"
      },
      "outputs": [
        {
          "output_type": "execute_result",
          "data": {
            "text/plain": [
              "en         5234\n",
              "fr         2027\n",
              "unknown      79\n",
              "de            5\n",
              "es            5\n",
              "zh-cn         5\n",
              "ko            2\n",
              "pt            2\n",
              "it            1\n",
              "Name: Language, dtype: int64"
            ]
          },
          "metadata": {},
          "execution_count": 22
        }
      ],
      "source": [
        "df_test['Language'].value_counts()"
      ]
    },
    {
      "cell_type": "code",
      "execution_count": 23,
      "metadata": {
        "colab": {
          "base_uri": "https://localhost:8080/",
          "height": 423
        },
        "id": "pNgbIVtay0fw",
        "outputId": "23ce168a-d39e-47b8-d4fa-979ed667a8c2"
      },
      "outputs": [
        {
          "output_type": "execute_result",
          "data": {
            "text/plain": [
              "        id                                            summary  \\\n",
              "0        0  Charming warm house is ready to host you here ...   \n",
              "1        1  La chambre est spacieuse et lumineuse, dans un...   \n",
              "2        2  Grande chambre confortable située au sous-sol ...   \n",
              "3        3  Près d’un Métro, ligne orange. 10 minutes à pi...   \n",
              "4        4  Very bright appartment and very cosy. 2 separa...   \n",
              "...    ...                                                ...   \n",
              "7355  7626  Large, fully-furnished flat with brick walls a...   \n",
              "7356  7627  Logement situé dans le haut d’un duplex. Vivez...   \n",
              "7357  7628  My place is close to parks, . My place is good...   \n",
              "7358  7629  *** For security reasons, I will prioritize gu...   \n",
              "7359  7630  Stay in an amazing area of Montreal! 5-7 min f...   \n",
              "\n",
              "                  image Language  \n",
              "0        img_test/0.jpg       en  \n",
              "1        img_test/1.jpg       fr  \n",
              "2        img_test/2.jpg       fr  \n",
              "3        img_test/3.jpg       fr  \n",
              "4        img_test/4.jpg       en  \n",
              "...                 ...      ...  \n",
              "7355  img_test/7627.jpg       en  \n",
              "7356  img_test/7628.jpg       fr  \n",
              "7357  img_test/7629.jpg       en  \n",
              "7358  img_test/7630.jpg       en  \n",
              "7359  img_test/7631.jpg       en  \n",
              "\n",
              "[7360 rows x 4 columns]"
            ],
            "text/html": [
              "\n",
              "  <div id=\"df-79486deb-0390-45e4-aaf8-2b09dfd4cf3b\">\n",
              "    <div class=\"colab-df-container\">\n",
              "      <div>\n",
              "<style scoped>\n",
              "    .dataframe tbody tr th:only-of-type {\n",
              "        vertical-align: middle;\n",
              "    }\n",
              "\n",
              "    .dataframe tbody tr th {\n",
              "        vertical-align: top;\n",
              "    }\n",
              "\n",
              "    .dataframe thead th {\n",
              "        text-align: right;\n",
              "    }\n",
              "</style>\n",
              "<table border=\"1\" class=\"dataframe\">\n",
              "  <thead>\n",
              "    <tr style=\"text-align: right;\">\n",
              "      <th></th>\n",
              "      <th>id</th>\n",
              "      <th>summary</th>\n",
              "      <th>image</th>\n",
              "      <th>Language</th>\n",
              "    </tr>\n",
              "  </thead>\n",
              "  <tbody>\n",
              "    <tr>\n",
              "      <th>0</th>\n",
              "      <td>0</td>\n",
              "      <td>Charming warm house is ready to host you here ...</td>\n",
              "      <td>img_test/0.jpg</td>\n",
              "      <td>en</td>\n",
              "    </tr>\n",
              "    <tr>\n",
              "      <th>1</th>\n",
              "      <td>1</td>\n",
              "      <td>La chambre est spacieuse et lumineuse, dans un...</td>\n",
              "      <td>img_test/1.jpg</td>\n",
              "      <td>fr</td>\n",
              "    </tr>\n",
              "    <tr>\n",
              "      <th>2</th>\n",
              "      <td>2</td>\n",
              "      <td>Grande chambre confortable située au sous-sol ...</td>\n",
              "      <td>img_test/2.jpg</td>\n",
              "      <td>fr</td>\n",
              "    </tr>\n",
              "    <tr>\n",
              "      <th>3</th>\n",
              "      <td>3</td>\n",
              "      <td>Près d’un Métro, ligne orange. 10 minutes à pi...</td>\n",
              "      <td>img_test/3.jpg</td>\n",
              "      <td>fr</td>\n",
              "    </tr>\n",
              "    <tr>\n",
              "      <th>4</th>\n",
              "      <td>4</td>\n",
              "      <td>Very bright appartment and very cosy. 2 separa...</td>\n",
              "      <td>img_test/4.jpg</td>\n",
              "      <td>en</td>\n",
              "    </tr>\n",
              "    <tr>\n",
              "      <th>...</th>\n",
              "      <td>...</td>\n",
              "      <td>...</td>\n",
              "      <td>...</td>\n",
              "      <td>...</td>\n",
              "    </tr>\n",
              "    <tr>\n",
              "      <th>7355</th>\n",
              "      <td>7626</td>\n",
              "      <td>Large, fully-furnished flat with brick walls a...</td>\n",
              "      <td>img_test/7627.jpg</td>\n",
              "      <td>en</td>\n",
              "    </tr>\n",
              "    <tr>\n",
              "      <th>7356</th>\n",
              "      <td>7627</td>\n",
              "      <td>Logement situé dans le haut d’un duplex. Vivez...</td>\n",
              "      <td>img_test/7628.jpg</td>\n",
              "      <td>fr</td>\n",
              "    </tr>\n",
              "    <tr>\n",
              "      <th>7357</th>\n",
              "      <td>7628</td>\n",
              "      <td>My place is close to parks, . My place is good...</td>\n",
              "      <td>img_test/7629.jpg</td>\n",
              "      <td>en</td>\n",
              "    </tr>\n",
              "    <tr>\n",
              "      <th>7358</th>\n",
              "      <td>7629</td>\n",
              "      <td>*** For security reasons, I will prioritize gu...</td>\n",
              "      <td>img_test/7630.jpg</td>\n",
              "      <td>en</td>\n",
              "    </tr>\n",
              "    <tr>\n",
              "      <th>7359</th>\n",
              "      <td>7630</td>\n",
              "      <td>Stay in an amazing area of Montreal! 5-7 min f...</td>\n",
              "      <td>img_test/7631.jpg</td>\n",
              "      <td>en</td>\n",
              "    </tr>\n",
              "  </tbody>\n",
              "</table>\n",
              "<p>7360 rows × 4 columns</p>\n",
              "</div>\n",
              "      <button class=\"colab-df-convert\" onclick=\"convertToInteractive('df-79486deb-0390-45e4-aaf8-2b09dfd4cf3b')\"\n",
              "              title=\"Convert this dataframe to an interactive table.\"\n",
              "              style=\"display:none;\">\n",
              "        \n",
              "  <svg xmlns=\"http://www.w3.org/2000/svg\" height=\"24px\"viewBox=\"0 0 24 24\"\n",
              "       width=\"24px\">\n",
              "    <path d=\"M0 0h24v24H0V0z\" fill=\"none\"/>\n",
              "    <path d=\"M18.56 5.44l.94 2.06.94-2.06 2.06-.94-2.06-.94-.94-2.06-.94 2.06-2.06.94zm-11 1L8.5 8.5l.94-2.06 2.06-.94-2.06-.94L8.5 2.5l-.94 2.06-2.06.94zm10 10l.94 2.06.94-2.06 2.06-.94-2.06-.94-.94-2.06-.94 2.06-2.06.94z\"/><path d=\"M17.41 7.96l-1.37-1.37c-.4-.4-.92-.59-1.43-.59-.52 0-1.04.2-1.43.59L10.3 9.45l-7.72 7.72c-.78.78-.78 2.05 0 2.83L4 21.41c.39.39.9.59 1.41.59.51 0 1.02-.2 1.41-.59l7.78-7.78 2.81-2.81c.8-.78.8-2.07 0-2.86zM5.41 20L4 18.59l7.72-7.72 1.47 1.35L5.41 20z\"/>\n",
              "  </svg>\n",
              "      </button>\n",
              "      \n",
              "  <style>\n",
              "    .colab-df-container {\n",
              "      display:flex;\n",
              "      flex-wrap:wrap;\n",
              "      gap: 12px;\n",
              "    }\n",
              "\n",
              "    .colab-df-convert {\n",
              "      background-color: #E8F0FE;\n",
              "      border: none;\n",
              "      border-radius: 50%;\n",
              "      cursor: pointer;\n",
              "      display: none;\n",
              "      fill: #1967D2;\n",
              "      height: 32px;\n",
              "      padding: 0 0 0 0;\n",
              "      width: 32px;\n",
              "    }\n",
              "\n",
              "    .colab-df-convert:hover {\n",
              "      background-color: #E2EBFA;\n",
              "      box-shadow: 0px 1px 2px rgba(60, 64, 67, 0.3), 0px 1px 3px 1px rgba(60, 64, 67, 0.15);\n",
              "      fill: #174EA6;\n",
              "    }\n",
              "\n",
              "    [theme=dark] .colab-df-convert {\n",
              "      background-color: #3B4455;\n",
              "      fill: #D2E3FC;\n",
              "    }\n",
              "\n",
              "    [theme=dark] .colab-df-convert:hover {\n",
              "      background-color: #434B5C;\n",
              "      box-shadow: 0px 1px 3px 1px rgba(0, 0, 0, 0.15);\n",
              "      filter: drop-shadow(0px 1px 2px rgba(0, 0, 0, 0.3));\n",
              "      fill: #FFFFFF;\n",
              "    }\n",
              "  </style>\n",
              "\n",
              "      <script>\n",
              "        const buttonEl =\n",
              "          document.querySelector('#df-79486deb-0390-45e4-aaf8-2b09dfd4cf3b button.colab-df-convert');\n",
              "        buttonEl.style.display =\n",
              "          google.colab.kernel.accessAllowed ? 'block' : 'none';\n",
              "\n",
              "        async function convertToInteractive(key) {\n",
              "          const element = document.querySelector('#df-79486deb-0390-45e4-aaf8-2b09dfd4cf3b');\n",
              "          const dataTable =\n",
              "            await google.colab.kernel.invokeFunction('convertToInteractive',\n",
              "                                                     [key], {});\n",
              "          if (!dataTable) return;\n",
              "\n",
              "          const docLinkHtml = 'Like what you see? Visit the ' +\n",
              "            '<a target=\"_blank\" href=https://colab.research.google.com/notebooks/data_table.ipynb>data table notebook</a>'\n",
              "            + ' to learn more about interactive tables.';\n",
              "          element.innerHTML = '';\n",
              "          dataTable['output_type'] = 'display_data';\n",
              "          await google.colab.output.renderOutput(dataTable, element);\n",
              "          const docLink = document.createElement('div');\n",
              "          docLink.innerHTML = docLinkHtml;\n",
              "          element.appendChild(docLink);\n",
              "        }\n",
              "      </script>\n",
              "    </div>\n",
              "  </div>\n",
              "  "
            ]
          },
          "metadata": {},
          "execution_count": 23
        }
      ],
      "source": [
        "df_test"
      ]
    },
    {
      "cell_type": "markdown",
      "metadata": {
        "id": "lMamLGEgsb7c"
      },
      "source": [
        "## Data Preprocessing"
      ]
    },
    {
      "cell_type": "code",
      "source": [
        "# labels:\n",
        "# convert the labelsvto category\n",
        "df_train['type'] = df_train['type'].astype('category').cat.codes\n",
        "df_train['price'] = df_train['price'].astype('category').cat.codes\n",
        "\n",
        "# get the total number of unique outputs (later used for prediction)\n",
        "len_type = len(df_train['type'].unique())\n",
        "len_price = len(df_train['price'].unique())"
      ],
      "metadata": {
        "id": "rPG9-JLhCEFU"
      },
      "execution_count": 24,
      "outputs": []
    },
    {
      "cell_type": "code",
      "execution_count": 25,
      "metadata": {
        "id": "_ZrIPRxtVRLm"
      },
      "outputs": [],
      "source": [
        "df_train.dropna(axis=0,inplace=True)"
      ]
    },
    {
      "cell_type": "markdown",
      "metadata": {
        "id": "6SboBGcU4Jx1"
      },
      "source": [
        "### Image data preprocessing"
      ]
    },
    {
      "cell_type": "code",
      "execution_count": 26,
      "metadata": {
        "id": "AopAHYr-sMAo"
      },
      "outputs": [],
      "source": [
        "# preprocess image data\n",
        "from PIL import Image\n",
        "import os\n",
        "\n",
        "def load_image(file):\n",
        "      try:\n",
        "         image = Image.open(file).convert('LA').resize((128, 128))\n",
        "         arr = np.array(image)\n",
        "         \n",
        "      except: \n",
        "        arr = np.zeros((128, 128, 2))\n",
        "      return arr\n"
      ]
    },
    {
      "cell_type": "code",
      "execution_count": 27,
      "metadata": {
        "id": "Akeus2SyHhwP"
      },
      "outputs": [],
      "source": [
        "#imgs=load_image('/content/drive/MyDrive/competition 4/a4/img_train')"
      ]
    },
    {
      "cell_type": "code",
      "execution_count": 28,
      "metadata": {
        "id": "KBmktTfB9BWk"
      },
      "outputs": [],
      "source": [
        "x_train_image = np.array([load_image('/content/drive/MyDrive/competition 4/a4/'+i) for i in df_train.image])"
      ]
    },
    {
      "cell_type": "code",
      "execution_count": 29,
      "metadata": {
        "id": "xX0e_aiOwqWb"
      },
      "outputs": [],
      "source": [
        "x_test_image = np.array([load_image('/content/drive/MyDrive/competition 4/a4/'+i) for i in df_test.image])"
      ]
    },
    {
      "cell_type": "code",
      "execution_count": 30,
      "metadata": {
        "colab": {
          "base_uri": "https://localhost:8080/",
          "height": 451
        },
        "id": "NFlZCl_niRAx",
        "outputId": "b0ed5e19-22c0-49c8-b341-30bf6da15a09"
      },
      "outputs": [
        {
          "output_type": "execute_result",
          "data": {
            "text/plain": [
              "<matplotlib.image.AxesImage at 0x7fbd88fd5bb0>"
            ]
          },
          "metadata": {},
          "execution_count": 30
        },
        {
          "output_type": "display_data",
          "data": {
            "text/plain": [
              "<Figure size 640x480 with 1 Axes>"
            ],
            "image/png": "[encoded data removed]"
          },
          "metadata": {}
        }
      ],
      "source": [
        "import matplotlib.pyplot as plt\n",
        "plt.imshow(x_train_image[0,:,:,0])"
      ]
    },
    {
      "cell_type": "markdown",
      "metadata": {
        "id": "tgxakiela5o0"
      },
      "source": [
        "### Text Preprocessing"
      ]
    },
    {
      "cell_type": "code",
      "execution_count": 31,
      "metadata": {
        "colab": {
          "base_uri": "https://localhost:8080/"
        },
        "id": "ZX4-gi-Rbkdh",
        "outputId": "30eafc1f-e98e-47d3-cd83-61feea9b3f19"
      },
      "outputs": [
        {
          "output_type": "stream",
          "name": "stdout",
          "text": [
            "Looking in indexes: https://pypi.org/simple, https://us-python.pkg.dev/colab-wheels/public/simple/\n",
            "Collecting googletrans==3.1.0a0\n",
            "  Downloading googletrans-3.1.0a0.tar.gz (19 kB)\n",
            "  Preparing metadata (setup.py) ... \u001b[?25l\u001b[?25hdone\n",
            "Collecting httpx==0.13.3\n",
            "  Downloading httpx-0.13.3-py3-none-any.whl (55 kB)\n",
            "\u001b[2K     \u001b[90m━━━━━━━━━━━━━━━━━━━━━━━━━━━━━━━━━━━━━━━━\u001b[0m \u001b[32m55.1/55.1 kB\u001b[0m \u001b[31m2.1 MB/s\u001b[0m eta \u001b[36m0:00:00\u001b[0m\n",
            "\u001b[?25hCollecting httpcore==0.9.*\n",
            "  Downloading httpcore-0.9.1-py3-none-any.whl (42 kB)\n",
            "\u001b[2K     \u001b[90m━━━━━━━━━━━━━━━━━━━━━━━━━━━━━━━━━━━━━━━━\u001b[0m \u001b[32m42.6/42.6 kB\u001b[0m \u001b[31m3.9 MB/s\u001b[0m eta \u001b[36m0:00:00\u001b[0m\n",
            "\u001b[?25hRequirement already satisfied: sniffio in /usr/local/lib/python3.9/dist-packages (from httpx==0.13.3->googletrans==3.1.0a0) (1.3.0)\n",
            "Collecting hstspreload\n",
            "  Downloading hstspreload-2023.1.1-py3-none-any.whl (1.5 MB)\n",
            "\u001b[2K     \u001b[90m━━━━━━━━━━━━━━━━━━━━━━━━━━━━━━━━━━━━━━━━\u001b[0m \u001b[32m1.5/1.5 MB\u001b[0m \u001b[31m24.5 MB/s\u001b[0m eta \u001b[36m0:00:00\u001b[0m\n",
            "\u001b[?25hCollecting chardet==3.*\n",
            "  Downloading chardet-3.0.4-py2.py3-none-any.whl (133 kB)\n",
            "\u001b[2K     \u001b[90m━━━━━━━━━━━━━━━━━━━━━━━━━━━━━━━━━━━━━━\u001b[0m \u001b[32m133.4/133.4 kB\u001b[0m \u001b[31m13.9 MB/s\u001b[0m eta \u001b[36m0:00:00\u001b[0m\n",
            "\u001b[?25hCollecting idna==2.*\n",
            "  Downloading idna-2.10-py2.py3-none-any.whl (58 kB)\n",
            "\u001b[2K     \u001b[90m━━━━━━━━━━━━━━━━━━━━━━━━━━━━━━━━━━━━━━━━\u001b[0m \u001b[32m58.8/58.8 kB\u001b[0m \u001b[31m6.5 MB/s\u001b[0m eta \u001b[36m0:00:00\u001b[0m\n",
            "\u001b[?25hRequirement already satisfied: certifi in /usr/local/lib/python3.9/dist-packages (from httpx==0.13.3->googletrans==3.1.0a0) (2022.12.7)\n",
            "Collecting rfc3986<2,>=1.3\n",
            "  Downloading rfc3986-1.5.0-py2.py3-none-any.whl (31 kB)\n",
            "Collecting h2==3.*\n",
            "  Downloading h2-3.2.0-py2.py3-none-any.whl (65 kB)\n",
            "\u001b[2K     \u001b[90m━━━━━━━━━━━━━━━━━━━━━━━━━━━━━━━━━━━━━━━━\u001b[0m \u001b[32m65.0/65.0 kB\u001b[0m \u001b[31m7.1 MB/s\u001b[0m eta \u001b[36m0:00:00\u001b[0m\n",
            "\u001b[?25hCollecting h11<0.10,>=0.8\n",
            "  Downloading h11-0.9.0-py2.py3-none-any.whl (53 kB)\n",
            "\u001b[2K     \u001b[90m━━━━━━━━━━━━━━━━━━━━━━━━━━━━━━━━━━━━━━━━\u001b[0m \u001b[32m53.6/53.6 kB\u001b[0m \u001b[31m5.2 MB/s\u001b[0m eta \u001b[36m0:00:00\u001b[0m\n",
            "\u001b[?25hCollecting hpack<4,>=3.0\n",
            "  Downloading hpack-3.0.0-py2.py3-none-any.whl (38 kB)\n",
            "Collecting hyperframe<6,>=5.2.0\n",
            "  Downloading hyperframe-5.2.0-py2.py3-none-any.whl (12 kB)\n",
            "Building wheels for collected packages: googletrans\n",
            "  Building wheel for googletrans (setup.py) ... \u001b[?25l\u001b[?25hdone\n",
            "  Created wheel for googletrans: filename=googletrans-3.1.0a0-py3-none-any.whl size=16368 sha256=b6a40241d2f4f953f2b7809f75f6871bf66972a270572e9e58dfbaad57365d12\n",
            "  Stored in directory: /root/.cache/pip/wheels/ae/e1/6c/5137bc3f35aa130deea71575e165cc4f4f0680a88f3d90a636\n",
            "Successfully built googletrans\n",
            "Installing collected packages: rfc3986, hyperframe, hpack, h11, chardet, idna, hstspreload, h2, httpcore, httpx, googletrans\n",
            "  Attempting uninstall: chardet\n",
            "    Found existing installation: chardet 4.0.0\n",
            "    Uninstalling chardet-4.0.0:\n",
            "      Successfully uninstalled chardet-4.0.0\n",
            "  Attempting uninstall: idna\n",
            "    Found existing installation: idna 3.4\n",
            "    Uninstalling idna-3.4:\n",
            "      Successfully uninstalled idna-3.4\n",
            "Successfully installed chardet-3.0.4 googletrans-3.1.0a0 h11-0.9.0 h2-3.2.0 hpack-3.0.0 hstspreload-2023.1.1 httpcore-0.9.1 httpx-0.13.3 hyperframe-5.2.0 idna-2.10 rfc3986-1.5.0\n"
          ]
        }
      ],
      "source": [
        "!pip install googletrans==3.1.0a0"
      ]
    },
    {
      "cell_type": "code",
      "execution_count": 32,
      "metadata": {
        "id": "9tA2wb5M8LO0"
      },
      "outputs": [],
      "source": [
        "from googletrans import Translator\n",
        "from keras.preprocessing.text import Tokenizer\n",
        "from tensorflow.keras.preprocessing.sequence import pad_sequences"
      ]
    },
    {
      "cell_type": "code",
      "execution_count": 33,
      "metadata": {
        "id": "m7FSnos2ZoOz"
      },
      "outputs": [],
      "source": [
        "translator = Translator()\n",
        "df_train['summary_en'] = [translator.translate(sentence, dest='en').text\n",
        "                       for sentence in df_train.summary]"
      ]
    },
    {
      "cell_type": "code",
      "execution_count": 34,
      "metadata": {
        "id": "T6cguFsc8426",
        "colab": {
          "base_uri": "https://localhost:8080/",
          "height": 641
        },
        "outputId": "d20d6605-81ad-44ee-a5b8-21eb49db8edc"
      },
      "outputs": [
        {
          "output_type": "execute_result",
          "data": {
            "text/plain": [
              "                                                summary               image  \\\n",
              "0     Spacious, sunny and cozy modern apartment in t...     img_train/0.jpg   \n",
              "1     Located in one of the most vibrant and accessi...     img_train/1.jpg   \n",
              "2     Logement coquet et douillet à 10 minutes du ce...     img_train/2.jpg   \n",
              "3     Beautiful and spacious (1076 sc ft, / 100 mc) ...     img_train/3.jpg   \n",
              "4     Très grand appartement ''rustique'' et très ag...     img_train/4.jpg   \n",
              "...                                                 ...                 ...   \n",
              "7622  Un grand logement 4 et 1/2, tout inclut, bien ...  img_train/7626.jpg   \n",
              "7623  Magnificent condo directly on the river. You w...  img_train/7627.jpg   \n",
              "7624  This apartment is perfect for anyone visiting ...  img_train/7628.jpg   \n",
              "7625  It is a cozy ,clean ,and comfortable apartment...  img_train/7629.jpg   \n",
              "7626  Modern country style (newly-renovated); open c...  img_train/7630.jpg   \n",
              "\n",
              "      type  price Language                                         summary_en  \n",
              "0        1      1       en  Spacious, sunny and cozy modern apartment in t...  \n",
              "1        1      0       en  Located in one of the most vibrant and accessi...  \n",
              "2        1      1       fr  Pretty and cozy accommodation 10 minutes from ...  \n",
              "3        1      1       en  Beautiful and spacious (1076 sc ft, / 100 mc) ...  \n",
              "4        1      0       fr  Very large ''rustic'' and very pleasant apartm...  \n",
              "...    ...    ...      ...                                                ...  \n",
              "7622     1      0       fr  A large 4 and 1/2 apartment, all inclusive, we...  \n",
              "7623     1      2       en  Magnificent condo directly on the river. You w...  \n",
              "7624     1      1       en  This apartment is perfect for anyone visiting ...  \n",
              "7625     1      0       en  It is a cozy ,clean ,and comfortable apartment...  \n",
              "7626    17      1       en  Modern country style (newly-renovated); open c...  \n",
              "\n",
              "[7326 rows x 6 columns]"
            ],
            "text/html": [
              "\n",
              "  <div id=\"df-03db27de-247a-4783-947a-eb8340532d74\">\n",
              "    <div class=\"colab-df-container\">\n",
              "      <div>\n",
              "<style scoped>\n",
              "    .dataframe tbody tr th:only-of-type {\n",
              "        vertical-align: middle;\n",
              "    }\n",
              "\n",
              "    .dataframe tbody tr th {\n",
              "        vertical-align: top;\n",
              "    }\n",
              "\n",
              "    .dataframe thead th {\n",
              "        text-align: right;\n",
              "    }\n",
              "</style>\n",
              "<table border=\"1\" class=\"dataframe\">\n",
              "  <thead>\n",
              "    <tr style=\"text-align: right;\">\n",
              "      <th></th>\n",
              "      <th>summary</th>\n",
              "      <th>image</th>\n",
              "      <th>type</th>\n",
              "      <th>price</th>\n",
              "      <th>Language</th>\n",
              "      <th>summary_en</th>\n",
              "    </tr>\n",
              "  </thead>\n",
              "  <tbody>\n",
              "    <tr>\n",
              "      <th>0</th>\n",
              "      <td>Spacious, sunny and cozy modern apartment in t...</td>\n",
              "      <td>img_train/0.jpg</td>\n",
              "      <td>1</td>\n",
              "      <td>1</td>\n",
              "      <td>en</td>\n",
              "      <td>Spacious, sunny and cozy modern apartment in t...</td>\n",
              "    </tr>\n",
              "    <tr>\n",
              "      <th>1</th>\n",
              "      <td>Located in one of the most vibrant and accessi...</td>\n",
              "      <td>img_train/1.jpg</td>\n",
              "      <td>1</td>\n",
              "      <td>0</td>\n",
              "      <td>en</td>\n",
              "      <td>Located in one of the most vibrant and accessi...</td>\n",
              "    </tr>\n",
              "    <tr>\n",
              "      <th>2</th>\n",
              "      <td>Logement coquet et douillet à 10 minutes du ce...</td>\n",
              "      <td>img_train/2.jpg</td>\n",
              "      <td>1</td>\n",
              "      <td>1</td>\n",
              "      <td>fr</td>\n",
              "      <td>Pretty and cozy accommodation 10 minutes from ...</td>\n",
              "    </tr>\n",
              "    <tr>\n",
              "      <th>3</th>\n",
              "      <td>Beautiful and spacious (1076 sc ft, / 100 mc) ...</td>\n",
              "      <td>img_train/3.jpg</td>\n",
              "      <td>1</td>\n",
              "      <td>1</td>\n",
              "      <td>en</td>\n",
              "      <td>Beautiful and spacious (1076 sc ft, / 100 mc) ...</td>\n",
              "    </tr>\n",
              "    <tr>\n",
              "      <th>4</th>\n",
              "      <td>Très grand appartement ''rustique'' et très ag...</td>\n",
              "      <td>img_train/4.jpg</td>\n",
              "      <td>1</td>\n",
              "      <td>0</td>\n",
              "      <td>fr</td>\n",
              "      <td>Very large ''rustic'' and very pleasant apartm...</td>\n",
              "    </tr>\n",
              "    <tr>\n",
              "      <th>...</th>\n",
              "      <td>...</td>\n",
              "      <td>...</td>\n",
              "      <td>...</td>\n",
              "      <td>...</td>\n",
              "      <td>...</td>\n",
              "      <td>...</td>\n",
              "    </tr>\n",
              "    <tr>\n",
              "      <th>7622</th>\n",
              "      <td>Un grand logement 4 et 1/2, tout inclut, bien ...</td>\n",
              "      <td>img_train/7626.jpg</td>\n",
              "      <td>1</td>\n",
              "      <td>0</td>\n",
              "      <td>fr</td>\n",
              "      <td>A large 4 and 1/2 apartment, all inclusive, we...</td>\n",
              "    </tr>\n",
              "    <tr>\n",
              "      <th>7623</th>\n",
              "      <td>Magnificent condo directly on the river. You w...</td>\n",
              "      <td>img_train/7627.jpg</td>\n",
              "      <td>1</td>\n",
              "      <td>2</td>\n",
              "      <td>en</td>\n",
              "      <td>Magnificent condo directly on the river. You w...</td>\n",
              "    </tr>\n",
              "    <tr>\n",
              "      <th>7624</th>\n",
              "      <td>This apartment is perfect for anyone visiting ...</td>\n",
              "      <td>img_train/7628.jpg</td>\n",
              "      <td>1</td>\n",
              "      <td>1</td>\n",
              "      <td>en</td>\n",
              "      <td>This apartment is perfect for anyone visiting ...</td>\n",
              "    </tr>\n",
              "    <tr>\n",
              "      <th>7625</th>\n",
              "      <td>It is a cozy ,clean ,and comfortable apartment...</td>\n",
              "      <td>img_train/7629.jpg</td>\n",
              "      <td>1</td>\n",
              "      <td>0</td>\n",
              "      <td>en</td>\n",
              "      <td>It is a cozy ,clean ,and comfortable apartment...</td>\n",
              "    </tr>\n",
              "    <tr>\n",
              "      <th>7626</th>\n",
              "      <td>Modern country style (newly-renovated); open c...</td>\n",
              "      <td>img_train/7630.jpg</td>\n",
              "      <td>17</td>\n",
              "      <td>1</td>\n",
              "      <td>en</td>\n",
              "      <td>Modern country style (newly-renovated); open c...</td>\n",
              "    </tr>\n",
              "  </tbody>\n",
              "</table>\n",
              "<p>7326 rows × 6 columns</p>\n",
              "</div>\n",
              "      <button class=\"colab-df-convert\" onclick=\"convertToInteractive('df-03db27de-247a-4783-947a-eb8340532d74')\"\n",
              "              title=\"Convert this dataframe to an interactive table.\"\n",
              "              style=\"display:none;\">\n",
              "        \n",
              "  <svg xmlns=\"http://www.w3.org/2000/svg\" height=\"24px\"viewBox=\"0 0 24 24\"\n",
              "       width=\"24px\">\n",
              "    <path d=\"M0 0h24v24H0V0z\" fill=\"none\"/>\n",
              "    <path d=\"M18.56 5.44l.94 2.06.94-2.06 2.06-.94-2.06-.94-.94-2.06-.94 2.06-2.06.94zm-11 1L8.5 8.5l.94-2.06 2.06-.94-2.06-.94L8.5 2.5l-.94 2.06-2.06.94zm10 10l.94 2.06.94-2.06 2.06-.94-2.06-.94-.94-2.06-.94 2.06-2.06.94z\"/><path d=\"M17.41 7.96l-1.37-1.37c-.4-.4-.92-.59-1.43-.59-.52 0-1.04.2-1.43.59L10.3 9.45l-7.72 7.72c-.78.78-.78 2.05 0 2.83L4 21.41c.39.39.9.59 1.41.59.51 0 1.02-.2 1.41-.59l7.78-7.78 2.81-2.81c.8-.78.8-2.07 0-2.86zM5.41 20L4 18.59l7.72-7.72 1.47 1.35L5.41 20z\"/>\n",
              "  </svg>\n",
              "      </button>\n",
              "      \n",
              "  <style>\n",
              "    .colab-df-container {\n",
              "      display:flex;\n",
              "      flex-wrap:wrap;\n",
              "      gap: 12px;\n",
              "    }\n",
              "\n",
              "    .colab-df-convert {\n",
              "      background-color: #E8F0FE;\n",
              "      border: none;\n",
              "      border-radius: 50%;\n",
              "      cursor: pointer;\n",
              "      display: none;\n",
              "      fill: #1967D2;\n",
              "      height: 32px;\n",
              "      padding: 0 0 0 0;\n",
              "      width: 32px;\n",
              "    }\n",
              "\n",
              "    .colab-df-convert:hover {\n",
              "      background-color: #E2EBFA;\n",
              "      box-shadow: 0px 1px 2px rgba(60, 64, 67, 0.3), 0px 1px 3px 1px rgba(60, 64, 67, 0.15);\n",
              "      fill: #174EA6;\n",
              "    }\n",
              "\n",
              "    [theme=dark] .colab-df-convert {\n",
              "      background-color: #3B4455;\n",
              "      fill: #D2E3FC;\n",
              "    }\n",
              "\n",
              "    [theme=dark] .colab-df-convert:hover {\n",
              "      background-color: #434B5C;\n",
              "      box-shadow: 0px 1px 3px 1px rgba(0, 0, 0, 0.15);\n",
              "      filter: drop-shadow(0px 1px 2px rgba(0, 0, 0, 0.3));\n",
              "      fill: #FFFFFF;\n",
              "    }\n",
              "  </style>\n",
              "\n",
              "      <script>\n",
              "        const buttonEl =\n",
              "          document.querySelector('#df-03db27de-247a-4783-947a-eb8340532d74 button.colab-df-convert');\n",
              "        buttonEl.style.display =\n",
              "          google.colab.kernel.accessAllowed ? 'block' : 'none';\n",
              "\n",
              "        async function convertToInteractive(key) {\n",
              "          const element = document.querySelector('#df-03db27de-247a-4783-947a-eb8340532d74');\n",
              "          const dataTable =\n",
              "            await google.colab.kernel.invokeFunction('convertToInteractive',\n",
              "                                                     [key], {});\n",
              "          if (!dataTable) return;\n",
              "\n",
              "          const docLinkHtml = 'Like what you see? Visit the ' +\n",
              "            '<a target=\"_blank\" href=https://colab.research.google.com/notebooks/data_table.ipynb>data table notebook</a>'\n",
              "            + ' to learn more about interactive tables.';\n",
              "          element.innerHTML = '';\n",
              "          dataTable['output_type'] = 'display_data';\n",
              "          await google.colab.output.renderOutput(dataTable, element);\n",
              "          const docLink = document.createElement('div');\n",
              "          docLink.innerHTML = docLinkHtml;\n",
              "          element.appendChild(docLink);\n",
              "        }\n",
              "      </script>\n",
              "    </div>\n",
              "  </div>\n",
              "  "
            ]
          },
          "metadata": {},
          "execution_count": 34
        }
      ],
      "source": [
        "df_train"
      ]
    },
    {
      "cell_type": "code",
      "execution_count": 35,
      "metadata": {
        "id": "AXbz4Woh8uTE"
      },
      "outputs": [],
      "source": [
        "df_test['summary_en'] = [translator.translate(sentence, dest='en').text\n",
        "                       for sentence in df_test.summary]"
      ]
    },
    {
      "cell_type": "code",
      "source": [
        "df_test"
      ],
      "metadata": {
        "colab": {
          "base_uri": "https://localhost:8080/",
          "height": 554
        },
        "id": "hGhfWsOMAxdE",
        "outputId": "3ed1eb3d-0470-4357-9ef5-1a5ebfc7d08c"
      },
      "execution_count": 36,
      "outputs": [
        {
          "output_type": "execute_result",
          "data": {
            "text/plain": [
              "        id                                            summary  \\\n",
              "0        0  Charming warm house is ready to host you here ...   \n",
              "1        1  La chambre est spacieuse et lumineuse, dans un...   \n",
              "2        2  Grande chambre confortable située au sous-sol ...   \n",
              "3        3  Près d’un Métro, ligne orange. 10 minutes à pi...   \n",
              "4        4  Very bright appartment and very cosy. 2 separa...   \n",
              "...    ...                                                ...   \n",
              "7355  7626  Large, fully-furnished flat with brick walls a...   \n",
              "7356  7627  Logement situé dans le haut d’un duplex. Vivez...   \n",
              "7357  7628  My place is close to parks, . My place is good...   \n",
              "7358  7629  *** For security reasons, I will prioritize gu...   \n",
              "7359  7630  Stay in an amazing area of Montreal! 5-7 min f...   \n",
              "\n",
              "                  image Language  \\\n",
              "0        img_test/0.jpg       en   \n",
              "1        img_test/1.jpg       fr   \n",
              "2        img_test/2.jpg       fr   \n",
              "3        img_test/3.jpg       fr   \n",
              "4        img_test/4.jpg       en   \n",
              "...                 ...      ...   \n",
              "7355  img_test/7627.jpg       en   \n",
              "7356  img_test/7628.jpg       fr   \n",
              "7357  img_test/7629.jpg       en   \n",
              "7358  img_test/7630.jpg       en   \n",
              "7359  img_test/7631.jpg       en   \n",
              "\n",
              "                                             summary_en  \n",
              "0     Charming warm house is ready to host you here ...  \n",
              "1     The room is spacious and bright, in an apartme...  \n",
              "2     Large comfortable room located in the basement...  \n",
              "3     Near a Metro, orange line. 10 minutes walking....  \n",
              "4     Very bright appartment and very cosy. 2 separa...  \n",
              "...                                                 ...  \n",
              "7355  Large, fully-furnished flat with brick walls a...  \n",
              "7356  Accommodation located at the top of a duplex. ...  \n",
              "7357  My place is close to parks, . My place is good...  \n",
              "7358  *** For security reasons, I will prioritize gu...  \n",
              "7359  Stay in an amazing area of Montreal! 5-7 min f...  \n",
              "\n",
              "[7360 rows x 5 columns]"
            ],
            "text/html": [
              "\n",
              "  <div id=\"df-8c2ac125-acd0-41af-bb31-2d6eb1b68e49\">\n",
              "    <div class=\"colab-df-container\">\n",
              "      <div>\n",
              "<style scoped>\n",
              "    .dataframe tbody tr th:only-of-type {\n",
              "        vertical-align: middle;\n",
              "    }\n",
              "\n",
              "    .dataframe tbody tr th {\n",
              "        vertical-align: top;\n",
              "    }\n",
              "\n",
              "    .dataframe thead th {\n",
              "        text-align: right;\n",
              "    }\n",
              "</style>\n",
              "<table border=\"1\" class=\"dataframe\">\n",
              "  <thead>\n",
              "    <tr style=\"text-align: right;\">\n",
              "      <th></th>\n",
              "      <th>id</th>\n",
              "      <th>summary</th>\n",
              "      <th>image</th>\n",
              "      <th>Language</th>\n",
              "      <th>summary_en</th>\n",
              "    </tr>\n",
              "  </thead>\n",
              "  <tbody>\n",
              "    <tr>\n",
              "      <th>0</th>\n",
              "      <td>0</td>\n",
              "      <td>Charming warm house is ready to host you here ...</td>\n",
              "      <td>img_test/0.jpg</td>\n",
              "      <td>en</td>\n",
              "      <td>Charming warm house is ready to host you here ...</td>\n",
              "    </tr>\n",
              "    <tr>\n",
              "      <th>1</th>\n",
              "      <td>1</td>\n",
              "      <td>La chambre est spacieuse et lumineuse, dans un...</td>\n",
              "      <td>img_test/1.jpg</td>\n",
              "      <td>fr</td>\n",
              "      <td>The room is spacious and bright, in an apartme...</td>\n",
              "    </tr>\n",
              "    <tr>\n",
              "      <th>2</th>\n",
              "      <td>2</td>\n",
              "      <td>Grande chambre confortable située au sous-sol ...</td>\n",
              "      <td>img_test/2.jpg</td>\n",
              "      <td>fr</td>\n",
              "      <td>Large comfortable room located in the basement...</td>\n",
              "    </tr>\n",
              "    <tr>\n",
              "      <th>3</th>\n",
              "      <td>3</td>\n",
              "      <td>Près d’un Métro, ligne orange. 10 minutes à pi...</td>\n",
              "      <td>img_test/3.jpg</td>\n",
              "      <td>fr</td>\n",
              "      <td>Near a Metro, orange line. 10 minutes walking....</td>\n",
              "    </tr>\n",
              "    <tr>\n",
              "      <th>4</th>\n",
              "      <td>4</td>\n",
              "      <td>Very bright appartment and very cosy. 2 separa...</td>\n",
              "      <td>img_test/4.jpg</td>\n",
              "      <td>en</td>\n",
              "      <td>Very bright appartment and very cosy. 2 separa...</td>\n",
              "    </tr>\n",
              "    <tr>\n",
              "      <th>...</th>\n",
              "      <td>...</td>\n",
              "      <td>...</td>\n",
              "      <td>...</td>\n",
              "      <td>...</td>\n",
              "      <td>...</td>\n",
              "    </tr>\n",
              "    <tr>\n",
              "      <th>7355</th>\n",
              "      <td>7626</td>\n",
              "      <td>Large, fully-furnished flat with brick walls a...</td>\n",
              "      <td>img_test/7627.jpg</td>\n",
              "      <td>en</td>\n",
              "      <td>Large, fully-furnished flat with brick walls a...</td>\n",
              "    </tr>\n",
              "    <tr>\n",
              "      <th>7356</th>\n",
              "      <td>7627</td>\n",
              "      <td>Logement situé dans le haut d’un duplex. Vivez...</td>\n",
              "      <td>img_test/7628.jpg</td>\n",
              "      <td>fr</td>\n",
              "      <td>Accommodation located at the top of a duplex. ...</td>\n",
              "    </tr>\n",
              "    <tr>\n",
              "      <th>7357</th>\n",
              "      <td>7628</td>\n",
              "      <td>My place is close to parks, . My place is good...</td>\n",
              "      <td>img_test/7629.jpg</td>\n",
              "      <td>en</td>\n",
              "      <td>My place is close to parks, . My place is good...</td>\n",
              "    </tr>\n",
              "    <tr>\n",
              "      <th>7358</th>\n",
              "      <td>7629</td>\n",
              "      <td>*** For security reasons, I will prioritize gu...</td>\n",
              "      <td>img_test/7630.jpg</td>\n",
              "      <td>en</td>\n",
              "      <td>*** For security reasons, I will prioritize gu...</td>\n",
              "    </tr>\n",
              "    <tr>\n",
              "      <th>7359</th>\n",
              "      <td>7630</td>\n",
              "      <td>Stay in an amazing area of Montreal! 5-7 min f...</td>\n",
              "      <td>img_test/7631.jpg</td>\n",
              "      <td>en</td>\n",
              "      <td>Stay in an amazing area of Montreal! 5-7 min f...</td>\n",
              "    </tr>\n",
              "  </tbody>\n",
              "</table>\n",
              "<p>7360 rows × 5 columns</p>\n",
              "</div>\n",
              "      <button class=\"colab-df-convert\" onclick=\"convertToInteractive('df-8c2ac125-acd0-41af-bb31-2d6eb1b68e49')\"\n",
              "              title=\"Convert this dataframe to an interactive table.\"\n",
              "              style=\"display:none;\">\n",
              "        \n",
              "  <svg xmlns=\"http://www.w3.org/2000/svg\" height=\"24px\"viewBox=\"0 0 24 24\"\n",
              "       width=\"24px\">\n",
              "    <path d=\"M0 0h24v24H0V0z\" fill=\"none\"/>\n",
              "    <path d=\"M18.56 5.44l.94 2.06.94-2.06 2.06-.94-2.06-.94-.94-2.06-.94 2.06-2.06.94zm-11 1L8.5 8.5l.94-2.06 2.06-.94-2.06-.94L8.5 2.5l-.94 2.06-2.06.94zm10 10l.94 2.06.94-2.06 2.06-.94-2.06-.94-.94-2.06-.94 2.06-2.06.94z\"/><path d=\"M17.41 7.96l-1.37-1.37c-.4-.4-.92-.59-1.43-.59-.52 0-1.04.2-1.43.59L10.3 9.45l-7.72 7.72c-.78.78-.78 2.05 0 2.83L4 21.41c.39.39.9.59 1.41.59.51 0 1.02-.2 1.41-.59l7.78-7.78 2.81-2.81c.8-.78.8-2.07 0-2.86zM5.41 20L4 18.59l7.72-7.72 1.47 1.35L5.41 20z\"/>\n",
              "  </svg>\n",
              "      </button>\n",
              "      \n",
              "  <style>\n",
              "    .colab-df-container {\n",
              "      display:flex;\n",
              "      flex-wrap:wrap;\n",
              "      gap: 12px;\n",
              "    }\n",
              "\n",
              "    .colab-df-convert {\n",
              "      background-color: #E8F0FE;\n",
              "      border: none;\n",
              "      border-radius: 50%;\n",
              "      cursor: pointer;\n",
              "      display: none;\n",
              "      fill: #1967D2;\n",
              "      height: 32px;\n",
              "      padding: 0 0 0 0;\n",
              "      width: 32px;\n",
              "    }\n",
              "\n",
              "    .colab-df-convert:hover {\n",
              "      background-color: #E2EBFA;\n",
              "      box-shadow: 0px 1px 2px rgba(60, 64, 67, 0.3), 0px 1px 3px 1px rgba(60, 64, 67, 0.15);\n",
              "      fill: #174EA6;\n",
              "    }\n",
              "\n",
              "    [theme=dark] .colab-df-convert {\n",
              "      background-color: #3B4455;\n",
              "      fill: #D2E3FC;\n",
              "    }\n",
              "\n",
              "    [theme=dark] .colab-df-convert:hover {\n",
              "      background-color: #434B5C;\n",
              "      box-shadow: 0px 1px 3px 1px rgba(0, 0, 0, 0.15);\n",
              "      filter: drop-shadow(0px 1px 2px rgba(0, 0, 0, 0.3));\n",
              "      fill: #FFFFFF;\n",
              "    }\n",
              "  </style>\n",
              "\n",
              "      <script>\n",
              "        const buttonEl =\n",
              "          document.querySelector('#df-8c2ac125-acd0-41af-bb31-2d6eb1b68e49 button.colab-df-convert');\n",
              "        buttonEl.style.display =\n",
              "          google.colab.kernel.accessAllowed ? 'block' : 'none';\n",
              "\n",
              "        async function convertToInteractive(key) {\n",
              "          const element = document.querySelector('#df-8c2ac125-acd0-41af-bb31-2d6eb1b68e49');\n",
              "          const dataTable =\n",
              "            await google.colab.kernel.invokeFunction('convertToInteractive',\n",
              "                                                     [key], {});\n",
              "          if (!dataTable) return;\n",
              "\n",
              "          const docLinkHtml = 'Like what you see? Visit the ' +\n",
              "            '<a target=\"_blank\" href=https://colab.research.google.com/notebooks/data_table.ipynb>data table notebook</a>'\n",
              "            + ' to learn more about interactive tables.';\n",
              "          element.innerHTML = '';\n",
              "          dataTable['output_type'] = 'display_data';\n",
              "          await google.colab.output.renderOutput(dataTable, element);\n",
              "          const docLink = document.createElement('div');\n",
              "          docLink.innerHTML = docLinkHtml;\n",
              "          element.appendChild(docLink);\n",
              "        }\n",
              "      </script>\n",
              "    </div>\n",
              "  </div>\n",
              "  "
            ]
          },
          "metadata": {},
          "execution_count": 36
        }
      ]
    },
    {
      "cell_type": "code",
      "source": [
        "x_train_text = df_train['summary_en'].astype('str')\n",
        "y_train_type = df_train['type']\n",
        "y_train_price = df_train['price']"
      ],
      "metadata": {
        "id": "fYDvB-9D_0Qj"
      },
      "execution_count": 37,
      "outputs": []
    },
    {
      "cell_type": "code",
      "execution_count": 38,
      "metadata": {
        "id": "2dm0FbFNxe-M",
        "colab": {
          "base_uri": "https://localhost:8080/"
        },
        "outputId": "64e531e0-41e4-4a92-f5a7-049a653bd46f"
      },
      "outputs": [
        {
          "output_type": "stream",
          "name": "stdout",
          "text": [
            "(7326, 150)\n"
          ]
        }
      ],
      "source": [
        "# Tokenization \n",
        "vocab_size = 21000\n",
        "max_len = 150\n",
        "\n",
        "tokenizer = Tokenizer(num_words=vocab_size)\n",
        "tokenizer.fit_on_texts(x_train_text)\n",
        "\n",
        "def txt_preprocess(list_of_text):\n",
        "    return pad_sequences(\n",
        "        tokenizer.texts_to_sequences(list_of_text),\n",
        "        maxlen=max_len,\n",
        "        padding='post',\n",
        "    )\n",
        "\n",
        "x_train_text_id = txt_preprocess(x_train_text)\n",
        "\n",
        "print(x_train_text_id.shape)"
      ]
    },
    {
      "cell_type": "code",
      "source": [
        "x_test_text = txt_preprocess(df_test['summary_en'].astype('str'))\n"
      ],
      "metadata": {
        "id": "eykXdReB-v9U"
      },
      "execution_count": 39,
      "outputs": []
    },
    {
      "cell_type": "code",
      "source": [
        "print('dictionary words count:', tokenizer.num_words)\n"
      ],
      "metadata": {
        "colab": {
          "base_uri": "https://localhost:8080/"
        },
        "id": "CkLYD0Dt_Vs7",
        "outputId": "27115410-a552-4bde-d33c-2cf4ab921f06"
      },
      "execution_count": 40,
      "outputs": [
        {
          "output_type": "stream",
          "name": "stdout",
          "text": [
            "dictionary words count: 21000\n"
          ]
        }
      ]
    },
    {
      "cell_type": "code",
      "source": [
        "import tensorflow as tf\n",
        "from tensorflow import keras \n",
        "from keras import Sequential, Model\n",
        "from keras.layers import LSTM, GRU, Dense, Input, Dropout, Bidirectional, Embedding, Conv2D, Flatten, MaxPooling2D, AveragePooling2D\n",
        "from keras.callbacks import EarlyStopping\n",
        "from sklearn.model_selection import train_test_split, GridSearchCV\n",
        "from keras import Sequential, Model\n",
        "from __future__ import absolute_import, division, print_function, unicode_literals\n",
        "import collections\n",
        "from tensorflow.keras.optimizers import Adam"
      ],
      "metadata": {
        "id": "3QlOoj8N-wd8"
      },
      "execution_count": 41,
      "outputs": []
    },
    {
      "cell_type": "code",
      "source": [
        "# function of each trial prediction results\n",
        "def predictions(x_test_text, x_test_image, model):\n",
        "  y_pred = model.predict(\n",
        "      {\n",
        "          'summary': x_test_text,\n",
        "          'image': x_test_image\n",
        "      }\n",
        "  )\n",
        "\n",
        "\n",
        "  # probabilities\n",
        "  pred_price= y_pred['price']\n",
        "\n",
        "  # categories\n",
        "  cat_price = np.argmax(pred_price, axis=1)\n",
        "  \n",
        "  return cat_price"
      ],
      "metadata": {
        "id": "aGRcDb6HCD-m"
      },
      "execution_count": 42,
      "outputs": []
    },
    {
      "cell_type": "code",
      "source": [
        "def submission_file(test, cat_price, file_name):\n",
        "  \n",
        "  submission = pd.DataFrame(\n",
        "    {'id': test.id,\n",
        "     'price': cat_price}\n",
        "  )\n",
        "  submission.to_csv(file_name, index=False)"
      ],
      "metadata": {
        "id": "3feii0CtCEC2"
      },
      "execution_count": 43,
      "outputs": []
    },
    {
      "cell_type": "markdown",
      "source": [
        "## Models "
      ],
      "metadata": {
        "id": "Bwp_GUOfE2Bq"
      }
    },
    {
      "cell_type": "markdown",
      "source": [
        "### Trial (0)\n",
        "\n",
        "* simple average of embedding\n",
        "* validation split = 0.2\n",
        "* epochs = 5\n",
        "* No early stopping"
      ],
      "metadata": {
        "id": "rI-yL_JFPRyt"
      }
    },
    {
      "cell_type": "code",
      "source": [
        "# model architecture\n",
        "\n",
        "# here we have two inputs (aka multimodality)\n",
        "txt_input = keras.Input(batch_shape=(None, max_len))\n",
        "img_input = keras.Input(batch_shape=(None, 128, 128, 2))\n",
        "\n",
        "# text part\n",
        "# simple average of embedding. \n",
        "embedded = keras.layers.Embedding(tokenizer.num_words, 150)(txt_input)\n",
        "averaged = tf.reduce_mean(embedded, axis=1)\n",
        "\n",
        "\n",
        "# image part \n",
        "# simple conv2d\n",
        "cov = Conv2D(32, (3, 3))(img_input)\n",
        "pl = MaxPooling2D((3, 3))(cov)\n",
        "flattened = Flatten()(pl)\n",
        "\n",
        "\n",
        "# fusion - combinig both\n",
        "fused = tf.concat([averaged, flattened], axis=-1)\n",
        "\n",
        "# multi-task learning (each is a multi-class classification)\n",
        "# one dense layer for each task\n",
        "p_type = Dense(len_type, activation='softmax', name='type')(fused)\n",
        "p_price = Dense(len_price, activation='softmax', name='price')(fused)\n",
        "\n",
        "\n",
        "# define model input/output using keys.\n",
        "model = keras.Model(\n",
        "    inputs={\n",
        "        'summary': txt_input,\n",
        "        'image': img_input\n",
        "    },\n",
        "    outputs={\n",
        "        'type': p_type,\n",
        "        'price': p_price,\n",
        "    },\n",
        ")\n",
        "\n",
        "\n",
        "# compile model with optimizer, loss values for each task, loss \n",
        "# weights for each task.\n",
        "model.compile(\n",
        "    optimizer=Adam(),\n",
        "    loss={\n",
        "        'type': 'sparse_categorical_crossentropy',\n",
        "        'price': 'sparse_categorical_crossentropy',\n",
        "    },\n",
        "    loss_weights={\n",
        "        'type': 0.5,\n",
        "        'price': 0.5,       \n",
        "    },\n",
        "    metrics={\n",
        "        'type': ['SparseCategoricalAccuracy'],\n",
        "        'price': ['SparseCategoricalAccuracy'],\n",
        "    },\n",
        ")\n",
        "\n",
        "\n",
        "model.summary()"
      ],
      "metadata": {
        "colab": {
          "base_uri": "https://localhost:8080/"
        },
        "id": "yDNqA80cCEHE",
        "outputId": "cc5f9327-74ce-4827-9d26-0b475961cad4"
      },
      "execution_count": 44,
      "outputs": [
        {
          "output_type": "stream",
          "name": "stdout",
          "text": [
            "Model: \"model\"\n",
            "__________________________________________________________________________________________________\n",
            " Layer (type)                   Output Shape         Param #     Connected to                     \n",
            "==================================================================================================\n",
            " input_2 (InputLayer)           [(None, 128, 128, 2  0           []                               \n",
            "                                )]                                                                \n",
            "                                                                                                  \n",
            " input_1 (InputLayer)           [(None, 150)]        0           []                               \n",
            "                                                                                                  \n",
            " conv2d (Conv2D)                (None, 126, 126, 32  608         ['input_2[0][0]']                \n",
            "                                )                                                                 \n",
            "                                                                                                  \n",
            " embedding (Embedding)          (None, 150, 150)     3150000     ['input_1[0][0]']                \n",
            "                                                                                                  \n",
            " max_pooling2d (MaxPooling2D)   (None, 42, 42, 32)   0           ['conv2d[0][0]']                 \n",
            "                                                                                                  \n",
            " tf.math.reduce_mean (TFOpLambd  (None, 150)         0           ['embedding[0][0]']              \n",
            " a)                                                                                               \n",
            "                                                                                                  \n",
            " flatten (Flatten)              (None, 56448)        0           ['max_pooling2d[0][0]']          \n",
            "                                                                                                  \n",
            " tf.concat (TFOpLambda)         (None, 56598)        0           ['tf.math.reduce_mean[0][0]',    \n",
            "                                                                  'flatten[0][0]']                \n",
            "                                                                                                  \n",
            " price (Dense)                  (None, 3)            169797      ['tf.concat[0][0]']              \n",
            "                                                                                                  \n",
            " type (Dense)                   (None, 24)           1358376     ['tf.concat[0][0]']              \n",
            "                                                                                                  \n",
            "==================================================================================================\n",
            "Total params: 4,678,781\n",
            "Trainable params: 4,678,781\n",
            "Non-trainable params: 0\n",
            "__________________________________________________________________________________________________\n"
          ]
        }
      ]
    },
    {
      "cell_type": "code",
      "source": [
        "# Training model\n",
        "history = model.fit(\n",
        "    x={'summary': x_train_text_id,'image': x_train_image},\n",
        "    y={'type': y_train_type,'price': y_train_price,},\n",
        "    epochs=5,\n",
        "    batch_size=27,\n",
        "    validation_split=0.2,\n",
        "    verbose=1\n",
        "    )"
      ],
      "metadata": {
        "colab": {
          "base_uri": "https://localhost:8080/"
        },
        "id": "Rsr2SCTjHGdC",
        "outputId": "78a1964e-de0f-4331-ce39-7c61288d13b0"
      },
      "execution_count": 45,
      "outputs": [
        {
          "output_type": "stream",
          "name": "stdout",
          "text": [
            "Epoch 1/5\n",
            "218/218 [==============================] - 91s 409ms/step - loss: 186.7831 - price_loss: 140.9012 - type_loss: 232.6650 - price_sparse_categorical_accuracy: 0.5097 - type_sparse_categorical_accuracy: 0.5794 - val_loss: 102.3500 - val_price_loss: 33.5921 - val_type_loss: 171.1077 - val_price_sparse_categorical_accuracy: 0.3922 - val_type_sparse_categorical_accuracy: 0.0300\n",
            "Epoch 2/5\n",
            "218/218 [==============================] - 88s 402ms/step - loss: 37.7070 - price_loss: 24.2764 - type_loss: 51.1376 - price_sparse_categorical_accuracy: 0.5608 - type_sparse_categorical_accuracy: 0.6109 - val_loss: 45.5871 - val_price_loss: 30.8405 - val_type_loss: 60.3337 - val_price_sparse_categorical_accuracy: 0.5900 - val_type_sparse_categorical_accuracy: 0.3615\n",
            "Epoch 3/5\n",
            "218/218 [==============================] - 87s 402ms/step - loss: 16.7915 - price_loss: 13.9095 - type_loss: 19.6735 - price_sparse_categorical_accuracy: 0.6172 - type_sparse_categorical_accuracy: 0.6724 - val_loss: 27.6221 - val_price_loss: 16.9324 - val_type_loss: 38.3117 - val_price_sparse_categorical_accuracy: 0.6010 - val_type_sparse_categorical_accuracy: 0.7401\n",
            "Epoch 4/5\n",
            "218/218 [==============================] - 83s 380ms/step - loss: 9.8548 - price_loss: 10.3197 - type_loss: 9.3900 - price_sparse_categorical_accuracy: 0.6403 - type_sparse_categorical_accuracy: 0.7372 - val_loss: 20.8470 - val_price_loss: 14.6353 - val_type_loss: 27.0587 - val_price_sparse_categorical_accuracy: 0.5750 - val_type_sparse_categorical_accuracy: 0.6814\n",
            "Epoch 5/5\n",
            "218/218 [==============================] - 82s 378ms/step - loss: 7.7576 - price_loss: 7.0618 - type_loss: 8.4534 - price_sparse_categorical_accuracy: 0.7060 - type_sparse_categorical_accuracy: 0.7683 - val_loss: 22.0670 - val_price_loss: 14.0442 - val_type_loss: 30.0898 - val_price_sparse_categorical_accuracy: 0.5218 - val_type_sparse_categorical_accuracy: 0.3629\n"
          ]
        }
      ]
    },
    {
      "cell_type": "code",
      "source": [
        "price_cat_pred = predictions(x_test_text, x_test_image, model)\n",
        "\n",
        "submission_file(df_test, price_cat_pred, 'submission_trial_0.csv')"
      ],
      "metadata": {
        "colab": {
          "base_uri": "https://localhost:8080/"
        },
        "id": "rJ8vt6AfIEWJ",
        "outputId": "aaea5c4f-0e5f-4494-fa23-f9098dd5e588"
      },
      "execution_count": 46,
      "outputs": [
        {
          "output_type": "stream",
          "name": "stdout",
          "text": [
            "230/230 [==============================] - 33s 142ms/step\n"
          ]
        }
      ]
    },
    {
      "cell_type": "markdown",
      "source": [
        "> Thoughts and observations for trial 0\n",
        "\n",
        "the model is underfitting and gives:\n",
        "* Accuracy in training : `60%` \n",
        "* Accuracy in validation : `46%` \n",
        "* Accuracy in test : `45%`\n",
        "\n",
        "\n",
        "> plan for trial 1\n",
        "\n",
        "\n",
        "*   LSTM "
      ],
      "metadata": {
        "id": "TrUBs97LP4Qr"
      }
    },
    {
      "cell_type": "markdown",
      "source": [
        "### Trial (1)\n",
        " \n",
        "* **LSTM** \n",
        "* droupout = 0.2\n",
        "* adam optimizer\n",
        "* batch size = 27\n",
        "* validation split = 0.2\n",
        "* epochs = 5"
      ],
      "metadata": {
        "id": "_AFyL-HjFFqY"
      }
    },
    {
      "cell_type": "code",
      "source": [
        "# two inputs. one for image and the other for text.\n",
        "txt_input = keras.Input(batch_shape=(None, max_len))\n",
        "img_input = keras.Input(batch_shape=(None, 128, 128, 2))\n",
        "\n",
        "# text part\n",
        "# simple average of embedding with LSTM. \n",
        "embedded = keras.layers.Embedding(tokenizer.num_words, 100)(txt_input)\n",
        "lstm = keras.layers.LSTM(64, dropout=.2, return_sequences=True)(embedded)\n",
        "averaged = tf.reduce_mean(lstm, axis=1)\n",
        "\n",
        "\n",
        "# image part \n",
        "# simple conv2d. \n",
        "cov = Conv2D(32, (3, 3))(img_input)\n",
        "pl = MaxPooling2D((3, 3))(cov)\n",
        "drop = Dropout(0.2)(pl)\n",
        "flattened = Flatten()(drop)\n",
        "\n",
        "\n",
        "# fusion - combinig both\n",
        "fused = tf.concat([averaged, flattened], axis=-1)\n",
        "\n",
        "# multi-task learning (each is a multi-class classification)\n",
        "# one dense layer for each task\n",
        "p_type = Dense(len_type, activation='softmax', name='type')(fused)\n",
        "p_price = Dense(len_price, activation='softmax', name='price')(fused)\n",
        "\n",
        "\n",
        "#  model input/output.\n",
        "model2 = keras.Model(\n",
        "    inputs={\n",
        "        'summary': txt_input,\n",
        "        'image': img_input\n",
        "    },\n",
        "    outputs={\n",
        "        'type': p_type,\n",
        "        'price': p_price,\n",
        "    },\n",
        ")\n",
        "\n",
        "\n",
        "# compile model with loss values & loss weights for each task.\n",
        "model2.compile(\n",
        "    optimizer=Adam(),\n",
        "    loss={\n",
        "        'type': 'sparse_categorical_crossentropy',\n",
        "        'price': 'sparse_categorical_crossentropy',\n",
        "    },\n",
        "    loss_weights={\n",
        "        'type': 0.5,\n",
        "        'price': 0.5,       \n",
        "    },\n",
        "    metrics={\n",
        "        'type': ['SparseCategoricalAccuracy'],\n",
        "        'price': ['SparseCategoricalAccuracy'],\n",
        "    },\n",
        ")\n",
        "\n",
        "\n",
        "model2.summary()"
      ],
      "metadata": {
        "colab": {
          "base_uri": "https://localhost:8080/"
        },
        "id": "3EtVYgT-OSQo",
        "outputId": "b073c93b-97f4-444d-b821-a2563338206b"
      },
      "execution_count": 47,
      "outputs": [
        {
          "output_type": "stream",
          "name": "stdout",
          "text": [
            "Model: \"model_1\"\n",
            "__________________________________________________________________________________________________\n",
            " Layer (type)                   Output Shape         Param #     Connected to                     \n",
            "==================================================================================================\n",
            " input_4 (InputLayer)           [(None, 128, 128, 2  0           []                               \n",
            "                                )]                                                                \n",
            "                                                                                                  \n",
            " input_3 (InputLayer)           [(None, 150)]        0           []                               \n",
            "                                                                                                  \n",
            " conv2d_1 (Conv2D)              (None, 126, 126, 32  608         ['input_4[0][0]']                \n",
            "                                )                                                                 \n",
            "                                                                                                  \n",
            " embedding_1 (Embedding)        (None, 150, 100)     2100000     ['input_3[0][0]']                \n",
            "                                                                                                  \n",
            " max_pooling2d_1 (MaxPooling2D)  (None, 42, 42, 32)  0           ['conv2d_1[0][0]']               \n",
            "                                                                                                  \n",
            " lstm (LSTM)                    (None, 150, 64)      42240       ['embedding_1[0][0]']            \n",
            "                                                                                                  \n",
            " dropout (Dropout)              (None, 42, 42, 32)   0           ['max_pooling2d_1[0][0]']        \n",
            "                                                                                                  \n",
            " tf.math.reduce_mean_1 (TFOpLam  (None, 64)          0           ['lstm[0][0]']                   \n",
            " bda)                                                                                             \n",
            "                                                                                                  \n",
            " flatten_1 (Flatten)            (None, 56448)        0           ['dropout[0][0]']                \n",
            "                                                                                                  \n",
            " tf.concat_1 (TFOpLambda)       (None, 56512)        0           ['tf.math.reduce_mean_1[0][0]',  \n",
            "                                                                  'flatten_1[0][0]']              \n",
            "                                                                                                  \n",
            " price (Dense)                  (None, 3)            169539      ['tf.concat_1[0][0]']            \n",
            "                                                                                                  \n",
            " type (Dense)                   (None, 24)           1356312     ['tf.concat_1[0][0]']            \n",
            "                                                                                                  \n",
            "==================================================================================================\n",
            "Total params: 3,668,699\n",
            "Trainable params: 3,668,699\n",
            "Non-trainable params: 0\n",
            "__________________________________________________________________________________________________\n"
          ]
        }
      ]
    },
    {
      "cell_type": "code",
      "source": [
        "# Training model\n",
        "history = model2.fit(\n",
        "    x={\n",
        "        'summary': x_train_text_id,\n",
        "        'image': x_train_image\n",
        "    },\n",
        "    y={\n",
        "        'type': y_train_type,\n",
        "        'price': y_train_price,\n",
        "    },\n",
        "    epochs=5,\n",
        "    batch_size=27,\n",
        "    validation_split=0.2,\n",
        "    verbose=1\n",
        ")"
      ],
      "metadata": {
        "colab": {
          "base_uri": "https://localhost:8080/"
        },
        "id": "CCFQVARrOSTX",
        "outputId": "856161c5-044e-4c7b-ad84-826c0112a834"
      },
      "execution_count": 48,
      "outputs": [
        {
          "output_type": "stream",
          "name": "stdout",
          "text": [
            "Epoch 1/5\n",
            "218/218 [==============================] - 112s 494ms/step - loss: 165.0493 - price_loss: 156.5191 - type_loss: 173.5794 - price_sparse_categorical_accuracy: 0.5092 - type_sparse_categorical_accuracy: 0.5857 - val_loss: 70.3297 - val_price_loss: 61.5314 - val_type_loss: 79.1280 - val_price_sparse_categorical_accuracy: 0.6037 - val_type_sparse_categorical_accuracy: 0.7415\n",
            "Epoch 2/5\n",
            "218/218 [==============================] - 116s 534ms/step - loss: 31.2000 - price_loss: 24.2894 - type_loss: 38.1106 - price_sparse_categorical_accuracy: 0.5621 - type_sparse_categorical_accuracy: 0.6321 - val_loss: 23.8770 - val_price_loss: 17.0420 - val_type_loss: 30.7119 - val_price_sparse_categorical_accuracy: 0.5778 - val_type_sparse_categorical_accuracy: 0.5805\n",
            "Epoch 3/5\n",
            "218/218 [==============================] - 114s 524ms/step - loss: 10.7950 - price_loss: 8.9031 - type_loss: 12.6869 - price_sparse_categorical_accuracy: 0.6343 - type_sparse_categorical_accuracy: 0.7061 - val_loss: 16.6342 - val_price_loss: 10.8253 - val_type_loss: 22.4430 - val_price_sparse_categorical_accuracy: 0.5607 - val_type_sparse_categorical_accuracy: 0.6623\n",
            "Epoch 4/5\n",
            "218/218 [==============================] - 114s 523ms/step - loss: 6.1804 - price_loss: 6.2019 - type_loss: 6.1588 - price_sparse_categorical_accuracy: 0.6749 - type_sparse_categorical_accuracy: 0.7768 - val_loss: 15.3771 - val_price_loss: 10.8050 - val_type_loss: 19.9492 - val_price_sparse_categorical_accuracy: 0.5314 - val_type_sparse_categorical_accuracy: 0.7285\n",
            "Epoch 5/5\n",
            "218/218 [==============================] - 111s 512ms/step - loss: 4.1423 - price_loss: 4.6095 - type_loss: 3.6750 - price_sparse_categorical_accuracy: 0.7256 - type_sparse_categorical_accuracy: 0.8213 - val_loss: 15.8142 - val_price_loss: 12.8039 - val_type_loss: 18.8244 - val_price_sparse_categorical_accuracy: 0.4918 - val_type_sparse_categorical_accuracy: 0.6733\n"
          ]
        }
      ]
    },
    {
      "cell_type": "code",
      "source": [
        "price_cat_pred = predictions(x_test_text, x_test_image, model2)\n",
        "\n",
        "submission_file(df_test, price_cat_pred, 'submission_trial_1.csv')"
      ],
      "metadata": {
        "colab": {
          "base_uri": "https://localhost:8080/"
        },
        "id": "eOyJUbHhQ-Wl",
        "outputId": "445fc4ee-8393-4153-bc5b-6cb95062e191"
      },
      "execution_count": 49,
      "outputs": [
        {
          "output_type": "stream",
          "name": "stdout",
          "text": [
            "230/230 [==============================] - 37s 159ms/step\n"
          ]
        }
      ]
    },
    {
      "cell_type": "markdown",
      "source": [
        "> Thoughts and observations for trial 1\n",
        "\n",
        "the model is underfitting and gives:\n",
        "* Accuracy in training : `62%` \n",
        "* Accuracy in validation : `55%` \n",
        "* Accuracy in test : `50%`\n",
        "\n",
        "\n",
        "> plan for trial 2\n",
        "\n",
        "* **GRU**\n",
        "* minimize dropout = 0.1\n",
        "* increase epochs = 10\n",
        "* EarlyStopping \n",
        "* patience = 3"
      ],
      "metadata": {
        "id": "vHHfhPOSIpze"
      }
    },
    {
      "cell_type": "markdown",
      "source": [
        "### Trial (2)\n",
        "\n",
        "* GRU \n",
        "* droupout = 0.1\n",
        "* adam optimizer\n",
        "* batch size = 27\n",
        "* validation split = 0.2"
      ],
      "metadata": {
        "id": "7mYlwHRGL5_U"
      }
    },
    {
      "cell_type": "code",
      "source": [
        "\n",
        "# two inputs. one for image and the other for text.\n",
        "txt_input = keras.Input(batch_shape=(None, max_len))\n",
        "img_input = keras.Input(batch_shape=(None, 128, 128, 2))\n",
        "\n",
        "# text part\n",
        "# simple average of embedding with GRU.\n",
        "embedded = keras.layers.Embedding(tokenizer.num_words, 150)(txt_input)\n",
        "gru = keras.layers.GRU(256, dropout=0.2, return_sequences=True)(embedded)\n",
        "averaged = tf.reduce_mean(gru, axis=1)\n",
        "\n",
        "\n",
        "# image part \n",
        "# simple conv2d. \n",
        "cov = Conv2D(32, (3, 3))(img_input)\n",
        "pl = MaxPooling2D((3, 3))(cov)\n",
        "drop = Dropout(0.1)(pl)\n",
        "flattened = Flatten()(drop)\n",
        "\n",
        "\n",
        "# fusion - combinig both\n",
        "fused = tf.concat([averaged, flattened], axis=-1)\n",
        "\n",
        "# multi-task learning (each is a multi-class classification)\n",
        "# one dense layer for each task\n",
        "p_type = Dense(len_type, activation='softmax', name='type')(fused)\n",
        "p_price = Dense(len_price, activation='softmax', name='price')(fused)\n",
        "\n",
        "\n",
        "# model input/output .\n",
        "model3 = keras.Model(\n",
        "    inputs={\n",
        "        'summary': txt_input,\n",
        "        'image': img_input\n",
        "    },\n",
        "    outputs={\n",
        "        'type': p_type,\n",
        "        'price': p_price,\n",
        "    },\n",
        ")\n",
        "\n",
        "\n",
        "# compile model with loss values & loss weights for each task.\n",
        "model3.compile(\n",
        "    optimizer=Adam(),\n",
        "    loss={\n",
        "        'type': 'sparse_categorical_crossentropy',\n",
        "        'price': 'sparse_categorical_crossentropy',\n",
        "    },\n",
        "    loss_weights={\n",
        "        'type': 0.5,\n",
        "        'price': 0.5,       \n",
        "    },\n",
        "    metrics={\n",
        "        'type': ['SparseCategoricalAccuracy'],\n",
        "        'price': ['SparseCategoricalAccuracy'],\n",
        "    },\n",
        ")\n",
        "\n",
        "\n",
        "model3.summary()"
      ],
      "metadata": {
        "colab": {
          "base_uri": "https://localhost:8080/"
        },
        "id": "xtNaElUjlSOD",
        "outputId": "03041a35-b934-4d9f-e805-5669e4cfb197"
      },
      "execution_count": 50,
      "outputs": [
        {
          "output_type": "stream",
          "name": "stdout",
          "text": [
            "Model: \"model_2\"\n",
            "__________________________________________________________________________________________________\n",
            " Layer (type)                   Output Shape         Param #     Connected to                     \n",
            "==================================================================================================\n",
            " input_6 (InputLayer)           [(None, 128, 128, 2  0           []                               \n",
            "                                )]                                                                \n",
            "                                                                                                  \n",
            " input_5 (InputLayer)           [(None, 150)]        0           []                               \n",
            "                                                                                                  \n",
            " conv2d_2 (Conv2D)              (None, 126, 126, 32  608         ['input_6[0][0]']                \n",
            "                                )                                                                 \n",
            "                                                                                                  \n",
            " embedding_2 (Embedding)        (None, 150, 150)     3150000     ['input_5[0][0]']                \n",
            "                                                                                                  \n",
            " max_pooling2d_2 (MaxPooling2D)  (None, 42, 42, 32)  0           ['conv2d_2[0][0]']               \n",
            "                                                                                                  \n",
            " gru (GRU)                      (None, 150, 256)     313344      ['embedding_2[0][0]']            \n",
            "                                                                                                  \n",
            " dropout_1 (Dropout)            (None, 42, 42, 32)   0           ['max_pooling2d_2[0][0]']        \n",
            "                                                                                                  \n",
            " tf.math.reduce_mean_2 (TFOpLam  (None, 256)         0           ['gru[0][0]']                    \n",
            " bda)                                                                                             \n",
            "                                                                                                  \n",
            " flatten_2 (Flatten)            (None, 56448)        0           ['dropout_1[0][0]']              \n",
            "                                                                                                  \n",
            " tf.concat_2 (TFOpLambda)       (None, 56704)        0           ['tf.math.reduce_mean_2[0][0]',  \n",
            "                                                                  'flatten_2[0][0]']              \n",
            "                                                                                                  \n",
            " price (Dense)                  (None, 3)            170115      ['tf.concat_2[0][0]']            \n",
            "                                                                                                  \n",
            " type (Dense)                   (None, 24)           1360920     ['tf.concat_2[0][0]']            \n",
            "                                                                                                  \n",
            "==================================================================================================\n",
            "Total params: 4,994,987\n",
            "Trainable params: 4,994,987\n",
            "Non-trainable params: 0\n",
            "__________________________________________________________________________________________________\n"
          ]
        }
      ]
    },
    {
      "cell_type": "code",
      "source": [
        "# Training model\n",
        "history = model3.fit(\n",
        "    x={\n",
        "        'summary': x_train_text_id,\n",
        "        'image': x_train_image\n",
        "    },\n",
        "    y={\n",
        "        'type': y_train_type,\n",
        "        'price': y_train_price,\n",
        "    },\n",
        "    epochs=10,\n",
        "    batch_size=27,\n",
        "    validation_split=0.2,\n",
        "        callbacks=[\n",
        "        tf.keras.callbacks.EarlyStopping(monitor='val_price_loss', patience=3)\n",
        "    ],\n",
        "    verbose=1\n",
        ")"
      ],
      "metadata": {
        "colab": {
          "base_uri": "https://localhost:8080/"
        },
        "id": "fyfjXItqlSQr",
        "outputId": "808584b2-725e-4cea-a864-ae7fbd210688"
      },
      "execution_count": 51,
      "outputs": [
        {
          "output_type": "stream",
          "name": "stdout",
          "text": [
            "Epoch 1/10\n",
            "218/218 [==============================] - 210s 946ms/step - loss: 208.0747 - price_loss: 134.9527 - type_loss: 281.1969 - price_sparse_categorical_accuracy: 0.5167 - type_sparse_categorical_accuracy: 0.5846 - val_loss: 136.8634 - val_price_loss: 34.4209 - val_type_loss: 239.3059 - val_price_sparse_categorical_accuracy: 0.5089 - val_type_sparse_categorical_accuracy: 0.0655\n",
            "Epoch 2/10\n",
            "218/218 [==============================] - 202s 928ms/step - loss: 38.8171 - price_loss: 28.1243 - type_loss: 49.5098 - price_sparse_categorical_accuracy: 0.5580 - type_sparse_categorical_accuracy: 0.6155 - val_loss: 25.9654 - val_price_loss: 17.7825 - val_type_loss: 34.1483 - val_price_sparse_categorical_accuracy: 0.5443 - val_type_sparse_categorical_accuracy: 0.6801\n",
            "Epoch 3/10\n",
            "218/218 [==============================] - 202s 925ms/step - loss: 15.9789 - price_loss: 11.5201 - type_loss: 20.4377 - price_sparse_categorical_accuracy: 0.6089 - type_sparse_categorical_accuracy: 0.6903 - val_loss: 31.6249 - val_price_loss: 18.8935 - val_type_loss: 44.3564 - val_price_sparse_categorical_accuracy: 0.5273 - val_type_sparse_categorical_accuracy: 0.7401\n",
            "Epoch 4/10\n",
            "218/218 [==============================] - 197s 900ms/step - loss: 10.7129 - price_loss: 8.3632 - type_loss: 13.0626 - price_sparse_categorical_accuracy: 0.6734 - type_sparse_categorical_accuracy: 0.7490 - val_loss: 22.1774 - val_price_loss: 16.3047 - val_type_loss: 28.0501 - val_price_sparse_categorical_accuracy: 0.4754 - val_type_sparse_categorical_accuracy: 0.6514\n",
            "Epoch 5/10\n",
            "218/218 [==============================] - 200s 920ms/step - loss: 6.1510 - price_loss: 6.1083 - type_loss: 6.1938 - price_sparse_categorical_accuracy: 0.7218 - type_sparse_categorical_accuracy: 0.8087 - val_loss: 20.5800 - val_price_loss: 14.8467 - val_type_loss: 26.3133 - val_price_sparse_categorical_accuracy: 0.5600 - val_type_sparse_categorical_accuracy: 0.6569\n",
            "Epoch 6/10\n",
            "218/218 [==============================] - 201s 923ms/step - loss: 4.4958 - price_loss: 5.3844 - type_loss: 3.6073 - price_sparse_categorical_accuracy: 0.7428 - type_sparse_categorical_accuracy: 0.8539 - val_loss: 19.7277 - val_price_loss: 15.1941 - val_type_loss: 24.2612 - val_price_sparse_categorical_accuracy: 0.5518 - val_type_sparse_categorical_accuracy: 0.7108\n",
            "Epoch 7/10\n",
            "218/218 [==============================] - 201s 924ms/step - loss: 3.7393 - price_loss: 4.6094 - type_loss: 2.8693 - price_sparse_categorical_accuracy: 0.7633 - type_sparse_categorical_accuracy: 0.8737 - val_loss: 20.3693 - val_price_loss: 15.6485 - val_type_loss: 25.0900 - val_price_sparse_categorical_accuracy: 0.5341 - val_type_sparse_categorical_accuracy: 0.6719\n",
            "Epoch 8/10\n",
            "218/218 [==============================] - 201s 924ms/step - loss: 3.1748 - price_loss: 4.0943 - type_loss: 2.2553 - price_sparse_categorical_accuracy: 0.7896 - type_sparse_categorical_accuracy: 0.8898 - val_loss: 19.9091 - val_price_loss: 16.5241 - val_type_loss: 23.2941 - val_price_sparse_categorical_accuracy: 0.5232 - val_type_sparse_categorical_accuracy: 0.6160\n"
          ]
        }
      ]
    },
    {
      "cell_type": "code",
      "source": [
        "price_cat_pred = predictions(x_test_text, x_test_image, model3)\n",
        "\n",
        "submission_file(df_test, price_cat_pred, 'submission_trial_2.csv')"
      ],
      "metadata": {
        "colab": {
          "base_uri": "https://localhost:8080/"
        },
        "id": "ZEnIF_EylSTJ",
        "outputId": "9590007b-6140-4ec8-a1b6-c93c57367905"
      },
      "execution_count": null,
      "outputs": [
        {
          "output_type": "stream",
          "name": "stdout",
          "text": [
            "223/230 [============================>.] - ETA: 1s"
          ]
        }
      ]
    },
    {
      "cell_type": "markdown",
      "source": [
        "> Thoughts and observations for trial 2\n",
        "\n",
        "the model is still underfitting and gives:\n",
        "* Accuracy in training : `67%` \n",
        "* Accuracy in validation : `53%` \n",
        "* Accuracy in test : `50%`\n",
        "\n",
        "\n",
        "> plan for trial 3\n",
        "\n",
        "* Bidirectional\n",
        "* remove dropout \n",
        "* increase epochs = 20\n",
        "* EarlyStopping & patience = 5\n"
      ],
      "metadata": {
        "id": "AmZiEfQ9MyYj"
      }
    },
    {
      "cell_type": "markdown",
      "source": [
        "### Trial (3)\n",
        "\n",
        "*  Bidirectional \n",
        "* droupout = removed\n",
        "* adam optimizer\n",
        "* batch size = 17\n",
        "* validation split = 0.2"
      ],
      "metadata": {
        "id": "QVM1B7x_Nv91"
      }
    },
    {
      "cell_type": "code",
      "source": [
        "# two inputs. one for image and the other for text.\n",
        "txt_input = keras.Input(batch_shape=(None, max_len))\n",
        "img_input = keras.Input(batch_shape=(None, 128, 128, 2))\n",
        "\n",
        "# text part\n",
        "# simple average of embedding with Bidirectional. \n",
        "embedded = keras.layers.Embedding(tokenizer.num_words, 150)(txt_input)\n",
        "bidirectional = keras.layers.Bidirectional(LSTM(128, return_sequences=True))(embedded)\n",
        "averaged = tf.reduce_mean(bidirectional, axis=1)\n",
        "\n",
        "\n",
        "# image part \n",
        "# simple conv2d. \n",
        "cov = Conv2D(32, (3, 3))(img_input)\n",
        "pl = MaxPooling2D((3, 3))(cov)\n",
        "flattened = Flatten()(pl)\n",
        "\n",
        "\n",
        "# fusion - combinig both\n",
        "fused = tf.concat([averaged, flattened], axis=-1)\n",
        "\n",
        "# multi-task learning (each is a multi-class classification)\n",
        "# one dense layer for each task\n",
        "p_type = Dense(len_type, activation='softmax', name='type')(fused)\n",
        "p_price = Dense(len_price, activation='softmax', name='price')(fused)\n",
        "\n",
        "\n",
        "# define model input/output.\n",
        "model4 = keras.Model(\n",
        "    inputs={\n",
        "        'summary': txt_input,\n",
        "        'image': img_input\n",
        "    },\n",
        "    outputs={\n",
        "        'type': p_type,\n",
        "        'price': p_price,\n",
        "    },\n",
        ")\n",
        "\n",
        "\n",
        "# compile model with loss values & loss weights for each task.\n",
        "model4.compile(\n",
        "    optimizer=Adam(),\n",
        "    loss={\n",
        "        'type': 'sparse_categorical_crossentropy',\n",
        "        'price': 'sparse_categorical_crossentropy',\n",
        "    },\n",
        "    loss_weights={\n",
        "        'type': 0.5,\n",
        "        'price': 0.5,       \n",
        "    },\n",
        "    metrics={\n",
        "        'type': ['SparseCategoricalAccuracy'],\n",
        "        'price': ['SparseCategoricalAccuracy'],\n",
        "    },\n",
        ")\n",
        "\n",
        "\n",
        "model4.summary()"
      ],
      "metadata": {
        "id": "4SbS5AHUMvar"
      },
      "execution_count": null,
      "outputs": []
    },
    {
      "cell_type": "code",
      "source": [
        "# Training model\n",
        "history = model4.fit(\n",
        "    x={\n",
        "        'summary': x_train_text_id,\n",
        "        'image': x_train_image\n",
        "    },\n",
        "    y={\n",
        "        'type': y_train_type,\n",
        "        'price': y_train_price,\n",
        "    },\n",
        "    epochs=20,\n",
        "    batch_size=17,\n",
        "    validation_split=0.2,\n",
        "        callbacks=[\n",
        "        tf.keras.callbacks.EarlyStopping(monitor='val_price_loss', patience=5)\n",
        "    ],\n",
        "    verbose=1\n",
        ")"
      ],
      "metadata": {
        "colab": {
          "base_uri": "https://localhost:8080/"
        },
        "id": "Ej9n7lWFlU2D",
        "outputId": "0e46840e-a69d-4800-bc01-e48f8d9cc1e7"
      },
      "execution_count": null,
      "outputs": [
        {
          "output_type": "stream",
          "name": "stdout",
          "text": [
            "Epoch 1/20\n",
            "218/218 [==============================] - 225s 1s/step - loss: 198.3853 - price_loss: 175.3914 - type_loss: 221.3789 - price_sparse_categorical_accuracy: 0.5087 - type_sparse_categorical_accuracy: 0.5829 - val_loss: 53.3620 - val_price_loss: 42.6450 - val_type_loss: 64.0790 - val_price_sparse_categorical_accuracy: 0.3540 - val_type_sparse_categorical_accuracy: 0.4386\n",
            "Epoch 2/20\n",
            "218/218 [==============================] - 208s 954ms/step - loss: 33.2514 - price_loss: 25.3629 - type_loss: 41.1399 - price_sparse_categorical_accuracy: 0.5623 - type_sparse_categorical_accuracy: 0.6213 - val_loss: 40.1301 - val_price_loss: 24.5114 - val_type_loss: 55.7488 - val_price_sparse_categorical_accuracy: 0.4393 - val_type_sparse_categorical_accuracy: 0.2769\n",
            "Epoch 3/20\n",
            "218/218 [==============================] - 218s 998ms/step - loss: 18.3181 - price_loss: 15.4362 - type_loss: 21.2000 - price_sparse_categorical_accuracy: 0.6203 - type_sparse_categorical_accuracy: 0.6891 - val_loss: 28.5045 - val_price_loss: 22.7940 - val_type_loss: 34.2150 - val_price_sparse_categorical_accuracy: 0.5771 - val_type_sparse_categorical_accuracy: 0.7142\n",
            "Epoch 4/20\n",
            "218/218 [==============================] - 219s 1s/step - loss: 9.9778 - price_loss: 8.8611 - type_loss: 11.0946 - price_sparse_categorical_accuracy: 0.6684 - type_sparse_categorical_accuracy: 0.7560 - val_loss: 25.4058 - val_price_loss: 17.3232 - val_type_loss: 33.4884 - val_price_sparse_categorical_accuracy: 0.5075 - val_type_sparse_categorical_accuracy: 0.6016\n",
            "Epoch 5/20\n",
            "218/218 [==============================] - 220s 1s/step - loss: 6.9637 - price_loss: 6.5924 - type_loss: 7.3350 - price_sparse_categorical_accuracy: 0.7150 - type_sparse_categorical_accuracy: 0.7968 - val_loss: 25.3420 - val_price_loss: 17.2904 - val_type_loss: 33.3936 - val_price_sparse_categorical_accuracy: 0.5198 - val_type_sparse_categorical_accuracy: 0.7271\n",
            "Epoch 6/20\n",
            "218/218 [==============================] - 215s 984ms/step - loss: 7.2435 - price_loss: 9.1649 - type_loss: 5.3222 - price_sparse_categorical_accuracy: 0.7063 - type_sparse_categorical_accuracy: 0.8288 - val_loss: 25.1374 - val_price_loss: 20.4081 - val_type_loss: 29.8667 - val_price_sparse_categorical_accuracy: 0.4550 - val_type_sparse_categorical_accuracy: 0.7353\n",
            "Epoch 7/20\n",
            "218/218 [==============================] - 217s 994ms/step - loss: 6.2323 - price_loss: 6.3671 - type_loss: 6.0975 - price_sparse_categorical_accuracy: 0.7500 - type_sparse_categorical_accuracy: 0.8585 - val_loss: 45.4655 - val_price_loss: 18.5160 - val_type_loss: 72.4150 - val_price_sparse_categorical_accuracy: 0.5744 - val_type_sparse_categorical_accuracy: 0.2237\n",
            "Epoch 8/20\n",
            "218/218 [==============================] - 219s 1s/step - loss: 30.9389 - price_loss: 20.6269 - type_loss: 41.2510 - price_sparse_categorical_accuracy: 0.6788 - type_sparse_categorical_accuracy: 0.7101 - val_loss: 34.9150 - val_price_loss: 28.7086 - val_type_loss: 41.1213 - val_price_sparse_categorical_accuracy: 0.3622 - val_type_sparse_categorical_accuracy: 0.5232\n",
            "Epoch 9/20\n",
            "218/218 [==============================] - 217s 992ms/step - loss: 4.4948 - price_loss: 4.2396 - type_loss: 4.7500 - price_sparse_categorical_accuracy: 0.7978 - type_sparse_categorical_accuracy: 0.8669 - val_loss: 30.1669 - val_price_loss: 19.4801 - val_type_loss: 40.8538 - val_price_sparse_categorical_accuracy: 0.5450 - val_type_sparse_categorical_accuracy: 0.6023\n",
            "Epoch 10/20\n",
            " 56/218 [======>.......................] - ETA: 2:24 - loss: 2.2291 - price_loss: 2.0549 - type_loss: 2.4032 - price_sparse_categorical_accuracy: 0.8697 - type_sparse_categorical_accuracy: 0.9153"
          ]
        }
      ]
    },
    {
      "cell_type": "code",
      "source": [
        "price_cat_pred = predictions(x_test_text, x_test_image, model4)\n",
        "\n",
        "submission_file(df_test, price_cat_pred, 'submission_trial_3.csv')"
      ],
      "metadata": {
        "id": "feZoaCiolU4n"
      },
      "execution_count": null,
      "outputs": []
    },
    {
      "cell_type": "markdown",
      "source": [
        "> Thoughts and observations for trial 3\n",
        "the model is  overfitting and gives:\n",
        "* Accuracy in training : `70%` \n",
        "* Accuracy in validation : `44%` \n",
        "* Accuracy in test : `61%`\n",
        "\n",
        "\n",
        "> plan for trial 4\n",
        "\n",
        "* Simple model as NLP task\n",
        "* batch size = 17\n",
        "* validation split = 0.2\n",
        "* EarlyStopping\n",
        "* patience = 3\n",
        "* epochs = 20\n"
      ],
      "metadata": {
        "id": "mP68ZEYAylmI"
      }
    },
    {
      "cell_type": "markdown",
      "source": [
        "### Trial (4)\n",
        "\n",
        "*  Simple model (NLP)\n",
        "* one input - (text data) &  one output (the price)\n",
        "* simple average of embedding\n",
        "* adam optimizer\n",
        "* batch size = 17\n",
        "* validation split = 0.2\n",
        "* EarlyStopping\n",
        "* patience = 3\n",
        "* epochs = 20\n"
      ],
      "metadata": {
        "id": "nYx7CoG_4mCg"
      }
    },
    {
      "cell_type": "code",
      "source": [
        "#  one input for text (AKA NLP).\n",
        "in_text = keras.Input(batch_shape=(None, max_len))\n",
        "\n",
        "# simple average of embedding.\n",
        "embedded = keras.layers.Embedding(tokenizer.num_words, 100)(in_text)\n",
        "averaged = tf.reduce_mean(embedded, axis=1)\n",
        "\n",
        "# one dense layer for the output (price)\n",
        "p_price = Dense(len_price, activation='softmax', name='price')(averaged)\n",
        "\n",
        "\n",
        "# model input/output.\n",
        "model5 = keras.Model(\n",
        "    inputs={\n",
        "        'summary': in_text\n",
        "    },\n",
        "    outputs={\n",
        "        'price': p_price,\n",
        "    },\n",
        ")\n",
        "\n",
        "\n",
        "# compile model  loss values & weights for each task.\n",
        "model5.compile(\n",
        "    optimizer=Adam(),\n",
        "    loss={\n",
        "        'price': 'sparse_categorical_crossentropy'\n",
        "    },\n",
        "    metrics={\n",
        "        'price': ['SparseCategoricalAccuracy']\n",
        "    },\n",
        ")\n",
        "\n",
        "\n",
        "model5.summary()"
      ],
      "metadata": {
        "id": "MUcALQP_lU-9"
      },
      "execution_count": null,
      "outputs": []
    },
    {
      "cell_type": "code",
      "source": [
        "history = model5.fit(\n",
        "    x={\n",
        "        'summary': x_train_text_id\n",
        "    },\n",
        "    y={\n",
        "        'price': y_train_price\n",
        "    },\n",
        "    epochs=20,\n",
        "    batch_size=17,\n",
        "    validation_split=0.2,\n",
        "    callbacks=[tf.keras.callbacks.EarlyStopping(monitor='val_loss', patience=3 )],\n",
        "    verbose=1\n",
        "    )"
      ],
      "metadata": {
        "id": "6VJEjQQr_uKm"
      },
      "execution_count": null,
      "outputs": []
    },
    {
      "cell_type": "code",
      "source": [
        "price_cat_pred = predictions(x_test_text, x_test_image, model5)\n",
        "\n",
        "submission_file(df_test, price_cat_pred, 'submission_trial_4.csv')"
      ],
      "metadata": {
        "id": "6Ls_JK_uAFim"
      },
      "execution_count": null,
      "outputs": []
    },
    {
      "cell_type": "markdown",
      "source": [
        "> Thoughts and observations for trial 4\n",
        "\n",
        "  the model is good fitting and gives:\n",
        "* Accuracy in training : `87%` \n",
        "* Accuracy in validation : `54%` \n",
        "* Accuracy in test : `67%`\n",
        "\n",
        "\n",
        "> plan for trial 5\n",
        "\n",
        "* Simple model as Computer vision task\n",
        "* dropout = 0.1\n",
        "* batch size = 17 \n",
        "* epochs = 20\n",
        "* valid split = 0.2\n",
        "* EarlyStopping & patience = 5\n"
      ],
      "metadata": {
        "id": "iShq5mWuJrxf"
      }
    },
    {
      "cell_type": "markdown",
      "source": [
        "### Trial 5\n",
        "\n",
        "* Simple model (CV)\n",
        "* dropout = 0.1\n",
        "* batch size = 17 \n",
        "* epochs = 20\n",
        "* valid split = 0.2\n",
        "* EarlyStopping & patience = 5"
      ],
      "metadata": {
        "id": "PB1Y1BqxSqOD"
      }
    },
    {
      "cell_type": "code",
      "source": [
        "# one input for image (AKA computer vision).\n",
        "in_image = keras.Input(batch_shape=(None, 128, 128, 2))\n",
        "\n",
        "# simple conv2d. you can change it to anything else as needed\n",
        "cov = Conv2D(32, (3, 3))(in_image)\n",
        "pl = MaxPooling2D((3, 3))(cov)\n",
        "drop = Dropout(0.1)(pl)\n",
        "cov2 = Conv2D(16, (3, 3))(drop)\n",
        "pl2 = MaxPooling2D((3, 3))(cov2)\n",
        "drop2 = Dropout(0.1)(pl2)\n",
        "flattened = Flatten()(drop2)\n",
        "\n",
        "\n",
        "# one dense layer for the output (price)\n",
        "p_price = Dense(len_price, activation='softmax', name='price')(flattened)\n",
        "\n",
        "\n",
        "# model input/output .\n",
        "model6 = keras.Model(\n",
        "    inputs={\n",
        "        'image': in_image\n",
        "    },\n",
        "    outputs={\n",
        "        'price': p_price,\n",
        "    },\n",
        ")\n",
        "\n",
        "\n",
        "# compile model  loss values & loss weights for each task\n",
        "model6.compile(\n",
        "    optimizer=Adam(),\n",
        "    loss={\n",
        "        'price': 'sparse_categorical_crossentropy'\n",
        "    },\n",
        "    metrics={\n",
        "        'price': ['SparseCategoricalAccuracy']\n",
        "    },\n",
        ")\n",
        "\n",
        "\n",
        "model6.summary()"
      ],
      "metadata": {
        "colab": {
          "base_uri": "https://localhost:8080/"
        },
        "id": "tSwUdKVyLhEf",
        "outputId": "5a4b5a8f-55a4-4508-8d01-4d3ca4b104ae"
      },
      "execution_count": 62,
      "outputs": [
        {
          "output_type": "stream",
          "name": "stdout",
          "text": [
            "Model: \"model_5\"\n",
            "_________________________________________________________________\n",
            " Layer (type)                Output Shape              Param #   \n",
            "=================================================================\n",
            " input_13 (InputLayer)       [(None, 128, 128, 2)]     0         \n",
            "                                                                 \n",
            " conv2d_9 (Conv2D)           (None, 126, 126, 32)      608       \n",
            "                                                                 \n",
            " max_pooling2d_6 (MaxPooling  (None, 42, 42, 32)       0         \n",
            " 2D)                                                             \n",
            "                                                                 \n",
            " dropout_4 (Dropout)         (None, 42, 42, 32)        0         \n",
            "                                                                 \n",
            " conv2d_10 (Conv2D)          (None, 40, 40, 16)        4624      \n",
            "                                                                 \n",
            " max_pooling2d_7 (MaxPooling  (None, 13, 13, 16)       0         \n",
            " 2D)                                                             \n",
            "                                                                 \n",
            " dropout_5 (Dropout)         (None, 13, 13, 16)        0         \n",
            "                                                                 \n",
            " flatten_4 (Flatten)         (None, 2704)              0         \n",
            "                                                                 \n",
            " price (Dense)               (None, 3)                 8115      \n",
            "                                                                 \n",
            "=================================================================\n",
            "Total params: 13,347\n",
            "Trainable params: 13,347\n",
            "Non-trainable params: 0\n",
            "_________________________________________________________________\n"
          ]
        }
      ]
    },
    {
      "cell_type": "code",
      "source": [
        "history = model6.fit(\n",
        "    x={\n",
        "        'image': x_train_image\n",
        "    },\n",
        "    y={\n",
        "        'price': y_train_price\n",
        "    },\n",
        "    epochs=20,\n",
        "    batch_size=17,\n",
        "    validation_split=0.2,\n",
        "    callbacks=[tf.keras.callbacks.EarlyStopping(monitor='val_loss', patience=5 )],\n",
        "    verbose=1\n",
        "    )"
      ],
      "metadata": {
        "colab": {
          "base_uri": "https://localhost:8080/"
        },
        "id": "tmBgXItkLhOL",
        "outputId": "dfb59c2b-f451-4bc4-99c2-dd0297ef2da7"
      },
      "execution_count": 63,
      "outputs": [
        {
          "output_type": "stream",
          "name": "stdout",
          "text": [
            "Epoch 1/20\n",
            "345/345 [==============================] - 109s 313ms/step - loss: 11.2054 - sparse_categorical_accuracy: 0.4952 - val_loss: 3.6565 - val_sparse_categorical_accuracy: 0.5532\n",
            "Epoch 2/20\n",
            "345/345 [==============================] - 92s 265ms/step - loss: 3.1970 - sparse_categorical_accuracy: 0.5135 - val_loss: 1.7695 - val_sparse_categorical_accuracy: 0.5198\n",
            "Epoch 3/20\n",
            "345/345 [==============================] - 88s 257ms/step - loss: 1.9407 - sparse_categorical_accuracy: 0.5377 - val_loss: 2.3486 - val_sparse_categorical_accuracy: 0.3486\n",
            "Epoch 4/20\n",
            "345/345 [==============================] - 88s 255ms/step - loss: 1.5525 - sparse_categorical_accuracy: 0.5398 - val_loss: 1.3429 - val_sparse_categorical_accuracy: 0.5205\n",
            "Epoch 5/20\n",
            "345/345 [==============================] - 94s 272ms/step - loss: 1.2743 - sparse_categorical_accuracy: 0.5689 - val_loss: 1.2132 - val_sparse_categorical_accuracy: 0.4768\n",
            "Epoch 6/20\n",
            "345/345 [==============================] - 93s 270ms/step - loss: 1.1821 - sparse_categorical_accuracy: 0.5717 - val_loss: 1.1692 - val_sparse_categorical_accuracy: 0.4761\n",
            "Epoch 7/20\n",
            "345/345 [==============================] - 91s 263ms/step - loss: 1.0847 - sparse_categorical_accuracy: 0.5742 - val_loss: 1.2346 - val_sparse_categorical_accuracy: 0.4686\n",
            "Epoch 8/20\n",
            "345/345 [==============================] - 88s 256ms/step - loss: 1.0169 - sparse_categorical_accuracy: 0.5858 - val_loss: 1.1022 - val_sparse_categorical_accuracy: 0.5075\n",
            "Epoch 9/20\n",
            "345/345 [==============================] - 89s 258ms/step - loss: 1.1065 - sparse_categorical_accuracy: 0.5770 - val_loss: 1.0212 - val_sparse_categorical_accuracy: 0.6016\n",
            "Epoch 10/20\n",
            "345/345 [==============================] - 94s 273ms/step - loss: 0.9769 - sparse_categorical_accuracy: 0.5886 - val_loss: 1.9543 - val_sparse_categorical_accuracy: 0.2080\n",
            "Epoch 11/20\n",
            "345/345 [==============================] - 89s 258ms/step - loss: 1.0631 - sparse_categorical_accuracy: 0.5753 - val_loss: 2.0491 - val_sparse_categorical_accuracy: 0.6207\n",
            "Epoch 12/20\n",
            "345/345 [==============================] - 93s 271ms/step - loss: 1.0651 - sparse_categorical_accuracy: 0.5739 - val_loss: 1.4899 - val_sparse_categorical_accuracy: 0.6221\n",
            "Epoch 13/20\n",
            "345/345 [==============================] - 90s 261ms/step - loss: 1.0271 - sparse_categorical_accuracy: 0.5831 - val_loss: 1.0841 - val_sparse_categorical_accuracy: 0.5218\n",
            "Epoch 14/20\n",
            "345/345 [==============================] - 92s 266ms/step - loss: 1.1371 - sparse_categorical_accuracy: 0.5720 - val_loss: 1.8757 - val_sparse_categorical_accuracy: 0.4079\n"
          ]
        }
      ]
    },
    {
      "cell_type": "code",
      "source": [
        "price_cat_pred = predictions(x_test_text, x_test_image, model6)\n",
        "\n",
        "submission_file(df_test, price_cat_pred, 'submission_trial_5.csv')"
      ],
      "metadata": {
        "id": "Iyv7puMDLyiu"
      },
      "execution_count": null,
      "outputs": []
    },
    {
      "cell_type": "markdown",
      "source": [
        "> Thoughts and observations for trial 5\n",
        "\n",
        "  the model is  good fitting and gives:\n",
        "* Accuracy in training : `52%` \n",
        "* Accuracy in validation : `50%` \n",
        "* Accuracy in test : `67%`\n",
        "\n",
        "\n",
        "> plan for trial 5\n",
        "\n",
        "* Simple model as Computer vision task\n",
        "* dropout = 0.1\n",
        "* batch size = 17 \n",
        "* epochs = 20\n",
        "* valid split = 0.2\n",
        "* EarlyStopping & patience = 5\n"
      ],
      "metadata": {
        "id": "wwzMDUr8rD79"
      }
    },
    {
      "cell_type": "markdown",
      "source": [],
      "metadata": {
        "id": "v7OQzA5pq7QN"
      }
    },
    {
      "cell_type": "markdown",
      "source": [
        "## Transfer learning"
      ],
      "metadata": {
        "id": "tVAD_nkfL4av"
      }
    },
    {
      "cell_type": "markdown",
      "source": [
        " ## VGG16"
      ],
      "metadata": {
        "id": "27IWLleJL8MY"
      }
    },
    {
      "cell_type": "code",
      "source": [
        "# preprocess image data to fit the pretrained model\n",
        "\n",
        "def load_image_rgb(file):\n",
        "    try:\n",
        "        image = Image.open(\n",
        "            file\n",
        "        ).resize((128, 128, 3))\n",
        "        arr = np.array(image)\n",
        "    except:\n",
        "        arr = np.zeros((128, 128, 3))\n",
        "    return arr\n",
        "\n",
        "\n",
        "# loading images:\n",
        "x_train_rgb_image = np.array([load_image_rgb(i) for i in df_train['image']])\n",
        "x_test_rgb_image = np.array([load_image(i) for i in df_test['image']])"
      ],
      "metadata": {
        "id": "WJxH3ikyMJTb"
      },
      "execution_count": null,
      "outputs": []
    },
    {
      "cell_type": "code",
      "source": [
        "# vgg16 model as a feature extraction model\n",
        "from keras.preprocessing.image import load_img\n",
        "from keras.preprocessing.image import img_to_array\n",
        "from keras.applications.vgg16 import preprocess_input\n",
        "from keras.applications.vgg16 import decode_predictions\n",
        "from keras.applications.vgg16 import VGG16\n",
        "from keras.models import Model\n",
        "\n",
        "\n",
        "# one input for image.\n",
        "# configure model and with  a new input shape for images and avg pooling output\n",
        "model_vgg = VGG16(include_top=False, input_shape=(128, 128, 3))\n",
        "\n",
        "\n",
        "# add new classifier layers\n",
        "flat1 = Flatten()(model.layers[-1].output)\n",
        "class1 = Dense(1024, activation='relu')(flat1)\n",
        "output = Dense(len_price, activation='softmax')(class1)\n",
        "# new model config\n",
        "model_vgg = Model(inputs=model.inputs, outputs=output)"
      ],
      "metadata": {
        "id": "DCLKCZbiMP4x"
      },
      "execution_count": null,
      "outputs": []
    },
    {
      "cell_type": "code",
      "source": [
        "model_vgg.compile(\n",
        "    optimizer=Adam(),\n",
        "    loss= 'sparse_categorical_crossentropy',\n",
        "    metrics=['SparseCategoricalAccuracy'],\n",
        ")"
      ],
      "metadata": {
        "id": "tmrnBjk6MTtQ"
      },
      "execution_count": null,
      "outputs": []
    },
    {
      "cell_type": "code",
      "source": [
        "%%time\n",
        "\n",
        "history = model_vgg.fit(\n",
        "    x_train_rgb_image,\n",
        "    y_train_price,\n",
        "    epochs=5,\n",
        "    batch_size=17,\n",
        "    validation_split=0.2,\n",
        "    callbacks=[\n",
        "        tf.keras.callbacks.EarlyStopping(monitor='val_loss', patience=3 )\n",
        "    ],\n",
        "    verbose=1\n",
        ")"
      ],
      "metadata": {
        "colab": {
          "base_uri": "https://localhost:8080/"
        },
        "id": "KBy5hyCOINAi",
        "outputId": "7ad0c244-fc36-4d7e-b255-116a7d9a89ce"
      },
      "execution_count": null,
      "outputs": [
        {
          "output_type": "stream",
          "name": "stdout",
          "text": [
            "Epoch 1/5\n",
            "367/367 [==============================] - 1133s 3s/step - loss: 0.9023 - sparse_categorical_accuracy: 0.6043 - val_loss: 0.8349 - val_sparse_categorical_accuracy: 0.6241\n",
            "Epoch 2/5\n",
            "367/367 [==============================] - 1106s 3s/step - loss: 0.8489 - sparse_categorical_accuracy: 0.6183 - val_loss: 0.8442 - val_sparse_categorical_accuracy: 0.6241\n",
            "Epoch 3/5\n",
            "367/367 [==============================] - 1102s 3s/step - loss: 0.9015 - sparse_categorical_accuracy: 0.6152 - val_loss: 0.8432 - val_sparse_categorical_accuracy: 0.6241\n",
            "Epoch 4/5\n",
            "367/367 [==============================] - 1122s 3s/step - loss: 0.8400 - sparse_categorical_accuracy: 0.6196 - val_loss: 0.8300 - val_sparse_categorical_accuracy: 0.6241\n",
            "Epoch 5/5\n",
            "367/367 [==============================] - 1160s 3s/step - loss: 0.8385 - sparse_categorical_accuracy: 0.6196 - val_loss: 0.8302 - val_sparse_categorical_accuracy: 0.6241\n",
            "CPU times: user 2h 56min 54s, sys: 1min 57s, total: 2h 58min 52s\n",
            "Wall time: 1h 34min 24s\n"
          ]
        }
      ]
    },
    {
      "cell_type": "code",
      "source": [
        "%%time\n",
        "# predictions\n",
        "y_pred = model_vgg.predict(x_test_rgb_image)\n",
        "# price categories\n",
        "price_cat_pred = np.argmax(y_pred, axis=1)"
      ],
      "metadata": {
        "colab": {
          "base_uri": "https://localhost:8080/"
        },
        "id": "aEcUuzeuqO8L",
        "outputId": "0ee12220-ae3a-4179-b869-d5e19bce928e"
      },
      "execution_count": null,
      "outputs": [
        {
          "output_type": "stream",
          "name": "stdout",
          "text": [
            "CPU times: user 9min 42s, sys: 2.02 s, total: 9min 44s\n",
            "Wall time: 6min 12s\n"
          ]
        }
      ]
    },
    {
      "cell_type": "code",
      "source": [
        "submission_file(df_test, price_cat_pred, 'submission_Transfer_learning_vgg.csv')"
      ],
      "metadata": {
        "id": "4hXfgWxtHI7r"
      },
      "execution_count": null,
      "outputs": []
    }
  ],
  "metadata": {
    "colab": {
      "collapsed_sections": [
        "YDCQNe9BWsmg",
        "ky26BdPQPRsT"
      ],
      "provenance": []
    },
    "gpuClass": "standard",
    "kernelspec": {
      "display_name": "Python 3",
      "name": "python3"
    },
    "language_info": {
      "name": "python"
    }
  },
  "nbformat": 4,
  "nbformat_minor": 0
}